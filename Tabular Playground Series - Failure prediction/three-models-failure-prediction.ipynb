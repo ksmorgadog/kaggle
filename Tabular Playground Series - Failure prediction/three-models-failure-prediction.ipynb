{
 "cells": [
  {
   "cell_type": "markdown",
   "id": "6ece558e",
   "metadata": {
    "papermill": {
     "duration": 0.013934,
     "end_time": "2022-08-27T02:02:16.011913",
     "exception": false,
     "start_time": "2022-08-27T02:02:15.997979",
     "status": "completed"
    },
    "tags": []
   },
   "source": [
    "# EDA and comparison of the development of three Machine Learning models\n",
    "\n",
    "In this notebook is the main analysis regarding the Tabular Playground Series of August with the aim of predicting the failure probability of products related to lab measures and conditions.\n",
    "\n",
    "For the beginning, the main libraries are exported, related to the plotting features and the following 3 models that were tested:\n",
    "\n",
    "- XGboost with the tool XGBClassifier\n",
    "- Logistic Regression from Sklearn\n",
    "- Simple neural network from Tensorflow\n",
    "\n",
    "This was accomplished by comparing the accuracy with a validation set."
   ]
  },
  {
   "cell_type": "markdown",
   "id": "9086f5a4",
   "metadata": {
    "papermill": {
     "duration": 0.012745,
     "end_time": "2022-08-27T02:02:16.037310",
     "exception": false,
     "start_time": "2022-08-27T02:02:16.024565",
     "status": "completed"
    },
    "tags": []
   },
   "source": [
    "# Libraries and tools\n",
    "\n",
    "This first cell shows the main libraries divided by methods and a general overview of the data"
   ]
  },
  {
   "cell_type": "code",
   "execution_count": 1,
   "id": "36d5a1ef",
   "metadata": {
    "_cell_guid": "b1076dfc-b9ad-4769-8c92-a6c4dae69d19",
    "_uuid": "8f2839f25d086af736a60e9eeb907d3b93b6e0e5",
    "execution": {
     "iopub.execute_input": "2022-08-27T02:02:16.065694Z",
     "iopub.status.busy": "2022-08-27T02:02:16.064916Z",
     "iopub.status.idle": "2022-08-27T02:02:23.053282Z",
     "shell.execute_reply": "2022-08-27T02:02:23.052348Z"
    },
    "papermill": {
     "duration": 7.00639,
     "end_time": "2022-08-27T02:02:23.056027",
     "exception": false,
     "start_time": "2022-08-27T02:02:16.049637",
     "status": "completed"
    },
    "tags": []
   },
   "outputs": [
    {
     "name": "stdout",
     "output_type": "stream",
     "text": [
      "/kaggle/input/tabular-playground-series-aug-2022/sample_submission.csv\n",
      "/kaggle/input/tabular-playground-series-aug-2022/train.csv\n",
      "/kaggle/input/tabular-playground-series-aug-2022/test.csv\n"
     ]
    }
   ],
   "source": [
    "import numpy as np\n",
    "import pandas as pd\n",
    "import seaborn as sns\n",
    "import matplotlib.pyplot as plt\n",
    "import tensorflow as tf\n",
    "import os\n",
    "#Pipeline\n",
    "from sklearn.pipeline import make_pipeline\n",
    "#Standard scaler\n",
    "from sklearn.preprocessing import StandardScaler\n",
    "#Train - Test split\n",
    "from sklearn.model_selection import train_test_split\n",
    "#GridSearch tool\n",
    "from sklearn.model_selection import GridSearchCV\n",
    "#Main models\n",
    "from xgboost import XGBClassifier\n",
    "from sklearn.linear_model import LogisticRegression\n",
    "#Seeding for replication\n",
    "np.random.seed(1)\n",
    "tf.random.set_seed(156) #1 ya usado\n",
    "#Initial Files\n",
    "for dirname, _, filenames in os.walk('/kaggle/input'):\n",
    "    for filename in filenames:\n",
    "        print(os.path.join(dirname, filename))"
   ]
  },
  {
   "cell_type": "markdown",
   "id": "26f6dcf1",
   "metadata": {
    "papermill": {
     "duration": 0.012349,
     "end_time": "2022-08-27T02:02:23.081313",
     "exception": false,
     "start_time": "2022-08-27T02:02:23.068964",
     "status": "completed"
    },
    "tags": []
   },
   "source": [
    "# Data Analysis\n",
    "\n",
    "Firstly, the train data was loaded to see initial null values and their types"
   ]
  },
  {
   "cell_type": "code",
   "execution_count": 2,
   "id": "b636c112",
   "metadata": {
    "execution": {
     "iopub.execute_input": "2022-08-27T02:02:23.109508Z",
     "iopub.status.busy": "2022-08-27T02:02:23.108037Z",
     "iopub.status.idle": "2022-08-27T02:02:23.266866Z",
     "shell.execute_reply": "2022-08-27T02:02:23.265494Z"
    },
    "papermill": {
     "duration": 0.175692,
     "end_time": "2022-08-27T02:02:23.269689",
     "exception": false,
     "start_time": "2022-08-27T02:02:23.093997",
     "status": "completed"
    },
    "tags": []
   },
   "outputs": [],
   "source": [
    "train=pd.read_csv(\"/kaggle/input/tabular-playground-series-aug-2022/train.csv\")"
   ]
  },
  {
   "cell_type": "code",
   "execution_count": 3,
   "id": "18898496",
   "metadata": {
    "execution": {
     "iopub.execute_input": "2022-08-27T02:02:23.297852Z",
     "iopub.status.busy": "2022-08-27T02:02:23.296562Z",
     "iopub.status.idle": "2022-08-27T02:02:23.330592Z",
     "shell.execute_reply": "2022-08-27T02:02:23.328834Z"
    },
    "papermill": {
     "duration": 0.050516,
     "end_time": "2022-08-27T02:02:23.333207",
     "exception": false,
     "start_time": "2022-08-27T02:02:23.282691",
     "status": "completed"
    },
    "tags": []
   },
   "outputs": [
    {
     "name": "stdout",
     "output_type": "stream",
     "text": [
      "<class 'pandas.core.frame.DataFrame'>\n",
      "RangeIndex: 26570 entries, 0 to 26569\n",
      "Data columns (total 26 columns):\n",
      " #   Column          Non-Null Count  Dtype  \n",
      "---  ------          --------------  -----  \n",
      " 0   id              26570 non-null  int64  \n",
      " 1   product_code    26570 non-null  object \n",
      " 2   loading         26320 non-null  float64\n",
      " 3   attribute_0     26570 non-null  object \n",
      " 4   attribute_1     26570 non-null  object \n",
      " 5   attribute_2     26570 non-null  int64  \n",
      " 6   attribute_3     26570 non-null  int64  \n",
      " 7   measurement_0   26570 non-null  int64  \n",
      " 8   measurement_1   26570 non-null  int64  \n",
      " 9   measurement_2   26570 non-null  int64  \n",
      " 10  measurement_3   26189 non-null  float64\n",
      " 11  measurement_4   26032 non-null  float64\n",
      " 12  measurement_5   25894 non-null  float64\n",
      " 13  measurement_6   25774 non-null  float64\n",
      " 14  measurement_7   25633 non-null  float64\n",
      " 15  measurement_8   25522 non-null  float64\n",
      " 16  measurement_9   25343 non-null  float64\n",
      " 17  measurement_10  25270 non-null  float64\n",
      " 18  measurement_11  25102 non-null  float64\n",
      " 19  measurement_12  24969 non-null  float64\n",
      " 20  measurement_13  24796 non-null  float64\n",
      " 21  measurement_14  24696 non-null  float64\n",
      " 22  measurement_15  24561 non-null  float64\n",
      " 23  measurement_16  24460 non-null  float64\n",
      " 24  measurement_17  24286 non-null  float64\n",
      " 25  failure         26570 non-null  int64  \n",
      "dtypes: float64(16), int64(7), object(3)\n",
      "memory usage: 5.3+ MB\n"
     ]
    }
   ],
   "source": [
    "train.info()"
   ]
  },
  {
   "cell_type": "markdown",
   "id": "5041dc08",
   "metadata": {
    "papermill": {
     "duration": 0.012358,
     "end_time": "2022-08-27T02:02:23.358215",
     "exception": false,
     "start_time": "2022-08-27T02:02:23.345857",
     "status": "completed"
    },
    "tags": []
   },
   "source": [
    "The initial data shows that most of the columns have null values. To complement this the first 5 rows of information are shown in the next cell"
   ]
  },
  {
   "cell_type": "code",
   "execution_count": 4,
   "id": "95cb47a4",
   "metadata": {
    "execution": {
     "iopub.execute_input": "2022-08-27T02:02:23.385332Z",
     "iopub.status.busy": "2022-08-27T02:02:23.384866Z",
     "iopub.status.idle": "2022-08-27T02:02:23.421089Z",
     "shell.execute_reply": "2022-08-27T02:02:23.420262Z"
    },
    "papermill": {
     "duration": 0.05228,
     "end_time": "2022-08-27T02:02:23.423109",
     "exception": false,
     "start_time": "2022-08-27T02:02:23.370829",
     "status": "completed"
    },
    "tags": []
   },
   "outputs": [
    {
     "data": {
      "text/html": [
       "<div>\n",
       "<style scoped>\n",
       "    .dataframe tbody tr th:only-of-type {\n",
       "        vertical-align: middle;\n",
       "    }\n",
       "\n",
       "    .dataframe tbody tr th {\n",
       "        vertical-align: top;\n",
       "    }\n",
       "\n",
       "    .dataframe thead th {\n",
       "        text-align: right;\n",
       "    }\n",
       "</style>\n",
       "<table border=\"1\" class=\"dataframe\">\n",
       "  <thead>\n",
       "    <tr style=\"text-align: right;\">\n",
       "      <th></th>\n",
       "      <th>id</th>\n",
       "      <th>product_code</th>\n",
       "      <th>loading</th>\n",
       "      <th>attribute_0</th>\n",
       "      <th>attribute_1</th>\n",
       "      <th>attribute_2</th>\n",
       "      <th>attribute_3</th>\n",
       "      <th>measurement_0</th>\n",
       "      <th>measurement_1</th>\n",
       "      <th>measurement_2</th>\n",
       "      <th>...</th>\n",
       "      <th>measurement_9</th>\n",
       "      <th>measurement_10</th>\n",
       "      <th>measurement_11</th>\n",
       "      <th>measurement_12</th>\n",
       "      <th>measurement_13</th>\n",
       "      <th>measurement_14</th>\n",
       "      <th>measurement_15</th>\n",
       "      <th>measurement_16</th>\n",
       "      <th>measurement_17</th>\n",
       "      <th>failure</th>\n",
       "    </tr>\n",
       "  </thead>\n",
       "  <tbody>\n",
       "    <tr>\n",
       "      <th>0</th>\n",
       "      <td>0</td>\n",
       "      <td>A</td>\n",
       "      <td>80.10</td>\n",
       "      <td>material_7</td>\n",
       "      <td>material_8</td>\n",
       "      <td>9</td>\n",
       "      <td>5</td>\n",
       "      <td>7</td>\n",
       "      <td>8</td>\n",
       "      <td>4</td>\n",
       "      <td>...</td>\n",
       "      <td>10.672</td>\n",
       "      <td>15.859</td>\n",
       "      <td>17.594</td>\n",
       "      <td>15.193</td>\n",
       "      <td>15.029</td>\n",
       "      <td>NaN</td>\n",
       "      <td>13.034</td>\n",
       "      <td>14.684</td>\n",
       "      <td>764.100</td>\n",
       "      <td>0</td>\n",
       "    </tr>\n",
       "    <tr>\n",
       "      <th>1</th>\n",
       "      <td>1</td>\n",
       "      <td>A</td>\n",
       "      <td>84.89</td>\n",
       "      <td>material_7</td>\n",
       "      <td>material_8</td>\n",
       "      <td>9</td>\n",
       "      <td>5</td>\n",
       "      <td>14</td>\n",
       "      <td>3</td>\n",
       "      <td>3</td>\n",
       "      <td>...</td>\n",
       "      <td>12.448</td>\n",
       "      <td>17.947</td>\n",
       "      <td>17.915</td>\n",
       "      <td>11.755</td>\n",
       "      <td>14.732</td>\n",
       "      <td>15.425</td>\n",
       "      <td>14.395</td>\n",
       "      <td>15.631</td>\n",
       "      <td>682.057</td>\n",
       "      <td>0</td>\n",
       "    </tr>\n",
       "    <tr>\n",
       "      <th>2</th>\n",
       "      <td>2</td>\n",
       "      <td>A</td>\n",
       "      <td>82.43</td>\n",
       "      <td>material_7</td>\n",
       "      <td>material_8</td>\n",
       "      <td>9</td>\n",
       "      <td>5</td>\n",
       "      <td>12</td>\n",
       "      <td>1</td>\n",
       "      <td>5</td>\n",
       "      <td>...</td>\n",
       "      <td>12.715</td>\n",
       "      <td>15.607</td>\n",
       "      <td>NaN</td>\n",
       "      <td>13.798</td>\n",
       "      <td>16.711</td>\n",
       "      <td>18.631</td>\n",
       "      <td>14.094</td>\n",
       "      <td>17.946</td>\n",
       "      <td>663.376</td>\n",
       "      <td>0</td>\n",
       "    </tr>\n",
       "    <tr>\n",
       "      <th>3</th>\n",
       "      <td>3</td>\n",
       "      <td>A</td>\n",
       "      <td>101.07</td>\n",
       "      <td>material_7</td>\n",
       "      <td>material_8</td>\n",
       "      <td>9</td>\n",
       "      <td>5</td>\n",
       "      <td>13</td>\n",
       "      <td>2</td>\n",
       "      <td>6</td>\n",
       "      <td>...</td>\n",
       "      <td>12.471</td>\n",
       "      <td>16.346</td>\n",
       "      <td>18.377</td>\n",
       "      <td>10.020</td>\n",
       "      <td>15.250</td>\n",
       "      <td>15.562</td>\n",
       "      <td>16.154</td>\n",
       "      <td>17.172</td>\n",
       "      <td>826.282</td>\n",
       "      <td>0</td>\n",
       "    </tr>\n",
       "    <tr>\n",
       "      <th>4</th>\n",
       "      <td>4</td>\n",
       "      <td>A</td>\n",
       "      <td>188.06</td>\n",
       "      <td>material_7</td>\n",
       "      <td>material_8</td>\n",
       "      <td>9</td>\n",
       "      <td>5</td>\n",
       "      <td>9</td>\n",
       "      <td>2</td>\n",
       "      <td>8</td>\n",
       "      <td>...</td>\n",
       "      <td>10.337</td>\n",
       "      <td>17.082</td>\n",
       "      <td>19.932</td>\n",
       "      <td>12.428</td>\n",
       "      <td>16.182</td>\n",
       "      <td>12.760</td>\n",
       "      <td>13.153</td>\n",
       "      <td>16.412</td>\n",
       "      <td>579.885</td>\n",
       "      <td>0</td>\n",
       "    </tr>\n",
       "  </tbody>\n",
       "</table>\n",
       "<p>5 rows × 26 columns</p>\n",
       "</div>"
      ],
      "text/plain": [
       "   id product_code  loading attribute_0 attribute_1  attribute_2  attribute_3  \\\n",
       "0   0            A    80.10  material_7  material_8            9            5   \n",
       "1   1            A    84.89  material_7  material_8            9            5   \n",
       "2   2            A    82.43  material_7  material_8            9            5   \n",
       "3   3            A   101.07  material_7  material_8            9            5   \n",
       "4   4            A   188.06  material_7  material_8            9            5   \n",
       "\n",
       "   measurement_0  measurement_1  measurement_2  ...  measurement_9  \\\n",
       "0              7              8              4  ...         10.672   \n",
       "1             14              3              3  ...         12.448   \n",
       "2             12              1              5  ...         12.715   \n",
       "3             13              2              6  ...         12.471   \n",
       "4              9              2              8  ...         10.337   \n",
       "\n",
       "   measurement_10  measurement_11  measurement_12  measurement_13  \\\n",
       "0          15.859          17.594          15.193          15.029   \n",
       "1          17.947          17.915          11.755          14.732   \n",
       "2          15.607             NaN          13.798          16.711   \n",
       "3          16.346          18.377          10.020          15.250   \n",
       "4          17.082          19.932          12.428          16.182   \n",
       "\n",
       "   measurement_14  measurement_15  measurement_16  measurement_17  failure  \n",
       "0             NaN          13.034          14.684         764.100        0  \n",
       "1          15.425          14.395          15.631         682.057        0  \n",
       "2          18.631          14.094          17.946         663.376        0  \n",
       "3          15.562          16.154          17.172         826.282        0  \n",
       "4          12.760          13.153          16.412         579.885        0  \n",
       "\n",
       "[5 rows x 26 columns]"
      ]
     },
     "execution_count": 4,
     "metadata": {},
     "output_type": "execute_result"
    }
   ],
   "source": [
    "train.head()"
   ]
  },
  {
   "cell_type": "markdown",
   "id": "ec9d050f",
   "metadata": {
    "papermill": {
     "duration": 0.01273,
     "end_time": "2022-08-27T02:02:23.449267",
     "exception": false,
     "start_time": "2022-08-27T02:02:23.436537",
     "status": "completed"
    },
    "tags": []
   },
   "source": [
    "As a way of being able to use all data the missing information was filled with the mean of the column, checking that 16 columns have at least 1 missing value"
   ]
  },
  {
   "cell_type": "code",
   "execution_count": 5,
   "id": "cc607011",
   "metadata": {
    "execution": {
     "iopub.execute_input": "2022-08-27T02:02:23.477020Z",
     "iopub.status.busy": "2022-08-27T02:02:23.476629Z",
     "iopub.status.idle": "2022-08-27T02:02:23.506272Z",
     "shell.execute_reply": "2022-08-27T02:02:23.504763Z"
    },
    "papermill": {
     "duration": 0.047095,
     "end_time": "2022-08-27T02:02:23.509304",
     "exception": false,
     "start_time": "2022-08-27T02:02:23.462209",
     "status": "completed"
    },
    "tags": []
   },
   "outputs": [
    {
     "name": "stdout",
     "output_type": "stream",
     "text": [
      "Columns with missing data:  16\n"
     ]
    }
   ],
   "source": [
    "#Checking if there are columns with complete values in train dataset\n",
    "no_null_cols=[]\n",
    "for i in train.columns:\n",
    "    if train[i].isna().value_counts()[0]-len(train[i])<0:\n",
    "        no_null_cols.append(i)\n",
    "print(\"Columns with missing data: \",len(no_null_cols))"
   ]
  },
  {
   "cell_type": "code",
   "execution_count": 6,
   "id": "8139b2b0",
   "metadata": {
    "execution": {
     "iopub.execute_input": "2022-08-27T02:02:23.537871Z",
     "iopub.status.busy": "2022-08-27T02:02:23.537453Z",
     "iopub.status.idle": "2022-08-27T02:02:35.202385Z",
     "shell.execute_reply": "2022-08-27T02:02:35.201371Z"
    },
    "papermill": {
     "duration": 11.682637,
     "end_time": "2022-08-27T02:02:35.205082",
     "exception": false,
     "start_time": "2022-08-27T02:02:23.522445",
     "status": "completed"
    },
    "tags": []
   },
   "outputs": [],
   "source": [
    "#Updating the missing data\n",
    "for col in no_null_cols:\n",
    "    null_cols=train[train[col].isna()].index\n",
    "    for n in null_cols:\n",
    "        train.loc[n,col]=train[col].mean()"
   ]
  },
  {
   "cell_type": "markdown",
   "id": "18d932b0",
   "metadata": {
    "papermill": {
     "duration": 0.012633,
     "end_time": "2022-08-27T02:02:35.230945",
     "exception": false,
     "start_time": "2022-08-27T02:02:35.218312",
     "status": "completed"
    },
    "tags": []
   },
   "source": [
    "Simultaneously, the object columns were transformed to category as a way of working with the models"
   ]
  },
  {
   "cell_type": "code",
   "execution_count": 7,
   "id": "f24ccb63",
   "metadata": {
    "execution": {
     "iopub.execute_input": "2022-08-27T02:02:35.258798Z",
     "iopub.status.busy": "2022-08-27T02:02:35.258375Z",
     "iopub.status.idle": "2022-08-27T02:02:35.264846Z",
     "shell.execute_reply": "2022-08-27T02:02:35.263950Z"
    },
    "papermill": {
     "duration": 0.022955,
     "end_time": "2022-08-27T02:02:35.266843",
     "exception": false,
     "start_time": "2022-08-27T02:02:35.243888",
     "status": "completed"
    },
    "tags": []
   },
   "outputs": [],
   "source": [
    "Categories=[]\n",
    "for i in train.columns:\n",
    "    if train[i].dtype==\"object\":\n",
    "        Categories.append(i)"
   ]
  },
  {
   "cell_type": "code",
   "execution_count": 8,
   "id": "f3cc13eb",
   "metadata": {
    "execution": {
     "iopub.execute_input": "2022-08-27T02:02:35.295155Z",
     "iopub.status.busy": "2022-08-27T02:02:35.294460Z",
     "iopub.status.idle": "2022-08-27T02:02:35.309056Z",
     "shell.execute_reply": "2022-08-27T02:02:35.307837Z"
    },
    "papermill": {
     "duration": 0.031907,
     "end_time": "2022-08-27T02:02:35.311808",
     "exception": false,
     "start_time": "2022-08-27T02:02:35.279901",
     "status": "completed"
    },
    "tags": []
   },
   "outputs": [],
   "source": [
    "for t in Categories:\n",
    "    train[t]=train[t].astype(\"category\")"
   ]
  },
  {
   "cell_type": "markdown",
   "id": "4a3363be",
   "metadata": {
    "papermill": {
     "duration": 0.012851,
     "end_time": "2022-08-27T02:02:35.337653",
     "exception": false,
     "start_time": "2022-08-27T02:02:35.324802",
     "status": "completed"
    },
    "tags": []
   },
   "source": [
    "With these changes, the resulting dataframe is presented"
   ]
  },
  {
   "cell_type": "code",
   "execution_count": 9,
   "id": "4e85828a",
   "metadata": {
    "execution": {
     "iopub.execute_input": "2022-08-27T02:02:35.365671Z",
     "iopub.status.busy": "2022-08-27T02:02:35.364881Z",
     "iopub.status.idle": "2022-08-27T02:02:35.381855Z",
     "shell.execute_reply": "2022-08-27T02:02:35.380615Z"
    },
    "papermill": {
     "duration": 0.034138,
     "end_time": "2022-08-27T02:02:35.384683",
     "exception": false,
     "start_time": "2022-08-27T02:02:35.350545",
     "status": "completed"
    },
    "tags": []
   },
   "outputs": [
    {
     "name": "stdout",
     "output_type": "stream",
     "text": [
      "<class 'pandas.core.frame.DataFrame'>\n",
      "RangeIndex: 26570 entries, 0 to 26569\n",
      "Data columns (total 26 columns):\n",
      " #   Column          Non-Null Count  Dtype   \n",
      "---  ------          --------------  -----   \n",
      " 0   id              26570 non-null  int64   \n",
      " 1   product_code    26570 non-null  category\n",
      " 2   loading         26570 non-null  float64 \n",
      " 3   attribute_0     26570 non-null  category\n",
      " 4   attribute_1     26570 non-null  category\n",
      " 5   attribute_2     26570 non-null  int64   \n",
      " 6   attribute_3     26570 non-null  int64   \n",
      " 7   measurement_0   26570 non-null  int64   \n",
      " 8   measurement_1   26570 non-null  int64   \n",
      " 9   measurement_2   26570 non-null  int64   \n",
      " 10  measurement_3   26570 non-null  float64 \n",
      " 11  measurement_4   26570 non-null  float64 \n",
      " 12  measurement_5   26570 non-null  float64 \n",
      " 13  measurement_6   26570 non-null  float64 \n",
      " 14  measurement_7   26570 non-null  float64 \n",
      " 15  measurement_8   26570 non-null  float64 \n",
      " 16  measurement_9   26570 non-null  float64 \n",
      " 17  measurement_10  26570 non-null  float64 \n",
      " 18  measurement_11  26570 non-null  float64 \n",
      " 19  measurement_12  26570 non-null  float64 \n",
      " 20  measurement_13  26570 non-null  float64 \n",
      " 21  measurement_14  26570 non-null  float64 \n",
      " 22  measurement_15  26570 non-null  float64 \n",
      " 23  measurement_16  26570 non-null  float64 \n",
      " 24  measurement_17  26570 non-null  float64 \n",
      " 25  failure         26570 non-null  int64   \n",
      "dtypes: category(3), float64(16), int64(7)\n",
      "memory usage: 4.7 MB\n"
     ]
    }
   ],
   "source": [
    "train.info()"
   ]
  },
  {
   "cell_type": "markdown",
   "id": "e0dcabde",
   "metadata": {
    "papermill": {
     "duration": 0.012533,
     "end_time": "2022-08-27T02:02:35.410068",
     "exception": false,
     "start_time": "2022-08-27T02:02:35.397535",
     "status": "completed"
    },
    "tags": []
   },
   "source": [
    "## EDA\n",
    "\n",
    "To see the relation of the failure rate to the other columns firstly a histogram is presented to see the information distribution"
   ]
  },
  {
   "cell_type": "code",
   "execution_count": 10,
   "id": "6eb78f04",
   "metadata": {
    "execution": {
     "iopub.execute_input": "2022-08-27T02:02:35.438055Z",
     "iopub.status.busy": "2022-08-27T02:02:35.437225Z",
     "iopub.status.idle": "2022-08-27T02:02:35.715738Z",
     "shell.execute_reply": "2022-08-27T02:02:35.714599Z"
    },
    "papermill": {
     "duration": 0.295471,
     "end_time": "2022-08-27T02:02:35.718375",
     "exception": false,
     "start_time": "2022-08-27T02:02:35.422904",
     "status": "completed"
    },
    "tags": []
   },
   "outputs": [
    {
     "data": {
      "text/plain": [
       "<AxesSubplot:xlabel='failure', ylabel='Count'>"
      ]
     },
     "execution_count": 10,
     "metadata": {},
     "output_type": "execute_result"
    },
    {
     "data": {
      "image/png": "[encoded data removed]",
      "text/plain": [
       "<Figure size 432x288 with 1 Axes>"
      ]
     },
     "metadata": {
      "needs_background": "light"
     },
     "output_type": "display_data"
    }
   ],
   "source": [
    "# failure histogram\n",
    "sns.histplot(data=train,x=\"failure\")"
   ]
  },
  {
   "cell_type": "markdown",
   "id": "340a41d1",
   "metadata": {
    "papermill": {
     "duration": 0.013448,
     "end_time": "2022-08-27T02:02:35.746703",
     "exception": false,
     "start_time": "2022-08-27T02:02:35.733255",
     "status": "completed"
    },
    "tags": []
   },
   "source": [
    "Most of the data correspond to products that didn't fail during the laboratory test. With this in consideration, the following figures show the boxplots between the failure and the rest of the variables, excluding the ID."
   ]
  },
  {
   "cell_type": "code",
   "execution_count": 11,
   "id": "a425d2c7",
   "metadata": {
    "execution": {
     "iopub.execute_input": "2022-08-27T02:02:35.775667Z",
     "iopub.status.busy": "2022-08-27T02:02:35.774705Z",
     "iopub.status.idle": "2022-08-27T02:02:38.807870Z",
     "shell.execute_reply": "2022-08-27T02:02:38.806586Z"
    },
    "papermill": {
     "duration": 3.053346,
     "end_time": "2022-08-27T02:02:38.813537",
     "exception": false,
     "start_time": "2022-08-27T02:02:35.760191",
     "status": "completed"
    },
    "tags": []
   },
   "outputs": [
    {
     "data": {
      "image/png": "[encoded data removed]",
      "text/plain": [
       "<Figure size 1440x2880 with 24 Axes>"
      ]
     },
     "metadata": {
      "needs_background": "light"
     },
     "output_type": "display_data"
    }
   ],
   "source": [
    "# Difference between variables and failure\n",
    "plt.figure(figsize=(20,40))\n",
    "# Count for subplot\n",
    "n=1\n",
    "for i in train.columns:\n",
    "    if i != 'id' and i != 'failure':\n",
    "        plt.subplot(8,3,n)\n",
    "        sns.boxplot(data=train, x=\"failure\", y=i)\n",
    "        n=n+1"
   ]
  },
  {
   "cell_type": "markdown",
   "id": "3c5fc88d",
   "metadata": {
    "papermill": {
     "duration": 0.023631,
     "end_time": "2022-08-27T02:02:38.866236",
     "exception": false,
     "start_time": "2022-08-27T02:02:38.842605",
     "status": "completed"
    },
    "tags": []
   },
   "source": [
    "As it is presented there is no evident difference between most of the measurements regarding Failure, except for loading while the categorical values show that indeed the Failure could be related to outliers.\n",
    "\n",
    "Then, to complement this data an additional correlation heat map was made to eliminate the values that could harm the modeling behavior"
   ]
  },
  {
   "cell_type": "code",
   "execution_count": 12,
   "id": "e1b9ec68",
   "metadata": {
    "execution": {
     "iopub.execute_input": "2022-08-27T02:02:38.903529Z",
     "iopub.status.busy": "2022-08-27T02:02:38.902519Z",
     "iopub.status.idle": "2022-08-27T02:02:39.929047Z",
     "shell.execute_reply": "2022-08-27T02:02:39.927848Z"
    },
    "papermill": {
     "duration": 1.045977,
     "end_time": "2022-08-27T02:02:39.931563",
     "exception": false,
     "start_time": "2022-08-27T02:02:38.885586",
     "status": "completed"
    },
    "tags": []
   },
   "outputs": [
    {
     "data": {
      "text/plain": [
       "<AxesSubplot:>"
      ]
     },
     "execution_count": 12,
     "metadata": {},
     "output_type": "execute_result"
    },
    {
     "data": {
      "image/png": "[encoded data removed]",
      "text/plain": [
       "<Figure size 1440x1440 with 2 Axes>"
      ]
     },
     "metadata": {
      "needs_background": "light"
     },
     "output_type": "display_data"
    }
   ],
   "source": [
    "plt.figure(figsize=(20,20))\n",
    "sns.heatmap(train[train.columns[1:-1]].corr())"
   ]
  },
  {
   "cell_type": "markdown",
   "id": "39f1f564",
   "metadata": {
    "papermill": {
     "duration": 0.015901,
     "end_time": "2022-08-27T02:02:39.964173",
     "exception": false,
     "start_time": "2022-08-27T02:02:39.948272",
     "status": "completed"
    },
    "tags": []
   },
   "source": [
    "Then, the following columns were erased from the total_cols list that contained all the columns' names"
   ]
  },
  {
   "cell_type": "code",
   "execution_count": 13,
   "id": "d14f9724",
   "metadata": {
    "execution": {
     "iopub.execute_input": "2022-08-27T02:02:39.998726Z",
     "iopub.status.busy": "2022-08-27T02:02:39.998332Z",
     "iopub.status.idle": "2022-08-27T02:02:40.004726Z",
     "shell.execute_reply": "2022-08-27T02:02:40.003587Z"
    },
    "papermill": {
     "duration": 0.026599,
     "end_time": "2022-08-27T02:02:40.007057",
     "exception": false,
     "start_time": "2022-08-27T02:02:39.980458",
     "status": "completed"
    },
    "tags": []
   },
   "outputs": [],
   "source": [
    "total_cols=list(train.columns)\n",
    "#Removing columns - strings\n",
    "total_cols.remove(\"id\")\n",
    "total_cols.remove(\"product_code\")\n",
    "total_cols.remove(\"attribute_0\")\n",
    "total_cols.remove(\"attribute_1\")\n",
    "total_cols.remove(\"attribute_2\")\n",
    "total_cols.remove(\"attribute_3\")\n",
    "total_cols.remove(\"measurement_0\")\n",
    "total_cols.remove(\"measurement_1\")"
   ]
  },
  {
   "cell_type": "code",
   "execution_count": 14,
   "id": "e3ec13e2",
   "metadata": {
    "execution": {
     "iopub.execute_input": "2022-08-27T02:02:40.042836Z",
     "iopub.status.busy": "2022-08-27T02:02:40.042131Z",
     "iopub.status.idle": "2022-08-27T02:02:40.048618Z",
     "shell.execute_reply": "2022-08-27T02:02:40.047147Z"
    },
    "papermill": {
     "duration": 0.027104,
     "end_time": "2022-08-27T02:02:40.050817",
     "exception": false,
     "start_time": "2022-08-27T02:02:40.023713",
     "status": "completed"
    },
    "tags": []
   },
   "outputs": [
    {
     "data": {
      "text/plain": [
       "['loading',\n",
       " 'measurement_2',\n",
       " 'measurement_3',\n",
       " 'measurement_4',\n",
       " 'measurement_5',\n",
       " 'measurement_6',\n",
       " 'measurement_7',\n",
       " 'measurement_8',\n",
       " 'measurement_9',\n",
       " 'measurement_10',\n",
       " 'measurement_11',\n",
       " 'measurement_12',\n",
       " 'measurement_13',\n",
       " 'measurement_14',\n",
       " 'measurement_15',\n",
       " 'measurement_16',\n",
       " 'measurement_17',\n",
       " 'failure']"
      ]
     },
     "execution_count": 14,
     "metadata": {},
     "output_type": "execute_result"
    }
   ],
   "source": [
    "total_cols"
   ]
  },
  {
   "cell_type": "markdown",
   "id": "e4513ee1",
   "metadata": {
    "papermill": {
     "duration": 0.016,
     "end_time": "2022-08-27T02:02:40.083194",
     "exception": false,
     "start_time": "2022-08-27T02:02:40.067194",
     "status": "completed"
    },
    "tags": []
   },
   "source": [
    "# Modeling testing\n",
    "\n",
    "To begin with the analysis the train data was transformed to one-hot encoding and then with the resulting data frame, the information was split into train and test sets, with the use of `shuffle=False` to be able to replicate the same result."
   ]
  },
  {
   "cell_type": "code",
   "execution_count": 15,
   "id": "46b14429",
   "metadata": {
    "execution": {
     "iopub.execute_input": "2022-08-27T02:02:40.117710Z",
     "iopub.status.busy": "2022-08-27T02:02:40.117320Z",
     "iopub.status.idle": "2022-08-27T02:02:40.128526Z",
     "shell.execute_reply": "2022-08-27T02:02:40.127551Z"
    },
    "papermill": {
     "duration": 0.031206,
     "end_time": "2022-08-27T02:02:40.130754",
     "exception": false,
     "start_time": "2022-08-27T02:02:40.099548",
     "status": "completed"
    },
    "tags": []
   },
   "outputs": [],
   "source": [
    "#Data transformation\n",
    "train_dum=pd.get_dummies(train[total_cols[:-1]],drop_first=True)"
   ]
  },
  {
   "cell_type": "code",
   "execution_count": 16,
   "id": "b1f89ec3",
   "metadata": {
    "execution": {
     "iopub.execute_input": "2022-08-27T02:02:40.165500Z",
     "iopub.status.busy": "2022-08-27T02:02:40.165092Z",
     "iopub.status.idle": "2022-08-27T02:02:40.175297Z",
     "shell.execute_reply": "2022-08-27T02:02:40.174149Z"
    },
    "papermill": {
     "duration": 0.030454,
     "end_time": "2022-08-27T02:02:40.177745",
     "exception": false,
     "start_time": "2022-08-27T02:02:40.147291",
     "status": "completed"
    },
    "tags": []
   },
   "outputs": [],
   "source": [
    "#Train - test split\n",
    "x_train,x_test, y_train, y_test=train_test_split(train_dum,train[\"failure\"],\n",
    "                                                 test_size=0.3, shuffle=False)"
   ]
  },
  {
   "cell_type": "markdown",
   "id": "90a2d74a",
   "metadata": {
    "papermill": {
     "duration": 0.016321,
     "end_time": "2022-08-27T02:02:40.210699",
     "exception": false,
     "start_time": "2022-08-27T02:02:40.194378",
     "status": "completed"
    },
    "tags": []
   },
   "source": [
    "## XGBoost\n",
    "\n",
    "With the tool of XGBClassifier, the ratio of failure was predicted, comparing the train and test accuracy"
   ]
  },
  {
   "cell_type": "code",
   "execution_count": 17,
   "id": "ad401710",
   "metadata": {
    "execution": {
     "iopub.execute_input": "2022-08-27T02:02:40.245603Z",
     "iopub.status.busy": "2022-08-27T02:02:40.245209Z",
     "iopub.status.idle": "2022-08-27T02:02:51.502084Z",
     "shell.execute_reply": "2022-08-27T02:02:51.500430Z"
    },
    "papermill": {
     "duration": 11.278454,
     "end_time": "2022-08-27T02:02:51.505743",
     "exception": false,
     "start_time": "2022-08-27T02:02:40.227289",
     "status": "completed"
    },
    "tags": []
   },
   "outputs": [
    {
     "name": "stdout",
     "output_type": "stream",
     "text": [
      "[Pipeline] .... (step 1 of 2) Processing standardscaler, total=   0.0s\n",
      "[Pipeline] ..... (step 2 of 2) Processing xgbclassifier, total=  11.2s\n"
     ]
    }
   ],
   "source": [
    "#Training with 0.7 of total data\n",
    "model = make_pipeline(StandardScaler(),XGBClassifier(max_depth=50,\n",
    "                                                    n_estimators=100\n",
    "                                                    ,n_jobs=-1),verbose=True).fit(x_train,y_train)"
   ]
  },
  {
   "cell_type": "code",
   "execution_count": 18,
   "id": "f64014fe",
   "metadata": {
    "execution": {
     "iopub.execute_input": "2022-08-27T02:02:51.542562Z",
     "iopub.status.busy": "2022-08-27T02:02:51.542185Z",
     "iopub.status.idle": "2022-08-27T02:02:51.645400Z",
     "shell.execute_reply": "2022-08-27T02:02:51.644402Z"
    },
    "papermill": {
     "duration": 0.124455,
     "end_time": "2022-08-27T02:02:51.648208",
     "exception": false,
     "start_time": "2022-08-27T02:02:51.523753",
     "status": "completed"
    },
    "tags": []
   },
   "outputs": [
    {
     "data": {
      "text/plain": [
       "1.0"
      ]
     },
     "execution_count": 18,
     "metadata": {},
     "output_type": "execute_result"
    }
   ],
   "source": [
    "model.score(x_train,y_train)"
   ]
  },
  {
   "cell_type": "code",
   "execution_count": 19,
   "id": "3bbde951",
   "metadata": {
    "execution": {
     "iopub.execute_input": "2022-08-27T02:02:51.685449Z",
     "iopub.status.busy": "2022-08-27T02:02:51.685034Z",
     "iopub.status.idle": "2022-08-27T02:02:51.735539Z",
     "shell.execute_reply": "2022-08-27T02:02:51.734532Z"
    },
    "papermill": {
     "duration": 0.071767,
     "end_time": "2022-08-27T02:02:51.738239",
     "exception": false,
     "start_time": "2022-08-27T02:02:51.666472",
     "status": "completed"
    },
    "tags": []
   },
   "outputs": [
    {
     "data": {
      "text/plain": [
       "0.7775686864885208"
      ]
     },
     "execution_count": 19,
     "metadata": {},
     "output_type": "execute_result"
    }
   ],
   "source": [
    "model.score(x_test,y_test)"
   ]
  },
  {
   "cell_type": "markdown",
   "id": "b8e43aa2",
   "metadata": {
    "papermill": {
     "duration": 0.016922,
     "end_time": "2022-08-27T02:02:51.774299",
     "exception": false,
     "start_time": "2022-08-27T02:02:51.757377",
     "status": "completed"
    },
    "tags": []
   },
   "source": [
    "As expected, with the train slice the model predicted all the data while on the validation set this value was reduced to the 77%"
   ]
  },
  {
   "cell_type": "markdown",
   "id": "fbd70ac5",
   "metadata": {
    "papermill": {
     "duration": 0.016366,
     "end_time": "2022-08-27T02:02:51.807417",
     "exception": false,
     "start_time": "2022-08-27T02:02:51.791051",
     "status": "completed"
    },
    "tags": []
   },
   "source": [
    "## Logistic regression and Cross-Validation test\n",
    "\n",
    "With the same approach and pipeline, a simple Logistic Regression model was implemented, with a significant lower execution time that the XGBoost approach"
   ]
  },
  {
   "cell_type": "code",
   "execution_count": 20,
   "id": "dac7677d",
   "metadata": {
    "execution": {
     "iopub.execute_input": "2022-08-27T02:02:51.842313Z",
     "iopub.status.busy": "2022-08-27T02:02:51.841616Z",
     "iopub.status.idle": "2022-08-27T02:02:51.903768Z",
     "shell.execute_reply": "2022-08-27T02:02:51.902612Z"
    },
    "papermill": {
     "duration": 0.08376,
     "end_time": "2022-08-27T02:02:51.907630",
     "exception": false,
     "start_time": "2022-08-27T02:02:51.823870",
     "status": "completed"
    },
    "tags": []
   },
   "outputs": [
    {
     "name": "stdout",
     "output_type": "stream",
     "text": [
      "[Pipeline] .... (step 1 of 2) Processing standardscaler, total=   0.0s\n",
      "[Pipeline]  (step 2 of 2) Processing logisticregression, total=   0.0s\n"
     ]
    }
   ],
   "source": [
    "model2 = make_pipeline(StandardScaler(),LogisticRegression(),verbose=True).fit(x_train,y_train)"
   ]
  },
  {
   "cell_type": "code",
   "execution_count": 21,
   "id": "f72ead5c",
   "metadata": {
    "execution": {
     "iopub.execute_input": "2022-08-27T02:02:51.996005Z",
     "iopub.status.busy": "2022-08-27T02:02:51.995331Z",
     "iopub.status.idle": "2022-08-27T02:02:52.017181Z",
     "shell.execute_reply": "2022-08-27T02:02:52.015791Z"
    },
    "papermill": {
     "duration": 0.070261,
     "end_time": "2022-08-27T02:02:52.021087",
     "exception": false,
     "start_time": "2022-08-27T02:02:51.950826",
     "status": "completed"
    },
    "tags": []
   },
   "outputs": [
    {
     "data": {
      "text/plain": [
       "0.7871390934996505"
      ]
     },
     "execution_count": 21,
     "metadata": {},
     "output_type": "execute_result"
    }
   ],
   "source": [
    "model2.score(x_train,y_train)"
   ]
  },
  {
   "cell_type": "code",
   "execution_count": 22,
   "id": "c36a404b",
   "metadata": {
    "execution": {
     "iopub.execute_input": "2022-08-27T02:02:52.109917Z",
     "iopub.status.busy": "2022-08-27T02:02:52.109258Z",
     "iopub.status.idle": "2022-08-27T02:02:52.128890Z",
     "shell.execute_reply": "2022-08-27T02:02:52.127576Z"
    },
    "papermill": {
     "duration": 0.067923,
     "end_time": "2022-08-27T02:02:52.132585",
     "exception": false,
     "start_time": "2022-08-27T02:02:52.064662",
     "status": "completed"
    },
    "tags": []
   },
   "outputs": [
    {
     "data": {
      "text/plain": [
       "0.7867268849579726"
      ]
     },
     "execution_count": 22,
     "metadata": {},
     "output_type": "execute_result"
    }
   ],
   "source": [
    "model2.score(x_test,y_test)"
   ]
  },
  {
   "cell_type": "markdown",
   "id": "7291bd9b",
   "metadata": {
    "papermill": {
     "duration": 0.042054,
     "end_time": "2022-08-27T02:02:52.217187",
     "exception": false,
     "start_time": "2022-08-27T02:02:52.175133",
     "status": "completed"
    },
    "tags": []
   },
   "source": [
    "The test score is worse than in the previous case, but at the same time, the validation value is higher. In this case, this means that it would be the one that will predict better foreign data.\n",
    "\n",
    "Then a simple cross-validation was made to check the effects of the penalty parameters of L2 and \"none\" to see if there is an improvement"
   ]
  },
  {
   "cell_type": "code",
   "execution_count": 23,
   "id": "b2a5ca43",
   "metadata": {
    "execution": {
     "iopub.execute_input": "2022-08-27T02:02:52.268762Z",
     "iopub.status.busy": "2022-08-27T02:02:52.268359Z",
     "iopub.status.idle": "2022-08-27T02:02:52.273298Z",
     "shell.execute_reply": "2022-08-27T02:02:52.272084Z"
    },
    "papermill": {
     "duration": 0.025485,
     "end_time": "2022-08-27T02:02:52.275548",
     "exception": false,
     "start_time": "2022-08-27T02:02:52.250063",
     "status": "completed"
    },
    "tags": []
   },
   "outputs": [],
   "source": [
    "#Type of penalty\n",
    "penalty=[ \"l2\", \"none\"]"
   ]
  },
  {
   "cell_type": "code",
   "execution_count": 24,
   "id": "11b18e6b",
   "metadata": {
    "execution": {
     "iopub.execute_input": "2022-08-27T02:02:52.311817Z",
     "iopub.status.busy": "2022-08-27T02:02:52.311068Z",
     "iopub.status.idle": "2022-08-27T02:02:52.315973Z",
     "shell.execute_reply": "2022-08-27T02:02:52.315236Z"
    },
    "papermill": {
     "duration": 0.025383,
     "end_time": "2022-08-27T02:02:52.318125",
     "exception": false,
     "start_time": "2022-08-27T02:02:52.292742",
     "status": "completed"
    },
    "tags": []
   },
   "outputs": [],
   "source": [
    "parameters=[{'penalty':penalty}]\n",
    "Grid1 = GridSearchCV(LogisticRegression(max_iter=1000), parameters,cv=20)"
   ]
  },
  {
   "cell_type": "code",
   "execution_count": 25,
   "id": "beea6a53",
   "metadata": {
    "execution": {
     "iopub.execute_input": "2022-08-27T02:02:52.354386Z",
     "iopub.status.busy": "2022-08-27T02:02:52.353967Z",
     "iopub.status.idle": "2022-08-27T02:03:03.339594Z",
     "shell.execute_reply": "2022-08-27T02:03:03.338430Z"
    },
    "papermill": {
     "duration": 11.008152,
     "end_time": "2022-08-27T02:03:03.343509",
     "exception": false,
     "start_time": "2022-08-27T02:02:52.335357",
     "status": "completed"
    },
    "tags": []
   },
   "outputs": [
    {
     "data": {
      "text/plain": [
       "GridSearchCV(cv=20, estimator=LogisticRegression(max_iter=1000),\n",
       "             param_grid=[{'penalty': ['l2', 'none']}])"
      ]
     },
     "execution_count": 25,
     "metadata": {},
     "output_type": "execute_result"
    }
   ],
   "source": [
    "Grid1.fit(x_train,y_train)"
   ]
  },
  {
   "cell_type": "code",
   "execution_count": 26,
   "id": "6415f7fd",
   "metadata": {
    "execution": {
     "iopub.execute_input": "2022-08-27T02:03:03.435001Z",
     "iopub.status.busy": "2022-08-27T02:03:03.433203Z",
     "iopub.status.idle": "2022-08-27T02:03:03.450871Z",
     "shell.execute_reply": "2022-08-27T02:03:03.449357Z"
    },
    "papermill": {
     "duration": 0.066504,
     "end_time": "2022-08-27T02:03:03.453198",
     "exception": false,
     "start_time": "2022-08-27T02:03:03.386694",
     "status": "completed"
    },
    "tags": []
   },
   "outputs": [
    {
     "data": {
      "text/plain": [
       "LogisticRegression(max_iter=1000)"
      ]
     },
     "execution_count": 26,
     "metadata": {},
     "output_type": "execute_result"
    }
   ],
   "source": [
    "Grid1.best_estimator_"
   ]
  },
  {
   "cell_type": "markdown",
   "id": "65312b46",
   "metadata": {
    "papermill": {
     "duration": 0.016724,
     "end_time": "2022-08-27T02:03:03.487408",
     "exception": false,
     "start_time": "2022-08-27T02:03:03.470684",
     "status": "completed"
    },
    "tags": []
   },
   "source": [
    "With this estimator the training was repeated, obtaining almost the same validation accuracy:"
   ]
  },
  {
   "cell_type": "code",
   "execution_count": 27,
   "id": "2b34d948",
   "metadata": {
    "execution": {
     "iopub.execute_input": "2022-08-27T02:03:03.523732Z",
     "iopub.status.busy": "2022-08-27T02:03:03.522971Z",
     "iopub.status.idle": "2022-08-27T02:03:03.766552Z",
     "shell.execute_reply": "2022-08-27T02:03:03.765013Z"
    },
    "papermill": {
     "duration": 0.266614,
     "end_time": "2022-08-27T02:03:03.771161",
     "exception": false,
     "start_time": "2022-08-27T02:03:03.504547",
     "status": "completed"
    },
    "tags": []
   },
   "outputs": [
    {
     "name": "stdout",
     "output_type": "stream",
     "text": [
      "[Pipeline]  (step 1 of 1) Processing logisticregression, total=   0.2s\n"
     ]
    }
   ],
   "source": [
    "model3 = make_pipeline(Grid1.best_estimator_,verbose=True).fit(x_train,y_train)"
   ]
  },
  {
   "cell_type": "code",
   "execution_count": 28,
   "id": "168e1bc0",
   "metadata": {
    "execution": {
     "iopub.execute_input": "2022-08-27T02:03:03.865549Z",
     "iopub.status.busy": "2022-08-27T02:03:03.864844Z",
     "iopub.status.idle": "2022-08-27T02:03:03.887029Z",
     "shell.execute_reply": "2022-08-27T02:03:03.885607Z"
    },
    "papermill": {
     "duration": 0.073559,
     "end_time": "2022-08-27T02:03:03.891013",
     "exception": false,
     "start_time": "2022-08-27T02:03:03.817454",
     "status": "completed"
    },
    "tags": []
   },
   "outputs": [
    {
     "data": {
      "text/plain": [
       "0.7871390934996505"
      ]
     },
     "execution_count": 28,
     "metadata": {},
     "output_type": "execute_result"
    }
   ],
   "source": [
    "model3.score(x_train,y_train)"
   ]
  },
  {
   "cell_type": "code",
   "execution_count": 29,
   "id": "ce3b4f88",
   "metadata": {
    "execution": {
     "iopub.execute_input": "2022-08-27T02:03:03.983813Z",
     "iopub.status.busy": "2022-08-27T02:03:03.983136Z",
     "iopub.status.idle": "2022-08-27T02:03:04.002803Z",
     "shell.execute_reply": "2022-08-27T02:03:04.001457Z"
    },
    "papermill": {
     "duration": 0.06947,
     "end_time": "2022-08-27T02:03:04.006675",
     "exception": false,
     "start_time": "2022-08-27T02:03:03.937205",
     "status": "completed"
    },
    "tags": []
   },
   "outputs": [
    {
     "data": {
      "text/plain": [
       "0.7869777945050809"
      ]
     },
     "execution_count": 29,
     "metadata": {},
     "output_type": "execute_result"
    }
   ],
   "source": [
    "model3.score(x_test,y_test)"
   ]
  },
  {
   "cell_type": "markdown",
   "id": "2128050f",
   "metadata": {
    "papermill": {
     "duration": 0.044958,
     "end_time": "2022-08-27T02:03:04.096122",
     "exception": false,
     "start_time": "2022-08-27T02:03:04.051164",
     "status": "completed"
    },
    "tags": []
   },
   "source": [
    "## Tensorflow and Keras\n",
    "\n",
    "Finally, a simple neural network was implemented. In this case, a simple model with Keras was made with 3 Dense layers and 2 dropout layers."
   ]
  },
  {
   "cell_type": "code",
   "execution_count": 30,
   "id": "a609bce1",
   "metadata": {
    "execution": {
     "iopub.execute_input": "2022-08-27T02:03:04.145466Z",
     "iopub.status.busy": "2022-08-27T02:03:04.145028Z",
     "iopub.status.idle": "2022-08-27T02:03:05.346227Z",
     "shell.execute_reply": "2022-08-27T02:03:05.344968Z"
    },
    "papermill": {
     "duration": 1.222712,
     "end_time": "2022-08-27T02:03:05.348952",
     "exception": false,
     "start_time": "2022-08-27T02:03:04.126240",
     "status": "completed"
    },
    "tags": []
   },
   "outputs": [
    {
     "name": "stderr",
     "output_type": "stream",
     "text": [
      "2022-08-27 02:03:05.321430: I tensorflow/core/common_runtime/process_util.cc:146] Creating new thread pool with default inter op setting: 2. Tune using inter_op_parallelism_threads for best performance.\n"
     ]
    }
   ],
   "source": [
    "#Simple Neural Network\n",
    "model4 =   tf.keras.Sequential([\n",
    "  tf.keras.layers.Dense(50, activation=\"relu\"),\n",
    "  tf.keras.layers.Dropout(0.2),\n",
    "  tf.keras.layers.Dense(50, activation=\"relu\", bias_regularizer='l2'),\n",
    "  tf.keras.layers.Dropout(0.2),\n",
    "  tf.keras.layers.Dense(1, activation=\"sigmoid\")\n",
    "])"
   ]
  },
  {
   "cell_type": "code",
   "execution_count": 31,
   "id": "68346eb0",
   "metadata": {
    "execution": {
     "iopub.execute_input": "2022-08-27T02:03:05.387442Z",
     "iopub.status.busy": "2022-08-27T02:03:05.386710Z",
     "iopub.status.idle": "2022-08-27T02:03:26.799594Z",
     "shell.execute_reply": "2022-08-27T02:03:26.798386Z"
    },
    "papermill": {
     "duration": 21.435182,
     "end_time": "2022-08-27T02:03:26.802299",
     "exception": false,
     "start_time": "2022-08-27T02:03:05.367117",
     "status": "completed"
    },
    "tags": []
   },
   "outputs": [
    {
     "name": "stderr",
     "output_type": "stream",
     "text": [
      "2022-08-27 02:03:05.504298: I tensorflow/compiler/mlir/mlir_graph_optimization_pass.cc:185] None of the MLIR Optimization Passes are enabled (registered 2)\n"
     ]
    },
    {
     "name": "stdout",
     "output_type": "stream",
     "text": [
      "Epoch 1/10\n",
      "582/582 [==============================] - 3s 3ms/step - loss: 4.7173 - accuracy: 0.6714 - val_loss: 0.5337 - val_accuracy: 0.7867\n",
      "Epoch 2/10\n",
      "582/582 [==============================] - 1s 3ms/step - loss: 0.6488 - accuracy: 0.7428 - val_loss: 0.5336 - val_accuracy: 0.7870\n",
      "Epoch 3/10\n",
      "582/582 [==============================] - 2s 3ms/step - loss: 0.5520 - accuracy: 0.7762 - val_loss: 0.5253 - val_accuracy: 0.7872\n",
      "Epoch 4/10\n",
      "582/582 [==============================] - 2s 3ms/step - loss: 0.5348 - accuracy: 0.7832 - val_loss: 0.5259 - val_accuracy: 0.7872\n",
      "Epoch 5/10\n",
      "582/582 [==============================] - 1s 2ms/step - loss: 0.5245 - accuracy: 0.7851 - val_loss: 0.5176 - val_accuracy: 0.7872\n",
      "Epoch 6/10\n",
      "582/582 [==============================] - 1s 3ms/step - loss: 0.5206 - accuracy: 0.7864 - val_loss: 0.5194 - val_accuracy: 0.7872\n",
      "Epoch 7/10\n",
      "582/582 [==============================] - 1s 3ms/step - loss: 0.5178 - accuracy: 0.7873 - val_loss: 0.5122 - val_accuracy: 0.7872\n",
      "Epoch 8/10\n",
      "582/582 [==============================] - 1s 2ms/step - loss: 0.5166 - accuracy: 0.7870 - val_loss: 0.5126 - val_accuracy: 0.7872\n",
      "Epoch 9/10\n",
      "582/582 [==============================] - 1s 2ms/step - loss: 0.5150 - accuracy: 0.7874 - val_loss: 0.5148 - val_accuracy: 0.7872\n",
      "Epoch 10/10\n",
      "582/582 [==============================] - 1s 2ms/step - loss: 0.5140 - accuracy: 0.7874 - val_loss: 0.5128 - val_accuracy: 0.7872\n"
     ]
    },
    {
     "data": {
      "text/plain": [
       "<keras.callbacks.History at 0x7fd1ba549390>"
      ]
     },
     "execution_count": 31,
     "metadata": {},
     "output_type": "execute_result"
    }
   ],
   "source": [
    "#Model compilation \n",
    "model4.compile(loss=\"binary_crossentropy\",\n",
    "                optimizer=tf.keras.optimizers.Adam(),\n",
    "                metrics=[\"accuracy\"])\n",
    "model4.fit(x_train,y_train,epochs=10,validation_data=(x_test,y_test))"
   ]
  },
  {
   "cell_type": "markdown",
   "id": "ed777692",
   "metadata": {
    "papermill": {
     "duration": 0.033335,
     "end_time": "2022-08-27T02:03:26.869035",
     "exception": false,
     "start_time": "2022-08-27T02:03:26.835700",
     "status": "completed"
    },
    "tags": []
   },
   "source": [
    "This model obtained the best accuracy value. For this reason the neural network model was used, but with all the available data."
   ]
  },
  {
   "cell_type": "markdown",
   "id": "764298fd",
   "metadata": {
    "papermill": {
     "duration": 0.032692,
     "end_time": "2022-08-27T02:03:26.934826",
     "exception": false,
     "start_time": "2022-08-27T02:03:26.902134",
     "status": "completed"
    },
    "tags": []
   },
   "source": [
    "---------"
   ]
  },
  {
   "cell_type": "markdown",
   "id": "2973356c",
   "metadata": {
    "papermill": {
     "duration": 0.032218,
     "end_time": "2022-08-27T02:03:27.000289",
     "exception": false,
     "start_time": "2022-08-27T02:03:26.968071",
     "status": "completed"
    },
    "tags": []
   },
   "source": [
    "# Final Prediction\n",
    "\n",
    "Firstly, the neural network model was trained with all the data to get the best results\n"
   ]
  },
  {
   "cell_type": "code",
   "execution_count": 32,
   "id": "79494e0c",
   "metadata": {
    "execution": {
     "iopub.execute_input": "2022-08-27T02:03:27.067744Z",
     "iopub.status.busy": "2022-08-27T02:03:27.066627Z",
     "iopub.status.idle": "2022-08-27T02:03:44.273776Z",
     "shell.execute_reply": "2022-08-27T02:03:44.272553Z"
    },
    "papermill": {
     "duration": 17.243091,
     "end_time": "2022-08-27T02:03:44.276134",
     "exception": false,
     "start_time": "2022-08-27T02:03:27.033043",
     "status": "completed"
    },
    "tags": []
   },
   "outputs": [
    {
     "name": "stdout",
     "output_type": "stream",
     "text": [
      "Epoch 1/10\n",
      "831/831 [==============================] - 2s 2ms/step - loss: 0.5145 - accuracy: 0.7874\n",
      "Epoch 2/10\n",
      "831/831 [==============================] - 2s 2ms/step - loss: 0.5145 - accuracy: 0.7874\n",
      "Epoch 3/10\n",
      "831/831 [==============================] - 2s 2ms/step - loss: 0.5132 - accuracy: 0.7874\n",
      "Epoch 4/10\n",
      "831/831 [==============================] - 2s 2ms/step - loss: 0.5138 - accuracy: 0.7874\n",
      "Epoch 5/10\n",
      "831/831 [==============================] - 2s 2ms/step - loss: 0.5135 - accuracy: 0.7874\n",
      "Epoch 6/10\n",
      "831/831 [==============================] - 2s 2ms/step - loss: 0.5135 - accuracy: 0.7874\n",
      "Epoch 7/10\n",
      "831/831 [==============================] - 2s 2ms/step - loss: 0.5126 - accuracy: 0.7874\n",
      "Epoch 8/10\n",
      "831/831 [==============================] - 2s 2ms/step - loss: 0.5130 - accuracy: 0.7874\n",
      "Epoch 9/10\n",
      "831/831 [==============================] - 2s 2ms/step - loss: 0.5140 - accuracy: 0.7874\n",
      "Epoch 10/10\n",
      "831/831 [==============================] - 2s 2ms/step - loss: 0.5135 - accuracy: 0.7874\n"
     ]
    },
    {
     "data": {
      "text/plain": [
       "<keras.callbacks.History at 0x7fd1bd05a510>"
      ]
     },
     "execution_count": 32,
     "metadata": {},
     "output_type": "execute_result"
    }
   ],
   "source": [
    "#Model compilation \n",
    "model4.compile(loss=\"binary_crossentropy\",\n",
    "                optimizer=tf.keras.optimizers.Adam(),\n",
    "                metrics=[\"accuracy\"])\n",
    "model4.fit(train_dum,train[\"failure\"],epochs=10)"
   ]
  },
  {
   "cell_type": "markdown",
   "id": "7ef5c611",
   "metadata": {
    "papermill": {
     "duration": 0.0557,
     "end_time": "2022-08-27T02:03:44.393222",
     "exception": false,
     "start_time": "2022-08-27T02:03:44.337522",
     "status": "completed"
    },
    "tags": []
   },
   "source": [
    "Then, the test dataset was loaded, replacing the missing values with the mean of the columns as in the train dataframe"
   ]
  },
  {
   "cell_type": "code",
   "execution_count": 33,
   "id": "aa1c10e0",
   "metadata": {
    "execution": {
     "iopub.execute_input": "2022-08-27T02:03:44.517365Z",
     "iopub.status.busy": "2022-08-27T02:03:44.516358Z",
     "iopub.status.idle": "2022-08-27T02:03:44.663545Z",
     "shell.execute_reply": "2022-08-27T02:03:44.662281Z"
    },
    "papermill": {
     "duration": 0.211812,
     "end_time": "2022-08-27T02:03:44.667017",
     "exception": false,
     "start_time": "2022-08-27T02:03:44.455205",
     "status": "completed"
    },
    "tags": []
   },
   "outputs": [],
   "source": [
    "test=pd.read_csv(\"/kaggle/input/tabular-playground-series-aug-2022/test.csv\")"
   ]
  },
  {
   "cell_type": "code",
   "execution_count": 34,
   "id": "48dfe982",
   "metadata": {
    "execution": {
     "iopub.execute_input": "2022-08-27T02:03:44.826416Z",
     "iopub.status.busy": "2022-08-27T02:03:44.825635Z",
     "iopub.status.idle": "2022-08-27T02:03:44.850630Z",
     "shell.execute_reply": "2022-08-27T02:03:44.849603Z"
    },
    "papermill": {
     "duration": 0.111838,
     "end_time": "2022-08-27T02:03:44.854408",
     "exception": false,
     "start_time": "2022-08-27T02:03:44.742570",
     "status": "completed"
    },
    "tags": []
   },
   "outputs": [
    {
     "name": "stdout",
     "output_type": "stream",
     "text": [
      "<class 'pandas.core.frame.DataFrame'>\n",
      "RangeIndex: 20775 entries, 0 to 20774\n",
      "Data columns (total 25 columns):\n",
      " #   Column          Non-Null Count  Dtype  \n",
      "---  ------          --------------  -----  \n",
      " 0   id              20775 non-null  int64  \n",
      " 1   product_code    20775 non-null  object \n",
      " 2   loading         20552 non-null  float64\n",
      " 3   attribute_0     20775 non-null  object \n",
      " 4   attribute_1     20775 non-null  object \n",
      " 5   attribute_2     20775 non-null  int64  \n",
      " 6   attribute_3     20775 non-null  int64  \n",
      " 7   measurement_0   20775 non-null  int64  \n",
      " 8   measurement_1   20775 non-null  int64  \n",
      " 9   measurement_2   20775 non-null  int64  \n",
      " 10  measurement_3   20446 non-null  float64\n",
      " 11  measurement_4   20366 non-null  float64\n",
      " 12  measurement_5   20267 non-null  float64\n",
      " 13  measurement_6   20151 non-null  float64\n",
      " 14  measurement_7   20055 non-null  float64\n",
      " 15  measurement_8   19929 non-null  float64\n",
      " 16  measurement_9   19871 non-null  float64\n",
      " 17  measurement_10  19708 non-null  float64\n",
      " 18  measurement_11  19639 non-null  float64\n",
      " 19  measurement_12  19535 non-null  float64\n",
      " 20  measurement_13  19472 non-null  float64\n",
      " 21  measurement_14  19335 non-null  float64\n",
      " 22  measurement_15  19233 non-null  float64\n",
      " 23  measurement_16  19097 non-null  float64\n",
      " 24  measurement_17  19035 non-null  float64\n",
      "dtypes: float64(16), int64(6), object(3)\n",
      "memory usage: 4.0+ MB\n"
     ]
    }
   ],
   "source": [
    "test.info()"
   ]
  },
  {
   "cell_type": "code",
   "execution_count": 35,
   "id": "256ad17e",
   "metadata": {
    "execution": {
     "iopub.execute_input": "2022-08-27T02:03:44.982265Z",
     "iopub.status.busy": "2022-08-27T02:03:44.981279Z",
     "iopub.status.idle": "2022-08-27T02:03:44.998711Z",
     "shell.execute_reply": "2022-08-27T02:03:44.997473Z"
    },
    "papermill": {
     "duration": 0.078322,
     "end_time": "2022-08-27T02:03:45.001382",
     "exception": false,
     "start_time": "2022-08-27T02:03:44.923060",
     "status": "completed"
    },
    "tags": []
   },
   "outputs": [],
   "source": [
    "#Changing object columns to categories\n",
    "Categories=[]\n",
    "for i in test.columns:\n",
    "    if test[i].dtype==\"object\":\n",
    "        Categories.append(i)\n",
    "for t in Categories:\n",
    "    test[t]=test[t].astype(\"category\")"
   ]
  },
  {
   "cell_type": "code",
   "execution_count": 36,
   "id": "2ad28ae4",
   "metadata": {
    "execution": {
     "iopub.execute_input": "2022-08-27T02:03:45.122436Z",
     "iopub.status.busy": "2022-08-27T02:03:45.121778Z",
     "iopub.status.idle": "2022-08-27T02:03:54.111214Z",
     "shell.execute_reply": "2022-08-27T02:03:54.110308Z"
    },
    "papermill": {
     "duration": 9.055164,
     "end_time": "2022-08-27T02:03:54.113701",
     "exception": false,
     "start_time": "2022-08-27T02:03:45.058537",
     "status": "completed"
    },
    "tags": []
   },
   "outputs": [],
   "source": [
    "#Replacing missing values\n",
    "no_null_cols=[]\n",
    "for i in test.columns:\n",
    "    if test[i].isna().value_counts()[0]-len(test[i])<0:\n",
    "        no_null_cols.append(i)\n",
    "for col in no_null_cols:\n",
    "    null_cols=test[test[col].isna()].index\n",
    "    for n in null_cols:\n",
    "        test.loc[n,col]=test[col].mean()"
   ]
  },
  {
   "cell_type": "code",
   "execution_count": 37,
   "id": "7eef7621",
   "metadata": {
    "execution": {
     "iopub.execute_input": "2022-08-27T02:03:54.223704Z",
     "iopub.status.busy": "2022-08-27T02:03:54.223121Z",
     "iopub.status.idle": "2022-08-27T02:03:54.234042Z",
     "shell.execute_reply": "2022-08-27T02:03:54.233077Z"
    },
    "papermill": {
     "duration": 0.068723,
     "end_time": "2022-08-27T02:03:54.236581",
     "exception": false,
     "start_time": "2022-08-27T02:03:54.167858",
     "status": "completed"
    },
    "tags": []
   },
   "outputs": [],
   "source": [
    "#One-hot encoding\n",
    "test_dum=pd.get_dummies(test[total_cols[:-1]],drop_first=True)"
   ]
  },
  {
   "cell_type": "markdown",
   "id": "526bad63",
   "metadata": {
    "papermill": {
     "duration": 0.053239,
     "end_time": "2022-08-27T02:03:54.344762",
     "exception": false,
     "start_time": "2022-08-27T02:03:54.291523",
     "status": "completed"
    },
    "tags": []
   },
   "source": [
    "In the end, the failure rates were predicted and presented in a boxplot before the final submission .csv saving"
   ]
  },
  {
   "cell_type": "code",
   "execution_count": 38,
   "id": "d5606383",
   "metadata": {
    "execution": {
     "iopub.execute_input": "2022-08-27T02:03:54.452478Z",
     "iopub.status.busy": "2022-08-27T02:03:54.452059Z",
     "iopub.status.idle": "2022-08-27T02:03:55.171253Z",
     "shell.execute_reply": "2022-08-27T02:03:55.170134Z"
    },
    "papermill": {
     "duration": 0.776005,
     "end_time": "2022-08-27T02:03:55.173904",
     "exception": false,
     "start_time": "2022-08-27T02:03:54.397899",
     "status": "completed"
    },
    "tags": []
   },
   "outputs": [
    {
     "data": {
      "text/plain": [
       "[array([0.18423173], dtype=float32),\n",
       " array([0.17460576], dtype=float32),\n",
       " array([0.18085206], dtype=float32),\n",
       " array([0.18952462], dtype=float32),\n",
       " array([0.24358654], dtype=float32)]"
      ]
     },
     "execution_count": 38,
     "metadata": {},
     "output_type": "execute_result"
    }
   ],
   "source": [
    "y_fin=list(model4.predict(test_dum))\n",
    "#Example\n",
    "y_fin[:5]"
   ]
  },
  {
   "cell_type": "code",
   "execution_count": 39,
   "id": "7608d6dd",
   "metadata": {
    "execution": {
     "iopub.execute_input": "2022-08-27T02:03:55.284456Z",
     "iopub.status.busy": "2022-08-27T02:03:55.284018Z",
     "iopub.status.idle": "2022-08-27T02:03:55.462805Z",
     "shell.execute_reply": "2022-08-27T02:03:55.461448Z"
    },
    "papermill": {
     "duration": 0.236844,
     "end_time": "2022-08-27T02:03:55.466155",
     "exception": false,
     "start_time": "2022-08-27T02:03:55.229311",
     "status": "completed"
    },
    "tags": []
   },
   "outputs": [
    {
     "data": {
      "text/plain": [
       "<AxesSubplot:>"
      ]
     },
     "execution_count": 39,
     "metadata": {},
     "output_type": "execute_result"
    },
    {
     "data": {
      "image/png": "[encoded data removed]",
      "text/plain": [
       "<Figure size 432x288 with 1 Axes>"
      ]
     },
     "metadata": {
      "needs_background": "light"
     },
     "output_type": "display_data"
    }
   ],
   "source": [
    "#Final boxplot\n",
    "y=pd.DataFrame(y_fin)\n",
    "y.boxplot()"
   ]
  },
  {
   "cell_type": "code",
   "execution_count": 40,
   "id": "aae7704b",
   "metadata": {
    "execution": {
     "iopub.execute_input": "2022-08-27T02:03:55.576871Z",
     "iopub.status.busy": "2022-08-27T02:03:55.576492Z",
     "iopub.status.idle": "2022-08-27T02:03:55.642807Z",
     "shell.execute_reply": "2022-08-27T02:03:55.641754Z"
    },
    "papermill": {
     "duration": 0.12391,
     "end_time": "2022-08-27T02:03:55.645708",
     "exception": false,
     "start_time": "2022-08-27T02:03:55.521798",
     "status": "completed"
    },
    "tags": []
   },
   "outputs": [],
   "source": [
    "#Final changes\n",
    "test[\"failure\"]=y_fin\n",
    "test[\"failure\"]=test[\"failure\"].astype(\"float64\")\n",
    "Final_prediction=test[[\"id\",\"failure\"]]\n",
    "#CSV\n",
    "Final_prediction.to_csv(\"submission.csv\",index=False)"
   ]
  },
  {
   "cell_type": "markdown",
   "id": "616550d3",
   "metadata": {
    "papermill": {
     "duration": 0.073143,
     "end_time": "2022-08-27T02:03:55.772459",
     "exception": false,
     "start_time": "2022-08-27T02:03:55.699316",
     "status": "completed"
    },
    "tags": []
   },
   "source": [
    "# Final remarks\n",
    "\n",
    "The chosen model was able to predict the ratio of failure of the test data, with the final values being between 0 and 0.5."
   ]
  }
 ],
 "metadata": {
  "kernelspec": {
   "display_name": "Python 3",
   "language": "python",
   "name": "python3"
  },
  "language_info": {
   "codemirror_mode": {
    "name": "ipython",
    "version": 3
   },
   "file_extension": ".py",
   "mimetype": "text/x-python",
   "name": "python",
   "nbconvert_exporter": "python",
   "pygments_lexer": "ipython3",
   "version": "3.7.12"
  },
  "papermill": {
   "default_parameters": {},
   "duration": 112.302538,
   "end_time": "2022-08-27T02:03:59.141338",
   "environment_variables": {},
   "exception": null,
   "input_path": "__notebook__.ipynb",
   "output_path": "__notebook__.ipynb",
   "parameters": {},
   "start_time": "2022-08-27T02:02:06.838800",
   "version": "2.3.4"
  }
 },
 "nbformat": 4,
 "nbformat_minor": 5
}
