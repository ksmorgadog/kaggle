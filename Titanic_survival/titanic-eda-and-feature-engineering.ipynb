{
 "cells": [
  {
   "cell_type": "markdown",
   "id": "30f65345",
   "metadata": {
    "papermill": {
     "duration": 0.015084,
     "end_time": "2022-07-24T23:56:23.791002",
     "exception": false,
     "start_time": "2022-07-24T23:56:23.775918",
     "status": "completed"
    },
    "tags": []
   },
   "source": [
    "# 1. Libraries used for analysis"
   ]
  },
  {
   "cell_type": "code",
   "execution_count": 1,
   "id": "bf290861",
   "metadata": {
    "_cell_guid": "b1076dfc-b9ad-4769-8c92-a6c4dae69d19",
    "_uuid": "8f2839f25d086af736a60e9eeb907d3b93b6e0e5",
    "execution": {
     "iopub.execute_input": "2022-07-24T23:56:23.822019Z",
     "iopub.status.busy": "2022-07-24T23:56:23.820975Z",
     "iopub.status.idle": "2022-07-24T23:56:25.455972Z",
     "shell.execute_reply": "2022-07-24T23:56:25.454703Z"
    },
    "papermill": {
     "duration": 1.654117,
     "end_time": "2022-07-24T23:56:25.459178",
     "exception": false,
     "start_time": "2022-07-24T23:56:23.805061",
     "status": "completed"
    },
    "tags": []
   },
   "outputs": [],
   "source": [
    "import numpy as np\n",
    "import pandas as pd\n",
    "import matplotlib.pyplot as plt\n",
    "import seaborn as sns\n",
    "import statsmodels.formula.api as sm\n",
    "from sklearn.linear_model import LinearRegression"
   ]
  },
  {
   "cell_type": "markdown",
   "id": "38281eb4",
   "metadata": {
    "papermill": {
     "duration": 0.014065,
     "end_time": "2022-07-24T23:56:25.487529",
     "exception": false,
     "start_time": "2022-07-24T23:56:25.473464",
     "status": "completed"
    },
    "tags": []
   },
   "source": [
    "# 2. Input data - test and training set"
   ]
  },
  {
   "cell_type": "code",
   "execution_count": 2,
   "id": "475feacc",
   "metadata": {
    "execution": {
     "iopub.execute_input": "2022-07-24T23:56:25.519077Z",
     "iopub.status.busy": "2022-07-24T23:56:25.518468Z",
     "iopub.status.idle": "2022-07-24T23:56:25.547657Z",
     "shell.execute_reply": "2022-07-24T23:56:25.546609Z"
    },
    "papermill": {
     "duration": 0.04877,
     "end_time": "2022-07-24T23:56:25.550195",
     "exception": false,
     "start_time": "2022-07-24T23:56:25.501425",
     "status": "completed"
    },
    "tags": []
   },
   "outputs": [],
   "source": [
    "train=pd.read_csv(\"/kaggle/input/titanic/train.csv\")\n",
    "test=pd.read_csv(\"/kaggle/input/titanic/test.csv\")"
   ]
  },
  {
   "cell_type": "code",
   "execution_count": 3,
   "id": "7ccffb5e",
   "metadata": {
    "execution": {
     "iopub.execute_input": "2022-07-24T23:56:25.581099Z",
     "iopub.status.busy": "2022-07-24T23:56:25.580276Z",
     "iopub.status.idle": "2022-07-24T23:56:25.617396Z",
     "shell.execute_reply": "2022-07-24T23:56:25.616257Z"
    },
    "papermill": {
     "duration": 0.055471,
     "end_time": "2022-07-24T23:56:25.620327",
     "exception": false,
     "start_time": "2022-07-24T23:56:25.564856",
     "status": "completed"
    },
    "tags": []
   },
   "outputs": [
    {
     "data": {
      "text/html": [
       "<div>\n",
       "<style scoped>\n",
       "    .dataframe tbody tr th:only-of-type {\n",
       "        vertical-align: middle;\n",
       "    }\n",
       "\n",
       "    .dataframe tbody tr th {\n",
       "        vertical-align: top;\n",
       "    }\n",
       "\n",
       "    .dataframe thead th {\n",
       "        text-align: right;\n",
       "    }\n",
       "</style>\n",
       "<table border=\"1\" class=\"dataframe\">\n",
       "  <thead>\n",
       "    <tr style=\"text-align: right;\">\n",
       "      <th></th>\n",
       "      <th>PassengerId</th>\n",
       "      <th>Survived</th>\n",
       "      <th>Pclass</th>\n",
       "      <th>Name</th>\n",
       "      <th>Sex</th>\n",
       "      <th>Age</th>\n",
       "      <th>SibSp</th>\n",
       "      <th>Parch</th>\n",
       "      <th>Ticket</th>\n",
       "      <th>Fare</th>\n",
       "      <th>Cabin</th>\n",
       "      <th>Embarked</th>\n",
       "    </tr>\n",
       "  </thead>\n",
       "  <tbody>\n",
       "    <tr>\n",
       "      <th>0</th>\n",
       "      <td>1</td>\n",
       "      <td>0</td>\n",
       "      <td>3</td>\n",
       "      <td>Braund, Mr. Owen Harris</td>\n",
       "      <td>male</td>\n",
       "      <td>22.0</td>\n",
       "      <td>1</td>\n",
       "      <td>0</td>\n",
       "      <td>A/5 21171</td>\n",
       "      <td>7.2500</td>\n",
       "      <td>NaN</td>\n",
       "      <td>S</td>\n",
       "    </tr>\n",
       "    <tr>\n",
       "      <th>1</th>\n",
       "      <td>2</td>\n",
       "      <td>1</td>\n",
       "      <td>1</td>\n",
       "      <td>Cumings, Mrs. John Bradley (Florence Briggs Th...</td>\n",
       "      <td>female</td>\n",
       "      <td>38.0</td>\n",
       "      <td>1</td>\n",
       "      <td>0</td>\n",
       "      <td>PC 17599</td>\n",
       "      <td>71.2833</td>\n",
       "      <td>C85</td>\n",
       "      <td>C</td>\n",
       "    </tr>\n",
       "    <tr>\n",
       "      <th>2</th>\n",
       "      <td>3</td>\n",
       "      <td>1</td>\n",
       "      <td>3</td>\n",
       "      <td>Heikkinen, Miss. Laina</td>\n",
       "      <td>female</td>\n",
       "      <td>26.0</td>\n",
       "      <td>0</td>\n",
       "      <td>0</td>\n",
       "      <td>STON/O2. 3101282</td>\n",
       "      <td>7.9250</td>\n",
       "      <td>NaN</td>\n",
       "      <td>S</td>\n",
       "    </tr>\n",
       "    <tr>\n",
       "      <th>3</th>\n",
       "      <td>4</td>\n",
       "      <td>1</td>\n",
       "      <td>1</td>\n",
       "      <td>Futrelle, Mrs. Jacques Heath (Lily May Peel)</td>\n",
       "      <td>female</td>\n",
       "      <td>35.0</td>\n",
       "      <td>1</td>\n",
       "      <td>0</td>\n",
       "      <td>113803</td>\n",
       "      <td>53.1000</td>\n",
       "      <td>C123</td>\n",
       "      <td>S</td>\n",
       "    </tr>\n",
       "    <tr>\n",
       "      <th>4</th>\n",
       "      <td>5</td>\n",
       "      <td>0</td>\n",
       "      <td>3</td>\n",
       "      <td>Allen, Mr. William Henry</td>\n",
       "      <td>male</td>\n",
       "      <td>35.0</td>\n",
       "      <td>0</td>\n",
       "      <td>0</td>\n",
       "      <td>373450</td>\n",
       "      <td>8.0500</td>\n",
       "      <td>NaN</td>\n",
       "      <td>S</td>\n",
       "    </tr>\n",
       "    <tr>\n",
       "      <th>...</th>\n",
       "      <td>...</td>\n",
       "      <td>...</td>\n",
       "      <td>...</td>\n",
       "      <td>...</td>\n",
       "      <td>...</td>\n",
       "      <td>...</td>\n",
       "      <td>...</td>\n",
       "      <td>...</td>\n",
       "      <td>...</td>\n",
       "      <td>...</td>\n",
       "      <td>...</td>\n",
       "      <td>...</td>\n",
       "    </tr>\n",
       "    <tr>\n",
       "      <th>886</th>\n",
       "      <td>887</td>\n",
       "      <td>0</td>\n",
       "      <td>2</td>\n",
       "      <td>Montvila, Rev. Juozas</td>\n",
       "      <td>male</td>\n",
       "      <td>27.0</td>\n",
       "      <td>0</td>\n",
       "      <td>0</td>\n",
       "      <td>211536</td>\n",
       "      <td>13.0000</td>\n",
       "      <td>NaN</td>\n",
       "      <td>S</td>\n",
       "    </tr>\n",
       "    <tr>\n",
       "      <th>887</th>\n",
       "      <td>888</td>\n",
       "      <td>1</td>\n",
       "      <td>1</td>\n",
       "      <td>Graham, Miss. Margaret Edith</td>\n",
       "      <td>female</td>\n",
       "      <td>19.0</td>\n",
       "      <td>0</td>\n",
       "      <td>0</td>\n",
       "      <td>112053</td>\n",
       "      <td>30.0000</td>\n",
       "      <td>B42</td>\n",
       "      <td>S</td>\n",
       "    </tr>\n",
       "    <tr>\n",
       "      <th>888</th>\n",
       "      <td>889</td>\n",
       "      <td>0</td>\n",
       "      <td>3</td>\n",
       "      <td>Johnston, Miss. Catherine Helen \"Carrie\"</td>\n",
       "      <td>female</td>\n",
       "      <td>NaN</td>\n",
       "      <td>1</td>\n",
       "      <td>2</td>\n",
       "      <td>W./C. 6607</td>\n",
       "      <td>23.4500</td>\n",
       "      <td>NaN</td>\n",
       "      <td>S</td>\n",
       "    </tr>\n",
       "    <tr>\n",
       "      <th>889</th>\n",
       "      <td>890</td>\n",
       "      <td>1</td>\n",
       "      <td>1</td>\n",
       "      <td>Behr, Mr. Karl Howell</td>\n",
       "      <td>male</td>\n",
       "      <td>26.0</td>\n",
       "      <td>0</td>\n",
       "      <td>0</td>\n",
       "      <td>111369</td>\n",
       "      <td>30.0000</td>\n",
       "      <td>C148</td>\n",
       "      <td>C</td>\n",
       "    </tr>\n",
       "    <tr>\n",
       "      <th>890</th>\n",
       "      <td>891</td>\n",
       "      <td>0</td>\n",
       "      <td>3</td>\n",
       "      <td>Dooley, Mr. Patrick</td>\n",
       "      <td>male</td>\n",
       "      <td>32.0</td>\n",
       "      <td>0</td>\n",
       "      <td>0</td>\n",
       "      <td>370376</td>\n",
       "      <td>7.7500</td>\n",
       "      <td>NaN</td>\n",
       "      <td>Q</td>\n",
       "    </tr>\n",
       "  </tbody>\n",
       "</table>\n",
       "<p>891 rows × 12 columns</p>\n",
       "</div>"
      ],
      "text/plain": [
       "     PassengerId  Survived  Pclass  \\\n",
       "0              1         0       3   \n",
       "1              2         1       1   \n",
       "2              3         1       3   \n",
       "3              4         1       1   \n",
       "4              5         0       3   \n",
       "..           ...       ...     ...   \n",
       "886          887         0       2   \n",
       "887          888         1       1   \n",
       "888          889         0       3   \n",
       "889          890         1       1   \n",
       "890          891         0       3   \n",
       "\n",
       "                                                  Name     Sex   Age  SibSp  \\\n",
       "0                              Braund, Mr. Owen Harris    male  22.0      1   \n",
       "1    Cumings, Mrs. John Bradley (Florence Briggs Th...  female  38.0      1   \n",
       "2                               Heikkinen, Miss. Laina  female  26.0      0   \n",
       "3         Futrelle, Mrs. Jacques Heath (Lily May Peel)  female  35.0      1   \n",
       "4                             Allen, Mr. William Henry    male  35.0      0   \n",
       "..                                                 ...     ...   ...    ...   \n",
       "886                              Montvila, Rev. Juozas    male  27.0      0   \n",
       "887                       Graham, Miss. Margaret Edith  female  19.0      0   \n",
       "888           Johnston, Miss. Catherine Helen \"Carrie\"  female   NaN      1   \n",
       "889                              Behr, Mr. Karl Howell    male  26.0      0   \n",
       "890                                Dooley, Mr. Patrick    male  32.0      0   \n",
       "\n",
       "     Parch            Ticket     Fare Cabin Embarked  \n",
       "0        0         A/5 21171   7.2500   NaN        S  \n",
       "1        0          PC 17599  71.2833   C85        C  \n",
       "2        0  STON/O2. 3101282   7.9250   NaN        S  \n",
       "3        0            113803  53.1000  C123        S  \n",
       "4        0            373450   8.0500   NaN        S  \n",
       "..     ...               ...      ...   ...      ...  \n",
       "886      0            211536  13.0000   NaN        S  \n",
       "887      0            112053  30.0000   B42        S  \n",
       "888      2        W./C. 6607  23.4500   NaN        S  \n",
       "889      0            111369  30.0000  C148        C  \n",
       "890      0            370376   7.7500   NaN        Q  \n",
       "\n",
       "[891 rows x 12 columns]"
      ]
     },
     "execution_count": 3,
     "metadata": {},
     "output_type": "execute_result"
    }
   ],
   "source": [
    "train"
   ]
  },
  {
   "cell_type": "code",
   "execution_count": 4,
   "id": "c766e400",
   "metadata": {
    "execution": {
     "iopub.execute_input": "2022-07-24T23:56:25.651352Z",
     "iopub.status.busy": "2022-07-24T23:56:25.650953Z",
     "iopub.status.idle": "2022-07-24T23:56:25.674602Z",
     "shell.execute_reply": "2022-07-24T23:56:25.673337Z"
    },
    "papermill": {
     "duration": 0.042316,
     "end_time": "2022-07-24T23:56:25.676997",
     "exception": false,
     "start_time": "2022-07-24T23:56:25.634681",
     "status": "completed"
    },
    "tags": []
   },
   "outputs": [
    {
     "data": {
      "text/html": [
       "<div>\n",
       "<style scoped>\n",
       "    .dataframe tbody tr th:only-of-type {\n",
       "        vertical-align: middle;\n",
       "    }\n",
       "\n",
       "    .dataframe tbody tr th {\n",
       "        vertical-align: top;\n",
       "    }\n",
       "\n",
       "    .dataframe thead th {\n",
       "        text-align: right;\n",
       "    }\n",
       "</style>\n",
       "<table border=\"1\" class=\"dataframe\">\n",
       "  <thead>\n",
       "    <tr style=\"text-align: right;\">\n",
       "      <th></th>\n",
       "      <th>PassengerId</th>\n",
       "      <th>Pclass</th>\n",
       "      <th>Name</th>\n",
       "      <th>Sex</th>\n",
       "      <th>Age</th>\n",
       "      <th>SibSp</th>\n",
       "      <th>Parch</th>\n",
       "      <th>Ticket</th>\n",
       "      <th>Fare</th>\n",
       "      <th>Cabin</th>\n",
       "      <th>Embarked</th>\n",
       "    </tr>\n",
       "  </thead>\n",
       "  <tbody>\n",
       "    <tr>\n",
       "      <th>0</th>\n",
       "      <td>892</td>\n",
       "      <td>3</td>\n",
       "      <td>Kelly, Mr. James</td>\n",
       "      <td>male</td>\n",
       "      <td>34.5</td>\n",
       "      <td>0</td>\n",
       "      <td>0</td>\n",
       "      <td>330911</td>\n",
       "      <td>7.8292</td>\n",
       "      <td>NaN</td>\n",
       "      <td>Q</td>\n",
       "    </tr>\n",
       "    <tr>\n",
       "      <th>1</th>\n",
       "      <td>893</td>\n",
       "      <td>3</td>\n",
       "      <td>Wilkes, Mrs. James (Ellen Needs)</td>\n",
       "      <td>female</td>\n",
       "      <td>47.0</td>\n",
       "      <td>1</td>\n",
       "      <td>0</td>\n",
       "      <td>363272</td>\n",
       "      <td>7.0000</td>\n",
       "      <td>NaN</td>\n",
       "      <td>S</td>\n",
       "    </tr>\n",
       "    <tr>\n",
       "      <th>2</th>\n",
       "      <td>894</td>\n",
       "      <td>2</td>\n",
       "      <td>Myles, Mr. Thomas Francis</td>\n",
       "      <td>male</td>\n",
       "      <td>62.0</td>\n",
       "      <td>0</td>\n",
       "      <td>0</td>\n",
       "      <td>240276</td>\n",
       "      <td>9.6875</td>\n",
       "      <td>NaN</td>\n",
       "      <td>Q</td>\n",
       "    </tr>\n",
       "    <tr>\n",
       "      <th>3</th>\n",
       "      <td>895</td>\n",
       "      <td>3</td>\n",
       "      <td>Wirz, Mr. Albert</td>\n",
       "      <td>male</td>\n",
       "      <td>27.0</td>\n",
       "      <td>0</td>\n",
       "      <td>0</td>\n",
       "      <td>315154</td>\n",
       "      <td>8.6625</td>\n",
       "      <td>NaN</td>\n",
       "      <td>S</td>\n",
       "    </tr>\n",
       "    <tr>\n",
       "      <th>4</th>\n",
       "      <td>896</td>\n",
       "      <td>3</td>\n",
       "      <td>Hirvonen, Mrs. Alexander (Helga E Lindqvist)</td>\n",
       "      <td>female</td>\n",
       "      <td>22.0</td>\n",
       "      <td>1</td>\n",
       "      <td>1</td>\n",
       "      <td>3101298</td>\n",
       "      <td>12.2875</td>\n",
       "      <td>NaN</td>\n",
       "      <td>S</td>\n",
       "    </tr>\n",
       "    <tr>\n",
       "      <th>...</th>\n",
       "      <td>...</td>\n",
       "      <td>...</td>\n",
       "      <td>...</td>\n",
       "      <td>...</td>\n",
       "      <td>...</td>\n",
       "      <td>...</td>\n",
       "      <td>...</td>\n",
       "      <td>...</td>\n",
       "      <td>...</td>\n",
       "      <td>...</td>\n",
       "      <td>...</td>\n",
       "    </tr>\n",
       "    <tr>\n",
       "      <th>413</th>\n",
       "      <td>1305</td>\n",
       "      <td>3</td>\n",
       "      <td>Spector, Mr. Woolf</td>\n",
       "      <td>male</td>\n",
       "      <td>NaN</td>\n",
       "      <td>0</td>\n",
       "      <td>0</td>\n",
       "      <td>A.5. 3236</td>\n",
       "      <td>8.0500</td>\n",
       "      <td>NaN</td>\n",
       "      <td>S</td>\n",
       "    </tr>\n",
       "    <tr>\n",
       "      <th>414</th>\n",
       "      <td>1306</td>\n",
       "      <td>1</td>\n",
       "      <td>Oliva y Ocana, Dona. Fermina</td>\n",
       "      <td>female</td>\n",
       "      <td>39.0</td>\n",
       "      <td>0</td>\n",
       "      <td>0</td>\n",
       "      <td>PC 17758</td>\n",
       "      <td>108.9000</td>\n",
       "      <td>C105</td>\n",
       "      <td>C</td>\n",
       "    </tr>\n",
       "    <tr>\n",
       "      <th>415</th>\n",
       "      <td>1307</td>\n",
       "      <td>3</td>\n",
       "      <td>Saether, Mr. Simon Sivertsen</td>\n",
       "      <td>male</td>\n",
       "      <td>38.5</td>\n",
       "      <td>0</td>\n",
       "      <td>0</td>\n",
       "      <td>SOTON/O.Q. 3101262</td>\n",
       "      <td>7.2500</td>\n",
       "      <td>NaN</td>\n",
       "      <td>S</td>\n",
       "    </tr>\n",
       "    <tr>\n",
       "      <th>416</th>\n",
       "      <td>1308</td>\n",
       "      <td>3</td>\n",
       "      <td>Ware, Mr. Frederick</td>\n",
       "      <td>male</td>\n",
       "      <td>NaN</td>\n",
       "      <td>0</td>\n",
       "      <td>0</td>\n",
       "      <td>359309</td>\n",
       "      <td>8.0500</td>\n",
       "      <td>NaN</td>\n",
       "      <td>S</td>\n",
       "    </tr>\n",
       "    <tr>\n",
       "      <th>417</th>\n",
       "      <td>1309</td>\n",
       "      <td>3</td>\n",
       "      <td>Peter, Master. Michael J</td>\n",
       "      <td>male</td>\n",
       "      <td>NaN</td>\n",
       "      <td>1</td>\n",
       "      <td>1</td>\n",
       "      <td>2668</td>\n",
       "      <td>22.3583</td>\n",
       "      <td>NaN</td>\n",
       "      <td>C</td>\n",
       "    </tr>\n",
       "  </tbody>\n",
       "</table>\n",
       "<p>418 rows × 11 columns</p>\n",
       "</div>"
      ],
      "text/plain": [
       "     PassengerId  Pclass                                          Name  \\\n",
       "0            892       3                              Kelly, Mr. James   \n",
       "1            893       3              Wilkes, Mrs. James (Ellen Needs)   \n",
       "2            894       2                     Myles, Mr. Thomas Francis   \n",
       "3            895       3                              Wirz, Mr. Albert   \n",
       "4            896       3  Hirvonen, Mrs. Alexander (Helga E Lindqvist)   \n",
       "..           ...     ...                                           ...   \n",
       "413         1305       3                            Spector, Mr. Woolf   \n",
       "414         1306       1                  Oliva y Ocana, Dona. Fermina   \n",
       "415         1307       3                  Saether, Mr. Simon Sivertsen   \n",
       "416         1308       3                           Ware, Mr. Frederick   \n",
       "417         1309       3                      Peter, Master. Michael J   \n",
       "\n",
       "        Sex   Age  SibSp  Parch              Ticket      Fare Cabin Embarked  \n",
       "0      male  34.5      0      0              330911    7.8292   NaN        Q  \n",
       "1    female  47.0      1      0              363272    7.0000   NaN        S  \n",
       "2      male  62.0      0      0              240276    9.6875   NaN        Q  \n",
       "3      male  27.0      0      0              315154    8.6625   NaN        S  \n",
       "4    female  22.0      1      1             3101298   12.2875   NaN        S  \n",
       "..      ...   ...    ...    ...                 ...       ...   ...      ...  \n",
       "413    male   NaN      0      0           A.5. 3236    8.0500   NaN        S  \n",
       "414  female  39.0      0      0            PC 17758  108.9000  C105        C  \n",
       "415    male  38.5      0      0  SOTON/O.Q. 3101262    7.2500   NaN        S  \n",
       "416    male   NaN      0      0              359309    8.0500   NaN        S  \n",
       "417    male   NaN      1      1                2668   22.3583   NaN        C  \n",
       "\n",
       "[418 rows x 11 columns]"
      ]
     },
     "execution_count": 4,
     "metadata": {},
     "output_type": "execute_result"
    }
   ],
   "source": [
    "test"
   ]
  },
  {
   "cell_type": "markdown",
   "id": "fb0c0136",
   "metadata": {
    "papermill": {
     "duration": 0.014297,
     "end_time": "2022-07-24T23:56:25.706432",
     "exception": false,
     "start_time": "2022-07-24T23:56:25.692135",
     "status": "completed"
    },
    "tags": []
   },
   "source": [
    "# 3. Analysis of main properties of tables with pandas"
   ]
  },
  {
   "cell_type": "code",
   "execution_count": 5,
   "id": "3e42b326",
   "metadata": {
    "execution": {
     "iopub.execute_input": "2022-07-24T23:56:25.738195Z",
     "iopub.status.busy": "2022-07-24T23:56:25.737831Z",
     "iopub.status.idle": "2022-07-24T23:56:25.763921Z",
     "shell.execute_reply": "2022-07-24T23:56:25.762689Z"
    },
    "papermill": {
     "duration": 0.045157,
     "end_time": "2022-07-24T23:56:25.766910",
     "exception": false,
     "start_time": "2022-07-24T23:56:25.721753",
     "status": "completed"
    },
    "tags": []
   },
   "outputs": [
    {
     "name": "stdout",
     "output_type": "stream",
     "text": [
      "<class 'pandas.core.frame.DataFrame'>\n",
      "RangeIndex: 891 entries, 0 to 890\n",
      "Data columns (total 12 columns):\n",
      " #   Column       Non-Null Count  Dtype  \n",
      "---  ------       --------------  -----  \n",
      " 0   PassengerId  891 non-null    int64  \n",
      " 1   Survived     891 non-null    int64  \n",
      " 2   Pclass       891 non-null    int64  \n",
      " 3   Name         891 non-null    object \n",
      " 4   Sex          891 non-null    object \n",
      " 5   Age          714 non-null    float64\n",
      " 6   SibSp        891 non-null    int64  \n",
      " 7   Parch        891 non-null    int64  \n",
      " 8   Ticket       891 non-null    object \n",
      " 9   Fare         891 non-null    float64\n",
      " 10  Cabin        204 non-null    object \n",
      " 11  Embarked     889 non-null    object \n",
      "dtypes: float64(2), int64(5), object(5)\n",
      "memory usage: 83.7+ KB\n"
     ]
    }
   ],
   "source": [
    "train.info()"
   ]
  },
  {
   "cell_type": "markdown",
   "id": "a4449d89",
   "metadata": {
    "papermill": {
     "duration": 0.01431,
     "end_time": "2022-07-24T23:56:25.796466",
     "exception": false,
     "start_time": "2022-07-24T23:56:25.782156",
     "status": "completed"
    },
    "tags": []
   },
   "source": [
    "As it is recognized, there are five columns that their Dtype corresponds to the object, meaning that there could be missing data or mixed value types on the same column:\n",
    "\n",
    "1. Name\n",
    "2. Sex\n",
    "3. Ticket\n",
    "4. Cabin\n",
    "5. Embarked"
   ]
  },
  {
   "cell_type": "code",
   "execution_count": 6,
   "id": "c5348b6f",
   "metadata": {
    "execution": {
     "iopub.execute_input": "2022-07-24T23:56:25.827667Z",
     "iopub.status.busy": "2022-07-24T23:56:25.827217Z",
     "iopub.status.idle": "2022-07-24T23:56:25.842298Z",
     "shell.execute_reply": "2022-07-24T23:56:25.841260Z"
    },
    "papermill": {
     "duration": 0.033582,
     "end_time": "2022-07-24T23:56:25.844739",
     "exception": false,
     "start_time": "2022-07-24T23:56:25.811157",
     "status": "completed"
    },
    "tags": []
   },
   "outputs": [
    {
     "data": {
      "text/plain": [
       "Name   Sex    Ticket\n",
       "False  False  False     891\n",
       "dtype: int64"
      ]
     },
     "execution_count": 6,
     "metadata": {},
     "output_type": "execute_result"
    }
   ],
   "source": [
    "train[[\"Name\",\"Sex\",\"Ticket\"]].isna().value_counts()"
   ]
  },
  {
   "cell_type": "markdown",
   "id": "15272eef",
   "metadata": {
    "papermill": {
     "duration": 0.014723,
     "end_time": "2022-07-24T23:56:25.874469",
     "exception": false,
     "start_time": "2022-07-24T23:56:25.859746",
     "status": "completed"
    },
    "tags": []
   },
   "source": [
    "In the first three, there is no missing data, implying that there must be a problem in format, then starting with Name:"
   ]
  },
  {
   "cell_type": "code",
   "execution_count": 7,
   "id": "c3e8751b",
   "metadata": {
    "execution": {
     "iopub.execute_input": "2022-07-24T23:56:25.906350Z",
     "iopub.status.busy": "2022-07-24T23:56:25.905908Z",
     "iopub.status.idle": "2022-07-24T23:56:25.914419Z",
     "shell.execute_reply": "2022-07-24T23:56:25.913587Z"
    },
    "papermill": {
     "duration": 0.026789,
     "end_time": "2022-07-24T23:56:25.916454",
     "exception": false,
     "start_time": "2022-07-24T23:56:25.889665",
     "status": "completed"
    },
    "tags": []
   },
   "outputs": [
    {
     "data": {
      "text/plain": [
       "0                                Braund, Mr. Owen Harris\n",
       "1      Cumings, Mrs. John Bradley (Florence Briggs Th...\n",
       "2                                 Heikkinen, Miss. Laina\n",
       "3           Futrelle, Mrs. Jacques Heath (Lily May Peel)\n",
       "4                               Allen, Mr. William Henry\n",
       "                             ...                        \n",
       "886                                Montvila, Rev. Juozas\n",
       "887                         Graham, Miss. Margaret Edith\n",
       "888             Johnston, Miss. Catherine Helen \"Carrie\"\n",
       "889                                Behr, Mr. Karl Howell\n",
       "890                                  Dooley, Mr. Patrick\n",
       "Name: Name, Length: 891, dtype: object"
      ]
     },
     "execution_count": 7,
     "metadata": {},
     "output_type": "execute_result"
    }
   ],
   "source": [
    "train[\"Name\"]"
   ]
  },
  {
   "cell_type": "markdown",
   "id": "7de2fd5f",
   "metadata": {
    "papermill": {
     "duration": 0.014851,
     "end_time": "2022-07-24T23:56:25.946616",
     "exception": false,
     "start_time": "2022-07-24T23:56:25.931765",
     "status": "completed"
    },
    "tags": []
   },
   "source": [
    "In this first column, it seems that all the data is in string format and also it could be a reference to identifying things such as a profession, for example, in the case of Montvilla, Rev. Juozas. Then with Sex data:"
   ]
  },
  {
   "cell_type": "code",
   "execution_count": 8,
   "id": "85d5de0b",
   "metadata": {
    "execution": {
     "iopub.execute_input": "2022-07-24T23:56:25.978699Z",
     "iopub.status.busy": "2022-07-24T23:56:25.978274Z",
     "iopub.status.idle": "2022-07-24T23:56:25.987019Z",
     "shell.execute_reply": "2022-07-24T23:56:25.985870Z"
    },
    "papermill": {
     "duration": 0.027477,
     "end_time": "2022-07-24T23:56:25.989310",
     "exception": false,
     "start_time": "2022-07-24T23:56:25.961833",
     "status": "completed"
    },
    "tags": []
   },
   "outputs": [
    {
     "data": {
      "text/plain": [
       "male      577\n",
       "female    314\n",
       "Name: Sex, dtype: int64"
      ]
     },
     "execution_count": 8,
     "metadata": {},
     "output_type": "execute_result"
    }
   ],
   "source": [
    "train[\"Sex\"].value_counts()"
   ]
  },
  {
   "cell_type": "markdown",
   "id": "47ac3dfe",
   "metadata": {
    "papermill": {
     "duration": 0.014976,
     "end_time": "2022-07-24T23:56:26.020032",
     "exception": false,
     "start_time": "2022-07-24T23:56:26.005056",
     "status": "completed"
    },
    "tags": []
   },
   "source": [
    "There is either a female or male, being a candidate to transform the column into categories"
   ]
  },
  {
   "cell_type": "code",
   "execution_count": 9,
   "id": "063a882e",
   "metadata": {
    "execution": {
     "iopub.execute_input": "2022-07-24T23:56:26.052167Z",
     "iopub.status.busy": "2022-07-24T23:56:26.051775Z",
     "iopub.status.idle": "2022-07-24T23:56:26.062020Z",
     "shell.execute_reply": "2022-07-24T23:56:26.060912Z"
    },
    "papermill": {
     "duration": 0.029195,
     "end_time": "2022-07-24T23:56:26.064422",
     "exception": false,
     "start_time": "2022-07-24T23:56:26.035227",
     "status": "completed"
    },
    "tags": []
   },
   "outputs": [
    {
     "data": {
      "text/plain": [
       "347082      7\n",
       "CA. 2343    7\n",
       "1601        7\n",
       "3101295     6\n",
       "CA 2144     6\n",
       "           ..\n",
       "9234        1\n",
       "19988       1\n",
       "2693        1\n",
       "PC 17612    1\n",
       "370376      1\n",
       "Name: Ticket, Length: 681, dtype: int64"
      ]
     },
     "execution_count": 9,
     "metadata": {},
     "output_type": "execute_result"
    }
   ],
   "source": [
    "train[\"Ticket\"].value_counts()"
   ]
  },
  {
   "cell_type": "markdown",
   "id": "ede2f8fb",
   "metadata": {
    "papermill": {
     "duration": 0.015008,
     "end_time": "2022-07-24T23:56:26.095016",
     "exception": false,
     "start_time": "2022-07-24T23:56:26.080008",
     "status": "completed"
    },
    "tags": []
   },
   "source": [
    "In the case of the ticket, there is a mix of numbers and letters."
   ]
  },
  {
   "cell_type": "code",
   "execution_count": 10,
   "id": "66b83880",
   "metadata": {
    "execution": {
     "iopub.execute_input": "2022-07-24T23:56:26.127860Z",
     "iopub.status.busy": "2022-07-24T23:56:26.127465Z",
     "iopub.status.idle": "2022-07-24T23:56:26.136845Z",
     "shell.execute_reply": "2022-07-24T23:56:26.135442Z"
    },
    "papermill": {
     "duration": 0.028737,
     "end_time": "2022-07-24T23:56:26.139188",
     "exception": false,
     "start_time": "2022-07-24T23:56:26.110451",
     "status": "completed"
    },
    "tags": []
   },
   "outputs": [
    {
     "data": {
      "text/plain": [
       "204"
      ]
     },
     "execution_count": 10,
     "metadata": {},
     "output_type": "execute_result"
    }
   ],
   "source": [
    "train[\"Cabin\"].isna().value_counts()[0]"
   ]
  },
  {
   "cell_type": "markdown",
   "id": "fb4c4746",
   "metadata": {
    "papermill": {
     "duration": 0.016187,
     "end_time": "2022-07-24T23:56:26.170933",
     "exception": false,
     "start_time": "2022-07-24T23:56:26.154746",
     "status": "completed"
    },
    "tags": []
   },
   "source": [
    "Then in cabin there are NaN values, showing that most of the column has no data related to the Cabin"
   ]
  },
  {
   "cell_type": "code",
   "execution_count": 11,
   "id": "4cca1d5f",
   "metadata": {
    "execution": {
     "iopub.execute_input": "2022-07-24T23:56:26.203803Z",
     "iopub.status.busy": "2022-07-24T23:56:26.203421Z",
     "iopub.status.idle": "2022-07-24T23:56:26.210601Z",
     "shell.execute_reply": "2022-07-24T23:56:26.209942Z"
    },
    "papermill": {
     "duration": 0.026394,
     "end_time": "2022-07-24T23:56:26.213047",
     "exception": false,
     "start_time": "2022-07-24T23:56:26.186653",
     "status": "completed"
    },
    "tags": []
   },
   "outputs": [
    {
     "data": {
      "text/plain": [
       "S    644\n",
       "C    168\n",
       "Q     77\n",
       "Name: Embarked, dtype: int64"
      ]
     },
     "execution_count": 11,
     "metadata": {},
     "output_type": "execute_result"
    }
   ],
   "source": [
    "train[\"Embarked\"].value_counts()"
   ]
  },
  {
   "cell_type": "markdown",
   "id": "078b1607",
   "metadata": {
    "papermill": {
     "duration": 0.015205,
     "end_time": "2022-07-24T23:56:26.244009",
     "exception": false,
     "start_time": "2022-07-24T23:56:26.228804",
     "status": "completed"
    },
    "tags": []
   },
   "source": [
    "Finally, in the Embarked column there are only 3 categories S, C, and Q, being a candidate to be a categorization column. After this initial analysis with a for loop, it was made the counting of unique categories of all the dataframes alongside the counting of NaN. With these values, it would be constructed the main data for modeling"
   ]
  },
  {
   "cell_type": "code",
   "execution_count": 12,
   "id": "d1e61e49",
   "metadata": {
    "execution": {
     "iopub.execute_input": "2022-07-24T23:56:26.276779Z",
     "iopub.status.busy": "2022-07-24T23:56:26.276396Z",
     "iopub.status.idle": "2022-07-24T23:56:26.286439Z",
     "shell.execute_reply": "2022-07-24T23:56:26.284965Z"
    },
    "papermill": {
     "duration": 0.029157,
     "end_time": "2022-07-24T23:56:26.288723",
     "exception": false,
     "start_time": "2022-07-24T23:56:26.259566",
     "status": "completed"
    },
    "tags": []
   },
   "outputs": [
    {
     "name": "stdout",
     "output_type": "stream",
     "text": [
      "Number of unique values of column PassengerId: 891\n",
      "Number of unique values of column Survived: 2\n",
      "Number of unique values of column Pclass: 3\n",
      "Number of unique values of column Name: 891\n",
      "Number of unique values of column Sex: 2\n",
      "Number of unique values of column Age: 89\n",
      "Number of unique values of column SibSp: 7\n",
      "Number of unique values of column Parch: 7\n",
      "Number of unique values of column Ticket: 681\n",
      "Number of unique values of column Fare: 248\n",
      "Number of unique values of column Cabin: 148\n",
      "Number of unique values of column Embarked: 4\n"
     ]
    }
   ],
   "source": [
    "for i in train.columns:\n",
    "    print(\"Number of unique values of column \" + i + \": \" + str(len(train[i].unique())))"
   ]
  },
  {
   "cell_type": "code",
   "execution_count": 13,
   "id": "212f3216",
   "metadata": {
    "execution": {
     "iopub.execute_input": "2022-07-24T23:56:26.321960Z",
     "iopub.status.busy": "2022-07-24T23:56:26.321565Z",
     "iopub.status.idle": "2022-07-24T23:56:26.337768Z",
     "shell.execute_reply": "2022-07-24T23:56:26.335804Z"
    },
    "papermill": {
     "duration": 0.035573,
     "end_time": "2022-07-24T23:56:26.340095",
     "exception": false,
     "start_time": "2022-07-24T23:56:26.304522",
     "status": "completed"
    },
    "tags": []
   },
   "outputs": [
    {
     "name": "stdout",
     "output_type": "stream",
     "text": [
      "Number of NaN values of column PassengerId: 0\n",
      "Number of NaN values of column Survived: 0\n",
      "Number of NaN values of column Pclass: 0\n",
      "Number of NaN values of column Name: 0\n",
      "Number of NaN values of column Sex: 0\n",
      "Number of NaN values of column Age: 177\n",
      "Number of NaN values of column SibSp: 0\n",
      "Number of NaN values of column Parch: 0\n",
      "Number of NaN values of column Ticket: 0\n",
      "Number of NaN values of column Fare: 0\n",
      "Number of NaN values of column Cabin: 687\n",
      "Number of NaN values of column Embarked: 2\n"
     ]
    }
   ],
   "source": [
    "for i in train.columns:\n",
    "    print(\"Number of NaN values of column \" + i + \": \" + str(len(train[i])-train[i].isna().value_counts()[0]))"
   ]
  },
  {
   "cell_type": "markdown",
   "id": "5dd82a05",
   "metadata": {
    "papermill": {
     "duration": 0.015468,
     "end_time": "2022-07-24T23:56:26.371206",
     "exception": false,
     "start_time": "2022-07-24T23:56:26.355738",
     "status": "completed"
    },
    "tags": []
   },
   "source": [
    "Alongside the previous analysis, it is seen that Age and Cabin columns have a lot of missing values, for this reason before creating the modified dataset these columns are going to be analyzed."
   ]
  },
  {
   "cell_type": "code",
   "execution_count": 14,
   "id": "156548e3",
   "metadata": {
    "execution": {
     "iopub.execute_input": "2022-07-24T23:56:26.404623Z",
     "iopub.status.busy": "2022-07-24T23:56:26.404178Z",
     "iopub.status.idle": "2022-07-24T23:56:26.414324Z",
     "shell.execute_reply": "2022-07-24T23:56:26.413054Z"
    },
    "papermill": {
     "duration": 0.0299,
     "end_time": "2022-07-24T23:56:26.416873",
     "exception": false,
     "start_time": "2022-07-24T23:56:26.386973",
     "status": "completed"
    },
    "tags": []
   },
   "outputs": [
    {
     "data": {
      "text/plain": [
       "0      22.0\n",
       "1      38.0\n",
       "2      26.0\n",
       "3      35.0\n",
       "4      35.0\n",
       "       ... \n",
       "886    27.0\n",
       "887    19.0\n",
       "888     NaN\n",
       "889    26.0\n",
       "890    32.0\n",
       "Name: Age, Length: 891, dtype: float64"
      ]
     },
     "execution_count": 14,
     "metadata": {},
     "output_type": "execute_result"
    }
   ],
   "source": [
    "train[\"Age\"]"
   ]
  },
  {
   "cell_type": "markdown",
   "id": "7cf183c3",
   "metadata": {
    "papermill": {
     "duration": 0.016241,
     "end_time": "2022-07-24T23:56:26.449797",
     "exception": false,
     "start_time": "2022-07-24T23:56:26.433556",
     "status": "completed"
    },
    "tags": []
   },
   "source": [
    "Before constructing the final matrix it is going to be built a preliminary statistical analysis without the Cabin column and rows with null age values. At the same time, a train copy is going to be used to assign new categories to each column related to the preliminary results and data description."
   ]
  },
  {
   "cell_type": "markdown",
   "id": "645973ee",
   "metadata": {
    "papermill": {
     "duration": 0.015526,
     "end_time": "2022-07-24T23:56:26.481292",
     "exception": false,
     "start_time": "2022-07-24T23:56:26.465766",
     "status": "completed"
    },
    "tags": []
   },
   "source": [
    "## Initial Data Transformation"
   ]
  },
  {
   "cell_type": "code",
   "execution_count": 15,
   "id": "fdecdc00",
   "metadata": {
    "execution": {
     "iopub.execute_input": "2022-07-24T23:56:26.515957Z",
     "iopub.status.busy": "2022-07-24T23:56:26.514881Z",
     "iopub.status.idle": "2022-07-24T23:56:26.521958Z",
     "shell.execute_reply": "2022-07-24T23:56:26.521126Z"
    },
    "papermill": {
     "duration": 0.027174,
     "end_time": "2022-07-24T23:56:26.524275",
     "exception": false,
     "start_time": "2022-07-24T23:56:26.497101",
     "status": "completed"
    },
    "tags": []
   },
   "outputs": [],
   "source": [
    "train_stat=train.copy()\n",
    "train_stat.drop(columns=\"Cabin\",inplace=True)"
   ]
  },
  {
   "cell_type": "code",
   "execution_count": 16,
   "id": "3f236ef2",
   "metadata": {
    "execution": {
     "iopub.execute_input": "2022-07-24T23:56:26.559450Z",
     "iopub.status.busy": "2022-07-24T23:56:26.558218Z",
     "iopub.status.idle": "2022-07-24T23:56:26.573195Z",
     "shell.execute_reply": "2022-07-24T23:56:26.571522Z"
    },
    "papermill": {
     "duration": 0.036864,
     "end_time": "2022-07-24T23:56:26.577298",
     "exception": false,
     "start_time": "2022-07-24T23:56:26.540434",
     "status": "completed"
    },
    "tags": []
   },
   "outputs": [
    {
     "name": "stdout",
     "output_type": "stream",
     "text": [
      "<class 'pandas.core.frame.DataFrame'>\n",
      "RangeIndex: 891 entries, 0 to 890\n",
      "Data columns (total 11 columns):\n",
      " #   Column       Non-Null Count  Dtype  \n",
      "---  ------       --------------  -----  \n",
      " 0   PassengerId  891 non-null    int64  \n",
      " 1   Survived     891 non-null    int64  \n",
      " 2   Pclass       891 non-null    int64  \n",
      " 3   Name         891 non-null    object \n",
      " 4   Sex          891 non-null    object \n",
      " 5   Age          714 non-null    float64\n",
      " 6   SibSp        891 non-null    int64  \n",
      " 7   Parch        891 non-null    int64  \n",
      " 8   Ticket       891 non-null    object \n",
      " 9   Fare         891 non-null    float64\n",
      " 10  Embarked     889 non-null    object \n",
      "dtypes: float64(2), int64(5), object(4)\n",
      "memory usage: 76.7+ KB\n"
     ]
    }
   ],
   "source": [
    "train_stat.info()"
   ]
  },
  {
   "cell_type": "code",
   "execution_count": 17,
   "id": "eee14873",
   "metadata": {
    "execution": {
     "iopub.execute_input": "2022-07-24T23:56:26.612482Z",
     "iopub.status.busy": "2022-07-24T23:56:26.611517Z",
     "iopub.status.idle": "2022-07-24T23:56:26.624174Z",
     "shell.execute_reply": "2022-07-24T23:56:26.623280Z"
    },
    "papermill": {
     "duration": 0.032896,
     "end_time": "2022-07-24T23:56:26.626970",
     "exception": false,
     "start_time": "2022-07-24T23:56:26.594074",
     "status": "completed"
    },
    "tags": []
   },
   "outputs": [],
   "source": [
    "train_stat[\"Survived\"]=train_stat[\"Survived\"].astype(\"category\") # Related to survival or not\n",
    "train_stat[\"Pclass\"]=pd.Categorical(train_stat[\"Pclass\"], categories=[3,2,1], ordered=True) # Ordered related to status SES\n",
    "train_stat[\"Sex\"]=train_stat[\"Sex\"].astype(\"category\")\n",
    "train_stat[\"Embarked\"].fillna(\"N\",inplace=True)\n",
    "train_stat[\"Embarked\"]=train_stat[\"Embarked\"].astype(\"category\")"
   ]
  },
  {
   "cell_type": "code",
   "execution_count": 18,
   "id": "8810c798",
   "metadata": {
    "execution": {
     "iopub.execute_input": "2022-07-24T23:56:26.660783Z",
     "iopub.status.busy": "2022-07-24T23:56:26.660404Z",
     "iopub.status.idle": "2022-07-24T23:56:26.669441Z",
     "shell.execute_reply": "2022-07-24T23:56:26.668422Z"
    },
    "papermill": {
     "duration": 0.028645,
     "end_time": "2022-07-24T23:56:26.671851",
     "exception": false,
     "start_time": "2022-07-24T23:56:26.643206",
     "status": "completed"
    },
    "tags": []
   },
   "outputs": [],
   "source": [
    "train_stat.dropna(inplace=True)"
   ]
  },
  {
   "cell_type": "code",
   "execution_count": 19,
   "id": "3409f785",
   "metadata": {
    "execution": {
     "iopub.execute_input": "2022-07-24T23:56:26.706370Z",
     "iopub.status.busy": "2022-07-24T23:56:26.705958Z",
     "iopub.status.idle": "2022-07-24T23:56:26.723756Z",
     "shell.execute_reply": "2022-07-24T23:56:26.721248Z"
    },
    "papermill": {
     "duration": 0.038371,
     "end_time": "2022-07-24T23:56:26.727194",
     "exception": false,
     "start_time": "2022-07-24T23:56:26.688823",
     "status": "completed"
    },
    "tags": []
   },
   "outputs": [
    {
     "name": "stdout",
     "output_type": "stream",
     "text": [
      "<class 'pandas.core.frame.DataFrame'>\n",
      "Int64Index: 714 entries, 0 to 890\n",
      "Data columns (total 11 columns):\n",
      " #   Column       Non-Null Count  Dtype   \n",
      "---  ------       --------------  -----   \n",
      " 0   PassengerId  714 non-null    int64   \n",
      " 1   Survived     714 non-null    category\n",
      " 2   Pclass       714 non-null    category\n",
      " 3   Name         714 non-null    object  \n",
      " 4   Sex          714 non-null    category\n",
      " 5   Age          714 non-null    float64 \n",
      " 6   SibSp        714 non-null    int64   \n",
      " 7   Parch        714 non-null    int64   \n",
      " 8   Ticket       714 non-null    object  \n",
      " 9   Fare         714 non-null    float64 \n",
      " 10  Embarked     714 non-null    category\n",
      "dtypes: category(4), float64(2), int64(3), object(2)\n",
      "memory usage: 48.0+ KB\n"
     ]
    }
   ],
   "source": [
    "train_stat.info()"
   ]
  },
  {
   "cell_type": "markdown",
   "id": "b50b13c5",
   "metadata": {
    "papermill": {
     "duration": 0.015648,
     "end_time": "2022-07-24T23:56:26.759182",
     "exception": false,
     "start_time": "2022-07-24T23:56:26.743534",
     "status": "completed"
    },
    "tags": []
   },
   "source": [
    "## Correlations and statistical Analysis"
   ]
  },
  {
   "cell_type": "markdown",
   "id": "9e2fae56",
   "metadata": {
    "papermill": {
     "duration": 0.015607,
     "end_time": "2022-07-24T23:56:26.790993",
     "exception": false,
     "start_time": "2022-07-24T23:56:26.775386",
     "status": "completed"
    },
    "tags": []
   },
   "source": [
    "In this case, it is going to be made correlation analysis alongside other exploratory data analyses"
   ]
  },
  {
   "cell_type": "code",
   "execution_count": 20,
   "id": "312c5a9e",
   "metadata": {
    "execution": {
     "iopub.execute_input": "2022-07-24T23:56:26.825091Z",
     "iopub.status.busy": "2022-07-24T23:56:26.824312Z",
     "iopub.status.idle": "2022-07-24T23:56:27.428830Z",
     "shell.execute_reply": "2022-07-24T23:56:27.427711Z"
    },
    "papermill": {
     "duration": 0.62458,
     "end_time": "2022-07-24T23:56:27.431453",
     "exception": false,
     "start_time": "2022-07-24T23:56:26.806873",
     "status": "completed"
    },
    "tags": []
   },
   "outputs": [
    {
     "data": {
      "image/png": "[encoded data removed]",
      "text/plain": [
       "<Figure size 432x288 with 1 Axes>"
      ]
     },
     "metadata": {
      "needs_background": "light"
     },
     "output_type": "display_data"
    },
    {
     "data": {
      "image/png": "[encoded data removed]",
      "text/plain": [
       "<Figure size 432x288 with 1 Axes>"
      ]
     },
     "metadata": {
      "needs_background": "light"
     },
     "output_type": "display_data"
    },
    {
     "data": {
      "image/png": "[encoded data removed]",
      "text/plain": [
       "<Figure size 432x288 with 1 Axes>"
      ]
     },
     "metadata": {
      "needs_background": "light"
     },
     "output_type": "display_data"
    }
   ],
   "source": [
    "#Histograms\n",
    "data_hist=[\"Age\",\"SibSp\",\"Parch\"]\n",
    "for dat in data_hist:\n",
    "    plt.figure()\n",
    "    plt.hist(train_stat[dat])\n",
    "    plt.title(dat)"
   ]
  },
  {
   "cell_type": "markdown",
   "id": "d7ad5333",
   "metadata": {
    "papermill": {
     "duration": 0.016398,
     "end_time": "2022-07-24T23:56:27.464716",
     "exception": false,
     "start_time": "2022-07-24T23:56:27.448318",
     "status": "completed"
    },
    "tags": []
   },
   "source": [
    "Alongside the numerical values, it was made an initial correlation matrix:"
   ]
  },
  {
   "cell_type": "code",
   "execution_count": 21,
   "id": "cc8086d0",
   "metadata": {
    "execution": {
     "iopub.execute_input": "2022-07-24T23:56:27.500599Z",
     "iopub.status.busy": "2022-07-24T23:56:27.500192Z",
     "iopub.status.idle": "2022-07-24T23:56:27.822846Z",
     "shell.execute_reply": "2022-07-24T23:56:27.821350Z"
    },
    "papermill": {
     "duration": 0.344424,
     "end_time": "2022-07-24T23:56:27.826397",
     "exception": false,
     "start_time": "2022-07-24T23:56:27.481973",
     "status": "completed"
    },
    "tags": []
   },
   "outputs": [
    {
     "data": {
      "text/plain": [
       "<AxesSubplot:>"
      ]
     },
     "execution_count": 21,
     "metadata": {},
     "output_type": "execute_result"
    },
    {
     "data": {
      "image/png": "[encoded data removed]",
      "text/plain": [
       "<Figure size 432x288 with 2 Axes>"
      ]
     },
     "metadata": {
      "needs_background": "light"
     },
     "output_type": "display_data"
    }
   ],
   "source": [
    "sns.heatmap(train_stat.corr(),annot=True)"
   ]
  },
  {
   "cell_type": "markdown",
   "id": "1c4378b1",
   "metadata": {
    "papermill": {
     "duration": 0.018412,
     "end_time": "2022-07-24T23:56:27.867433",
     "exception": false,
     "start_time": "2022-07-24T23:56:27.849021",
     "status": "completed"
    },
    "tags": []
   },
   "source": [
    "In complement, there was made a boxplot relating the main variables with age:"
   ]
  },
  {
   "cell_type": "code",
   "execution_count": 22,
   "id": "220bb728",
   "metadata": {
    "execution": {
     "iopub.execute_input": "2022-07-24T23:56:27.908174Z",
     "iopub.status.busy": "2022-07-24T23:56:27.907652Z",
     "iopub.status.idle": "2022-07-24T23:56:28.947400Z",
     "shell.execute_reply": "2022-07-24T23:56:28.946258Z"
    },
    "papermill": {
     "duration": 1.064061,
     "end_time": "2022-07-24T23:56:28.949815",
     "exception": false,
     "start_time": "2022-07-24T23:56:27.885754",
     "status": "completed"
    },
    "tags": []
   },
   "outputs": [
    {
     "data": {
      "image/png": "[encoded data removed]",
      "text/plain": [
       "<Figure size 432x288 with 1 Axes>"
      ]
     },
     "metadata": {
      "needs_background": "light"
     },
     "output_type": "display_data"
    },
    {
     "data": {
      "image/png": "[encoded data removed]",
      "text/plain": [
       "<Figure size 432x288 with 1 Axes>"
      ]
     },
     "metadata": {
      "needs_background": "light"
     },
     "output_type": "display_data"
    },
    {
     "data": {
      "image/png": "[encoded data removed]",
      "text/plain": [
       "<Figure size 432x288 with 1 Axes>"
      ]
     },
     "metadata": {
      "needs_background": "light"
     },
     "output_type": "display_data"
    },
    {
     "data": {
      "image/png": "[encoded data removed]",
      "text/plain": [
       "<Figure size 432x288 with 1 Axes>"
      ]
     },
     "metadata": {
      "needs_background": "light"
     },
     "output_type": "display_data"
    },
    {
     "data": {
      "image/png": "[encoded data removed]",
      "text/plain": [
       "<Figure size 432x288 with 1 Axes>"
      ]
     },
     "metadata": {
      "needs_background": "light"
     },
     "output_type": "display_data"
    }
   ],
   "source": [
    "categorical=[\"Embarked\",\"Sex\",\"Pclass\",\"Survived\",\"Parch\"]\n",
    "for i in categorical:\n",
    "    plt.figure()\n",
    "    sns.boxplot(x=i,y=\"Age\",data=train_stat)"
   ]
  },
  {
   "cell_type": "markdown",
   "id": "b2a5f8c2",
   "metadata": {
    "papermill": {
     "duration": 0.019748,
     "end_time": "2022-07-24T23:56:28.988098",
     "exception": false,
     "start_time": "2022-07-24T23:56:28.968350",
     "status": "completed"
    },
    "tags": []
   },
   "source": [
    "With these analyses, it is seen that there is not a significant correlation between numerical parameters and that regarding the estimation of age the P-class could be useful as the average of the Higher class is higher than the others, without considering for example the data dispersion"
   ]
  },
  {
   "cell_type": "markdown",
   "id": "dbd22559",
   "metadata": {
    "papermill": {
     "duration": 0.018157,
     "end_time": "2022-07-24T23:56:29.024679",
     "exception": false,
     "start_time": "2022-07-24T23:56:29.006522",
     "status": "completed"
    },
    "tags": []
   },
   "source": [
    "## Linear regression analysis"
   ]
  },
  {
   "cell_type": "code",
   "execution_count": 23,
   "id": "58cc4a69",
   "metadata": {
    "execution": {
     "iopub.execute_input": "2022-07-24T23:56:29.064400Z",
     "iopub.status.busy": "2022-07-24T23:56:29.063485Z",
     "iopub.status.idle": "2022-07-24T23:56:29.113806Z",
     "shell.execute_reply": "2022-07-24T23:56:29.112648Z"
    },
    "papermill": {
     "duration": 0.073002,
     "end_time": "2022-07-24T23:56:29.116202",
     "exception": false,
     "start_time": "2022-07-24T23:56:29.043200",
     "status": "completed"
    },
    "tags": []
   },
   "outputs": [
    {
     "data": {
      "text/html": [
       "<table class=\"simpletable\">\n",
       "<caption>OLS Regression Results</caption>\n",
       "<tr>\n",
       "  <th>Dep. Variable:</th>           <td>Age</td>       <th>  R-squared:         </th> <td>   0.280</td>\n",
       "</tr>\n",
       "<tr>\n",
       "  <th>Model:</th>                   <td>OLS</td>       <th>  Adj. R-squared:    </th> <td>   0.270</td>\n",
       "</tr>\n",
       "<tr>\n",
       "  <th>Method:</th>             <td>Least Squares</td>  <th>  F-statistic:       </th> <td>   30.35</td>\n",
       "</tr>\n",
       "<tr>\n",
       "  <th>Date:</th>             <td>Sun, 24 Jul 2022</td> <th>  Prob (F-statistic):</th> <td>6.39e-45</td>\n",
       "</tr>\n",
       "<tr>\n",
       "  <th>Time:</th>                 <td>23:56:29</td>     <th>  Log-Likelihood:    </th> <td> -2806.2</td>\n",
       "</tr>\n",
       "<tr>\n",
       "  <th>No. Observations:</th>      <td>   714</td>      <th>  AIC:               </th> <td>   5632.</td>\n",
       "</tr>\n",
       "<tr>\n",
       "  <th>Df Residuals:</th>          <td>   704</td>      <th>  BIC:               </th> <td>   5678.</td>\n",
       "</tr>\n",
       "<tr>\n",
       "  <th>Df Model:</th>              <td>     9</td>      <th>                     </th>     <td> </td>   \n",
       "</tr>\n",
       "<tr>\n",
       "  <th>Covariance Type:</th>      <td>nonrobust</td>    <th>                     </th>     <td> </td>   \n",
       "</tr>\n",
       "</table>\n",
       "<table class=\"simpletable\">\n",
       "<tr>\n",
       "        <td></td>           <th>coef</th>     <th>std err</th>      <th>t</th>      <th>P>|t|</th>  <th>[0.025</th>    <th>0.975]</th>  \n",
       "</tr>\n",
       "<tr>\n",
       "  <th>Intercept</th>     <td>   27.4897</td> <td>    1.735</td> <td>   15.845</td> <td> 0.000</td> <td>   24.083</td> <td>   30.896</td>\n",
       "</tr>\n",
       "<tr>\n",
       "  <th>Embarked[T.N]</th> <td>   13.3201</td> <td>    8.876</td> <td>    1.501</td> <td> 0.134</td> <td>   -4.107</td> <td>   30.747</td>\n",
       "</tr>\n",
       "<tr>\n",
       "  <th>Embarked[T.Q]</th> <td>    4.6477</td> <td>    2.667</td> <td>    1.743</td> <td> 0.082</td> <td>   -0.588</td> <td>    9.883</td>\n",
       "</tr>\n",
       "<tr>\n",
       "  <th>Embarked[T.S]</th> <td>    2.4821</td> <td>    1.292</td> <td>    1.921</td> <td> 0.055</td> <td>   -0.055</td> <td>    5.019</td>\n",
       "</tr>\n",
       "<tr>\n",
       "  <th>Sex[T.male]</th>   <td>   -0.2576</td> <td>    1.186</td> <td>   -0.217</td> <td> 0.828</td> <td>   -2.585</td> <td>    2.070</td>\n",
       "</tr>\n",
       "<tr>\n",
       "  <th>Pclass[T.2]</th>   <td>    5.6712</td> <td>    1.190</td> <td>    4.766</td> <td> 0.000</td> <td>    3.335</td> <td>    8.008</td>\n",
       "</tr>\n",
       "<tr>\n",
       "  <th>Pclass[T.1]</th>   <td>   15.9758</td> <td>    1.253</td> <td>   12.753</td> <td> 0.000</td> <td>   13.516</td> <td>   18.435</td>\n",
       "</tr>\n",
       "<tr>\n",
       "  <th>Survived[T.1]</th> <td>   -6.7857</td> <td>    1.197</td> <td>   -5.669</td> <td> 0.000</td> <td>   -9.136</td> <td>   -4.436</td>\n",
       "</tr>\n",
       "<tr>\n",
       "  <th>Parch</th>         <td>   -0.9488</td> <td>    0.607</td> <td>   -1.564</td> <td> 0.118</td> <td>   -2.140</td> <td>    0.243</td>\n",
       "</tr>\n",
       "<tr>\n",
       "  <th>SibSp</th>         <td>   -4.1809</td> <td>    0.545</td> <td>   -7.675</td> <td> 0.000</td> <td>   -5.250</td> <td>   -3.111</td>\n",
       "</tr>\n",
       "</table>\n",
       "<table class=\"simpletable\">\n",
       "<tr>\n",
       "  <th>Omnibus:</th>       <td>23.147</td> <th>  Durbin-Watson:     </th> <td>   1.882</td>\n",
       "</tr>\n",
       "<tr>\n",
       "  <th>Prob(Omnibus):</th> <td> 0.000</td> <th>  Jarque-Bera (JB):  </th> <td>  24.516</td>\n",
       "</tr>\n",
       "<tr>\n",
       "  <th>Skew:</th>          <td> 0.440</td> <th>  Prob(JB):          </th> <td>4.75e-06</td>\n",
       "</tr>\n",
       "<tr>\n",
       "  <th>Kurtosis:</th>      <td> 3.224</td> <th>  Cond. No.          </th> <td>    33.3</td>\n",
       "</tr>\n",
       "</table><br/><br/>Notes:<br/>[1] Standard Errors assume that the covariance matrix of the errors is correctly specified."
      ],
      "text/plain": [
       "<class 'statsmodels.iolib.summary.Summary'>\n",
       "\"\"\"\n",
       "                            OLS Regression Results                            \n",
       "==============================================================================\n",
       "Dep. Variable:                    Age   R-squared:                       0.280\n",
       "Model:                            OLS   Adj. R-squared:                  0.270\n",
       "Method:                 Least Squares   F-statistic:                     30.35\n",
       "Date:                Sun, 24 Jul 2022   Prob (F-statistic):           6.39e-45\n",
       "Time:                        23:56:29   Log-Likelihood:                -2806.2\n",
       "No. Observations:                 714   AIC:                             5632.\n",
       "Df Residuals:                     704   BIC:                             5678.\n",
       "Df Model:                           9                                         \n",
       "Covariance Type:            nonrobust                                         \n",
       "=================================================================================\n",
       "                    coef    std err          t      P>|t|      [0.025      0.975]\n",
       "---------------------------------------------------------------------------------\n",
       "Intercept        27.4897      1.735     15.845      0.000      24.083      30.896\n",
       "Embarked[T.N]    13.3201      8.876      1.501      0.134      -4.107      30.747\n",
       "Embarked[T.Q]     4.6477      2.667      1.743      0.082      -0.588       9.883\n",
       "Embarked[T.S]     2.4821      1.292      1.921      0.055      -0.055       5.019\n",
       "Sex[T.male]      -0.2576      1.186     -0.217      0.828      -2.585       2.070\n",
       "Pclass[T.2]       5.6712      1.190      4.766      0.000       3.335       8.008\n",
       "Pclass[T.1]      15.9758      1.253     12.753      0.000      13.516      18.435\n",
       "Survived[T.1]    -6.7857      1.197     -5.669      0.000      -9.136      -4.436\n",
       "Parch            -0.9488      0.607     -1.564      0.118      -2.140       0.243\n",
       "SibSp            -4.1809      0.545     -7.675      0.000      -5.250      -3.111\n",
       "==============================================================================\n",
       "Omnibus:                       23.147   Durbin-Watson:                   1.882\n",
       "Prob(Omnibus):                  0.000   Jarque-Bera (JB):               24.516\n",
       "Skew:                           0.440   Prob(JB):                     4.75e-06\n",
       "Kurtosis:                       3.224   Cond. No.                         33.3\n",
       "==============================================================================\n",
       "\n",
       "Notes:\n",
       "[1] Standard Errors assume that the covariance matrix of the errors is correctly specified.\n",
       "\"\"\""
      ]
     },
     "execution_count": 23,
     "metadata": {},
     "output_type": "execute_result"
    }
   ],
   "source": [
    "formula= 'Age ~ Embarked + Sex + Pclass + Survived + Parch + SibSp'\n",
    "model=sm.ols(formula = formula, data= train_stat)\n",
    "fitted = model.fit()\n",
    "fitted.summary()"
   ]
  },
  {
   "cell_type": "markdown",
   "id": "520dfeff",
   "metadata": {
    "papermill": {
     "duration": 0.018735,
     "end_time": "2022-07-24T23:56:29.153701",
     "exception": false,
     "start_time": "2022-07-24T23:56:29.134966",
     "status": "completed"
    },
    "tags": []
   },
   "source": [
    "As expected and with a reference P value of 0.05, only the variables of P-class, Survived, and SibSp are significant to estimate the missing ages. For this reason, the model is updated with these values and it will be used to obtain an approximate of the missing values and to be able to make the respective prediction"
   ]
  },
  {
   "cell_type": "code",
   "execution_count": 24,
   "id": "688d2ccb",
   "metadata": {
    "execution": {
     "iopub.execute_input": "2022-07-24T23:56:29.194210Z",
     "iopub.status.busy": "2022-07-24T23:56:29.193438Z",
     "iopub.status.idle": "2022-07-24T23:56:29.220761Z",
     "shell.execute_reply": "2022-07-24T23:56:29.219700Z"
    },
    "papermill": {
     "duration": 0.05023,
     "end_time": "2022-07-24T23:56:29.223207",
     "exception": false,
     "start_time": "2022-07-24T23:56:29.172977",
     "status": "completed"
    },
    "tags": []
   },
   "outputs": [
    {
     "data": {
      "text/html": [
       "<table class=\"simpletable\">\n",
       "<caption>OLS Regression Results</caption>\n",
       "<tr>\n",
       "  <th>Dep. Variable:</th>           <td>Age</td>       <th>  R-squared:         </th> <td>   0.270</td>\n",
       "</tr>\n",
       "<tr>\n",
       "  <th>Model:</th>                   <td>OLS</td>       <th>  Adj. R-squared:    </th> <td>   0.266</td>\n",
       "</tr>\n",
       "<tr>\n",
       "  <th>Method:</th>             <td>Least Squares</td>  <th>  F-statistic:       </th> <td>   65.59</td>\n",
       "</tr>\n",
       "<tr>\n",
       "  <th>Date:</th>             <td>Sun, 24 Jul 2022</td> <th>  Prob (F-statistic):</th> <td>3.25e-47</td>\n",
       "</tr>\n",
       "<tr>\n",
       "  <th>Time:</th>                 <td>23:56:29</td>     <th>  Log-Likelihood:    </th> <td> -2810.9</td>\n",
       "</tr>\n",
       "<tr>\n",
       "  <th>No. Observations:</th>      <td>   714</td>      <th>  AIC:               </th> <td>   5632.</td>\n",
       "</tr>\n",
       "<tr>\n",
       "  <th>Df Residuals:</th>          <td>   709</td>      <th>  BIC:               </th> <td>   5655.</td>\n",
       "</tr>\n",
       "<tr>\n",
       "  <th>Df Model:</th>              <td>     4</td>      <th>                     </th>     <td> </td>   \n",
       "</tr>\n",
       "<tr>\n",
       "  <th>Covariance Type:</th>      <td>nonrobust</td>    <th>                     </th>     <td> </td>   \n",
       "</tr>\n",
       "</table>\n",
       "<table class=\"simpletable\">\n",
       "<tr>\n",
       "        <td></td>           <th>coef</th>     <th>std err</th>      <th>t</th>      <th>P>|t|</th>  <th>[0.025</th>    <th>0.975]</th>  \n",
       "</tr>\n",
       "<tr>\n",
       "  <th>Intercept</th>     <td>   29.4323</td> <td>    0.762</td> <td>   38.607</td> <td> 0.000</td> <td>   27.936</td> <td>   30.929</td>\n",
       "</tr>\n",
       "<tr>\n",
       "  <th>Pclass[T.2]</th>   <td>    5.7161</td> <td>    1.182</td> <td>    4.834</td> <td> 0.000</td> <td>    3.395</td> <td>    8.037</td>\n",
       "</tr>\n",
       "<tr>\n",
       "  <th>Pclass[T.1]</th>   <td>   15.4130</td> <td>    1.206</td> <td>   12.784</td> <td> 0.000</td> <td>   13.046</td> <td>   17.780</td>\n",
       "</tr>\n",
       "<tr>\n",
       "  <th>Survived[T.1]</th> <td>   -7.0092</td> <td>    1.017</td> <td>   -6.893</td> <td> 0.000</td> <td>   -9.006</td> <td>   -5.013</td>\n",
       "</tr>\n",
       "<tr>\n",
       "  <th>SibSp</th>         <td>   -4.4604</td> <td>    0.503</td> <td>   -8.870</td> <td> 0.000</td> <td>   -5.448</td> <td>   -3.473</td>\n",
       "</tr>\n",
       "</table>\n",
       "<table class=\"simpletable\">\n",
       "<tr>\n",
       "  <th>Omnibus:</th>       <td>20.861</td> <th>  Durbin-Watson:     </th> <td>   1.887</td>\n",
       "</tr>\n",
       "<tr>\n",
       "  <th>Prob(Omnibus):</th> <td> 0.000</td> <th>  Jarque-Bera (JB):  </th> <td>  21.998</td>\n",
       "</tr>\n",
       "<tr>\n",
       "  <th>Skew:</th>          <td> 0.403</td> <th>  Prob(JB):          </th> <td>1.67e-05</td>\n",
       "</tr>\n",
       "<tr>\n",
       "  <th>Kurtosis:</th>      <td> 3.297</td> <th>  Cond. No.          </th> <td>    4.38</td>\n",
       "</tr>\n",
       "</table><br/><br/>Notes:<br/>[1] Standard Errors assume that the covariance matrix of the errors is correctly specified."
      ],
      "text/plain": [
       "<class 'statsmodels.iolib.summary.Summary'>\n",
       "\"\"\"\n",
       "                            OLS Regression Results                            \n",
       "==============================================================================\n",
       "Dep. Variable:                    Age   R-squared:                       0.270\n",
       "Model:                            OLS   Adj. R-squared:                  0.266\n",
       "Method:                 Least Squares   F-statistic:                     65.59\n",
       "Date:                Sun, 24 Jul 2022   Prob (F-statistic):           3.25e-47\n",
       "Time:                        23:56:29   Log-Likelihood:                -2810.9\n",
       "No. Observations:                 714   AIC:                             5632.\n",
       "Df Residuals:                     709   BIC:                             5655.\n",
       "Df Model:                           4                                         \n",
       "Covariance Type:            nonrobust                                         \n",
       "=================================================================================\n",
       "                    coef    std err          t      P>|t|      [0.025      0.975]\n",
       "---------------------------------------------------------------------------------\n",
       "Intercept        29.4323      0.762     38.607      0.000      27.936      30.929\n",
       "Pclass[T.2]       5.7161      1.182      4.834      0.000       3.395       8.037\n",
       "Pclass[T.1]      15.4130      1.206     12.784      0.000      13.046      17.780\n",
       "Survived[T.1]    -7.0092      1.017     -6.893      0.000      -9.006      -5.013\n",
       "SibSp            -4.4604      0.503     -8.870      0.000      -5.448      -3.473\n",
       "==============================================================================\n",
       "Omnibus:                       20.861   Durbin-Watson:                   1.887\n",
       "Prob(Omnibus):                  0.000   Jarque-Bera (JB):               21.998\n",
       "Skew:                           0.403   Prob(JB):                     1.67e-05\n",
       "Kurtosis:                       3.297   Cond. No.                         4.38\n",
       "==============================================================================\n",
       "\n",
       "Notes:\n",
       "[1] Standard Errors assume that the covariance matrix of the errors is correctly specified.\n",
       "\"\"\""
      ]
     },
     "execution_count": 24,
     "metadata": {},
     "output_type": "execute_result"
    }
   ],
   "source": [
    "formula2= 'Age ~ Pclass + Survived + SibSp'\n",
    "model2=sm.ols(formula = formula2, data= train_stat)\n",
    "fitted2 = model2.fit()\n",
    "fitted2.summary()"
   ]
  },
  {
   "cell_type": "markdown",
   "id": "38f59419",
   "metadata": {
    "papermill": {
     "duration": 0.018861,
     "end_time": "2022-07-24T23:56:29.261296",
     "exception": false,
     "start_time": "2022-07-24T23:56:29.242435",
     "status": "completed"
    },
    "tags": []
   },
   "source": [
    "Finally, these models will be tested with the specific rows and this same development would be resumed in the next notebook with the overall final prediction of surviving"
   ]
  },
  {
   "cell_type": "code",
   "execution_count": 25,
   "id": "9694b727",
   "metadata": {
    "execution": {
     "iopub.execute_input": "2022-07-24T23:56:29.301694Z",
     "iopub.status.busy": "2022-07-24T23:56:29.300901Z",
     "iopub.status.idle": "2022-07-24T23:56:29.324015Z",
     "shell.execute_reply": "2022-07-24T23:56:29.323032Z"
    },
    "papermill": {
     "duration": 0.045656,
     "end_time": "2022-07-24T23:56:29.326112",
     "exception": false,
     "start_time": "2022-07-24T23:56:29.280456",
     "status": "completed"
    },
    "tags": []
   },
   "outputs": [
    {
     "data": {
      "text/html": [
       "<div>\n",
       "<style scoped>\n",
       "    .dataframe tbody tr th:only-of-type {\n",
       "        vertical-align: middle;\n",
       "    }\n",
       "\n",
       "    .dataframe tbody tr th {\n",
       "        vertical-align: top;\n",
       "    }\n",
       "\n",
       "    .dataframe thead th {\n",
       "        text-align: right;\n",
       "    }\n",
       "</style>\n",
       "<table border=\"1\" class=\"dataframe\">\n",
       "  <thead>\n",
       "    <tr style=\"text-align: right;\">\n",
       "      <th></th>\n",
       "      <th>PassengerId</th>\n",
       "      <th>Survived</th>\n",
       "      <th>Pclass</th>\n",
       "      <th>Name</th>\n",
       "      <th>Sex</th>\n",
       "      <th>Age</th>\n",
       "      <th>SibSp</th>\n",
       "      <th>Parch</th>\n",
       "      <th>Ticket</th>\n",
       "      <th>Fare</th>\n",
       "      <th>Cabin</th>\n",
       "      <th>Embarked</th>\n",
       "    </tr>\n",
       "  </thead>\n",
       "  <tbody>\n",
       "    <tr>\n",
       "      <th>5</th>\n",
       "      <td>6</td>\n",
       "      <td>0</td>\n",
       "      <td>3</td>\n",
       "      <td>Moran, Mr. James</td>\n",
       "      <td>male</td>\n",
       "      <td>NaN</td>\n",
       "      <td>0</td>\n",
       "      <td>0</td>\n",
       "      <td>330877</td>\n",
       "      <td>8.4583</td>\n",
       "      <td>NaN</td>\n",
       "      <td>Q</td>\n",
       "    </tr>\n",
       "    <tr>\n",
       "      <th>17</th>\n",
       "      <td>18</td>\n",
       "      <td>1</td>\n",
       "      <td>2</td>\n",
       "      <td>Williams, Mr. Charles Eugene</td>\n",
       "      <td>male</td>\n",
       "      <td>NaN</td>\n",
       "      <td>0</td>\n",
       "      <td>0</td>\n",
       "      <td>244373</td>\n",
       "      <td>13.0000</td>\n",
       "      <td>NaN</td>\n",
       "      <td>S</td>\n",
       "    </tr>\n",
       "    <tr>\n",
       "      <th>19</th>\n",
       "      <td>20</td>\n",
       "      <td>1</td>\n",
       "      <td>3</td>\n",
       "      <td>Masselmani, Mrs. Fatima</td>\n",
       "      <td>female</td>\n",
       "      <td>NaN</td>\n",
       "      <td>0</td>\n",
       "      <td>0</td>\n",
       "      <td>2649</td>\n",
       "      <td>7.2250</td>\n",
       "      <td>NaN</td>\n",
       "      <td>C</td>\n",
       "    </tr>\n",
       "    <tr>\n",
       "      <th>26</th>\n",
       "      <td>27</td>\n",
       "      <td>0</td>\n",
       "      <td>3</td>\n",
       "      <td>Emir, Mr. Farred Chehab</td>\n",
       "      <td>male</td>\n",
       "      <td>NaN</td>\n",
       "      <td>0</td>\n",
       "      <td>0</td>\n",
       "      <td>2631</td>\n",
       "      <td>7.2250</td>\n",
       "      <td>NaN</td>\n",
       "      <td>C</td>\n",
       "    </tr>\n",
       "    <tr>\n",
       "      <th>28</th>\n",
       "      <td>29</td>\n",
       "      <td>1</td>\n",
       "      <td>3</td>\n",
       "      <td>O'Dwyer, Miss. Ellen \"Nellie\"</td>\n",
       "      <td>female</td>\n",
       "      <td>NaN</td>\n",
       "      <td>0</td>\n",
       "      <td>0</td>\n",
       "      <td>330959</td>\n",
       "      <td>7.8792</td>\n",
       "      <td>NaN</td>\n",
       "      <td>Q</td>\n",
       "    </tr>\n",
       "    <tr>\n",
       "      <th>...</th>\n",
       "      <td>...</td>\n",
       "      <td>...</td>\n",
       "      <td>...</td>\n",
       "      <td>...</td>\n",
       "      <td>...</td>\n",
       "      <td>...</td>\n",
       "      <td>...</td>\n",
       "      <td>...</td>\n",
       "      <td>...</td>\n",
       "      <td>...</td>\n",
       "      <td>...</td>\n",
       "      <td>...</td>\n",
       "    </tr>\n",
       "    <tr>\n",
       "      <th>859</th>\n",
       "      <td>860</td>\n",
       "      <td>0</td>\n",
       "      <td>3</td>\n",
       "      <td>Razi, Mr. Raihed</td>\n",
       "      <td>male</td>\n",
       "      <td>NaN</td>\n",
       "      <td>0</td>\n",
       "      <td>0</td>\n",
       "      <td>2629</td>\n",
       "      <td>7.2292</td>\n",
       "      <td>NaN</td>\n",
       "      <td>C</td>\n",
       "    </tr>\n",
       "    <tr>\n",
       "      <th>863</th>\n",
       "      <td>864</td>\n",
       "      <td>0</td>\n",
       "      <td>3</td>\n",
       "      <td>Sage, Miss. Dorothy Edith \"Dolly\"</td>\n",
       "      <td>female</td>\n",
       "      <td>NaN</td>\n",
       "      <td>8</td>\n",
       "      <td>2</td>\n",
       "      <td>CA. 2343</td>\n",
       "      <td>69.5500</td>\n",
       "      <td>NaN</td>\n",
       "      <td>S</td>\n",
       "    </tr>\n",
       "    <tr>\n",
       "      <th>868</th>\n",
       "      <td>869</td>\n",
       "      <td>0</td>\n",
       "      <td>3</td>\n",
       "      <td>van Melkebeke, Mr. Philemon</td>\n",
       "      <td>male</td>\n",
       "      <td>NaN</td>\n",
       "      <td>0</td>\n",
       "      <td>0</td>\n",
       "      <td>345777</td>\n",
       "      <td>9.5000</td>\n",
       "      <td>NaN</td>\n",
       "      <td>S</td>\n",
       "    </tr>\n",
       "    <tr>\n",
       "      <th>878</th>\n",
       "      <td>879</td>\n",
       "      <td>0</td>\n",
       "      <td>3</td>\n",
       "      <td>Laleff, Mr. Kristo</td>\n",
       "      <td>male</td>\n",
       "      <td>NaN</td>\n",
       "      <td>0</td>\n",
       "      <td>0</td>\n",
       "      <td>349217</td>\n",
       "      <td>7.8958</td>\n",
       "      <td>NaN</td>\n",
       "      <td>S</td>\n",
       "    </tr>\n",
       "    <tr>\n",
       "      <th>888</th>\n",
       "      <td>889</td>\n",
       "      <td>0</td>\n",
       "      <td>3</td>\n",
       "      <td>Johnston, Miss. Catherine Helen \"Carrie\"</td>\n",
       "      <td>female</td>\n",
       "      <td>NaN</td>\n",
       "      <td>1</td>\n",
       "      <td>2</td>\n",
       "      <td>W./C. 6607</td>\n",
       "      <td>23.4500</td>\n",
       "      <td>NaN</td>\n",
       "      <td>S</td>\n",
       "    </tr>\n",
       "  </tbody>\n",
       "</table>\n",
       "<p>177 rows × 12 columns</p>\n",
       "</div>"
      ],
      "text/plain": [
       "     PassengerId  Survived  Pclass                                      Name  \\\n",
       "5              6         0       3                          Moran, Mr. James   \n",
       "17            18         1       2              Williams, Mr. Charles Eugene   \n",
       "19            20         1       3                   Masselmani, Mrs. Fatima   \n",
       "26            27         0       3                   Emir, Mr. Farred Chehab   \n",
       "28            29         1       3             O'Dwyer, Miss. Ellen \"Nellie\"   \n",
       "..           ...       ...     ...                                       ...   \n",
       "859          860         0       3                          Razi, Mr. Raihed   \n",
       "863          864         0       3         Sage, Miss. Dorothy Edith \"Dolly\"   \n",
       "868          869         0       3               van Melkebeke, Mr. Philemon   \n",
       "878          879         0       3                        Laleff, Mr. Kristo   \n",
       "888          889         0       3  Johnston, Miss. Catherine Helen \"Carrie\"   \n",
       "\n",
       "        Sex  Age  SibSp  Parch      Ticket     Fare Cabin Embarked  \n",
       "5      male  NaN      0      0      330877   8.4583   NaN        Q  \n",
       "17     male  NaN      0      0      244373  13.0000   NaN        S  \n",
       "19   female  NaN      0      0        2649   7.2250   NaN        C  \n",
       "26     male  NaN      0      0        2631   7.2250   NaN        C  \n",
       "28   female  NaN      0      0      330959   7.8792   NaN        Q  \n",
       "..      ...  ...    ...    ...         ...      ...   ...      ...  \n",
       "859    male  NaN      0      0        2629   7.2292   NaN        C  \n",
       "863  female  NaN      8      2    CA. 2343  69.5500   NaN        S  \n",
       "868    male  NaN      0      0      345777   9.5000   NaN        S  \n",
       "878    male  NaN      0      0      349217   7.8958   NaN        S  \n",
       "888  female  NaN      1      2  W./C. 6607  23.4500   NaN        S  \n",
       "\n",
       "[177 rows x 12 columns]"
      ]
     },
     "execution_count": 25,
     "metadata": {},
     "output_type": "execute_result"
    }
   ],
   "source": [
    "train_age=train[train[\"Age\"].isna()]\n",
    "train_age"
   ]
  },
  {
   "cell_type": "code",
   "execution_count": 26,
   "id": "fe5f52fb",
   "metadata": {
    "execution": {
     "iopub.execute_input": "2022-07-24T23:56:29.368111Z",
     "iopub.status.busy": "2022-07-24T23:56:29.366893Z",
     "iopub.status.idle": "2022-07-24T23:56:29.380488Z",
     "shell.execute_reply": "2022-07-24T23:56:29.379626Z"
    },
    "papermill": {
     "duration": 0.036996,
     "end_time": "2022-07-24T23:56:29.382658",
     "exception": false,
     "start_time": "2022-07-24T23:56:29.345662",
     "status": "completed"
    },
    "tags": []
   },
   "outputs": [
    {
     "data": {
      "text/html": [
       "<div>\n",
       "<style scoped>\n",
       "    .dataframe tbody tr th:only-of-type {\n",
       "        vertical-align: middle;\n",
       "    }\n",
       "\n",
       "    .dataframe tbody tr th {\n",
       "        vertical-align: top;\n",
       "    }\n",
       "\n",
       "    .dataframe thead th {\n",
       "        text-align: right;\n",
       "    }\n",
       "</style>\n",
       "<table border=\"1\" class=\"dataframe\">\n",
       "  <thead>\n",
       "    <tr style=\"text-align: right;\">\n",
       "      <th></th>\n",
       "      <th>Pclass</th>\n",
       "      <th>Survived</th>\n",
       "      <th>SibSp</th>\n",
       "    </tr>\n",
       "  </thead>\n",
       "  <tbody>\n",
       "    <tr>\n",
       "      <th>5</th>\n",
       "      <td>3</td>\n",
       "      <td>0</td>\n",
       "      <td>0</td>\n",
       "    </tr>\n",
       "    <tr>\n",
       "      <th>17</th>\n",
       "      <td>2</td>\n",
       "      <td>1</td>\n",
       "      <td>0</td>\n",
       "    </tr>\n",
       "    <tr>\n",
       "      <th>19</th>\n",
       "      <td>3</td>\n",
       "      <td>1</td>\n",
       "      <td>0</td>\n",
       "    </tr>\n",
       "    <tr>\n",
       "      <th>26</th>\n",
       "      <td>3</td>\n",
       "      <td>0</td>\n",
       "      <td>0</td>\n",
       "    </tr>\n",
       "    <tr>\n",
       "      <th>28</th>\n",
       "      <td>3</td>\n",
       "      <td>1</td>\n",
       "      <td>0</td>\n",
       "    </tr>\n",
       "    <tr>\n",
       "      <th>...</th>\n",
       "      <td>...</td>\n",
       "      <td>...</td>\n",
       "      <td>...</td>\n",
       "    </tr>\n",
       "    <tr>\n",
       "      <th>859</th>\n",
       "      <td>3</td>\n",
       "      <td>0</td>\n",
       "      <td>0</td>\n",
       "    </tr>\n",
       "    <tr>\n",
       "      <th>863</th>\n",
       "      <td>3</td>\n",
       "      <td>0</td>\n",
       "      <td>8</td>\n",
       "    </tr>\n",
       "    <tr>\n",
       "      <th>868</th>\n",
       "      <td>3</td>\n",
       "      <td>0</td>\n",
       "      <td>0</td>\n",
       "    </tr>\n",
       "    <tr>\n",
       "      <th>878</th>\n",
       "      <td>3</td>\n",
       "      <td>0</td>\n",
       "      <td>0</td>\n",
       "    </tr>\n",
       "    <tr>\n",
       "      <th>888</th>\n",
       "      <td>3</td>\n",
       "      <td>0</td>\n",
       "      <td>1</td>\n",
       "    </tr>\n",
       "  </tbody>\n",
       "</table>\n",
       "<p>177 rows × 3 columns</p>\n",
       "</div>"
      ],
      "text/plain": [
       "     Pclass  Survived  SibSp\n",
       "5         3         0      0\n",
       "17        2         1      0\n",
       "19        3         1      0\n",
       "26        3         0      0\n",
       "28        3         1      0\n",
       "..      ...       ...    ...\n",
       "859       3         0      0\n",
       "863       3         0      8\n",
       "868       3         0      0\n",
       "878       3         0      0\n",
       "888       3         0      1\n",
       "\n",
       "[177 rows x 3 columns]"
      ]
     },
     "execution_count": 26,
     "metadata": {},
     "output_type": "execute_result"
    }
   ],
   "source": [
    "train_predict=train_age[[\"Pclass\",\"Survived\", \"SibSp\"]]\n",
    "train_predict"
   ]
  },
  {
   "cell_type": "code",
   "execution_count": 27,
   "id": "b5ff00b0",
   "metadata": {
    "execution": {
     "iopub.execute_input": "2022-07-24T23:56:29.425055Z",
     "iopub.status.busy": "2022-07-24T23:56:29.423935Z",
     "iopub.status.idle": "2022-07-24T23:56:29.454417Z",
     "shell.execute_reply": "2022-07-24T23:56:29.453415Z"
    },
    "papermill": {
     "duration": 0.054449,
     "end_time": "2022-07-24T23:56:29.457143",
     "exception": false,
     "start_time": "2022-07-24T23:56:29.402694",
     "status": "completed"
    },
    "tags": []
   },
   "outputs": [],
   "source": [
    "model_predict = LinearRegression()\n",
    "model_predict.fit(train_stat[[\"Pclass\",\"Survived\", \"SibSp\"]],train_stat[\"Age\"])\n",
    "age_predict=model_predict.predict(train_predict)"
   ]
  },
  {
   "cell_type": "markdown",
   "id": "21854cab",
   "metadata": {
    "papermill": {
     "duration": 0.019633,
     "end_time": "2022-07-24T23:56:29.496654",
     "exception": false,
     "start_time": "2022-07-24T23:56:29.477021",
     "status": "completed"
    },
    "tags": []
   },
   "source": [
    "As there are negative values, for implementation purposes these values will be transformed into all positive:"
   ]
  },
  {
   "cell_type": "code",
   "execution_count": 28,
   "id": "9ce0783d",
   "metadata": {
    "execution": {
     "iopub.execute_input": "2022-07-24T23:56:29.538126Z",
     "iopub.status.busy": "2022-07-24T23:56:29.537755Z",
     "iopub.status.idle": "2022-07-24T23:56:29.542651Z",
     "shell.execute_reply": "2022-07-24T23:56:29.541582Z"
    },
    "papermill": {
     "duration": 0.028137,
     "end_time": "2022-07-24T23:56:29.544681",
     "exception": false,
     "start_time": "2022-07-24T23:56:29.516544",
     "status": "completed"
    },
    "tags": []
   },
   "outputs": [],
   "source": [
    "age_predict=list(abs(age_predict))"
   ]
  },
  {
   "cell_type": "code",
   "execution_count": 29,
   "id": "d3676eba",
   "metadata": {
    "execution": {
     "iopub.execute_input": "2022-07-24T23:56:29.586379Z",
     "iopub.status.busy": "2022-07-24T23:56:29.585768Z",
     "iopub.status.idle": "2022-07-24T23:56:29.591416Z",
     "shell.execute_reply": "2022-07-24T23:56:29.590652Z"
    },
    "papermill": {
     "duration": 0.02891,
     "end_time": "2022-07-24T23:56:29.593402",
     "exception": false,
     "start_time": "2022-07-24T23:56:29.564492",
     "status": "completed"
    },
    "tags": []
   },
   "outputs": [
    {
     "data": {
      "text/plain": [
       "[29.066091038460538,\n",
       " 29.56010753179032,\n",
       " 22.001890359651405,\n",
       " 29.066091038460538,\n",
       " 22.001890359651405,\n",
       " 29.066091038460538,\n",
       " 32.69584065086397,\n",
       " 22.001890359651405,\n",
       " 22.001890359651405,\n",
       " 29.066091038460538]"
      ]
     },
     "execution_count": 29,
     "metadata": {},
     "output_type": "execute_result"
    }
   ],
   "source": [
    "age_predict[:10]"
   ]
  },
  {
   "cell_type": "markdown",
   "id": "45c602e8",
   "metadata": {
    "papermill": {
     "duration": 0.019455,
     "end_time": "2022-07-24T23:56:29.632907",
     "exception": false,
     "start_time": "2022-07-24T23:56:29.613452",
     "status": "completed"
    },
    "tags": []
   },
   "source": [
    "Replacement of new values in initial train value:"
   ]
  },
  {
   "cell_type": "code",
   "execution_count": 30,
   "id": "84ce422d",
   "metadata": {
    "execution": {
     "iopub.execute_input": "2022-07-24T23:56:29.674476Z",
     "iopub.status.busy": "2022-07-24T23:56:29.673966Z",
     "iopub.status.idle": "2022-07-24T23:56:29.680875Z",
     "shell.execute_reply": "2022-07-24T23:56:29.680140Z"
    },
    "papermill": {
     "duration": 0.029989,
     "end_time": "2022-07-24T23:56:29.682742",
     "exception": false,
     "start_time": "2022-07-24T23:56:29.652753",
     "status": "completed"
    },
    "tags": []
   },
   "outputs": [
    {
     "data": {
      "text/plain": [
       "[5, 17, 19, 26, 28, 29, 31, 32, 36, 42]"
      ]
     },
     "execution_count": 30,
     "metadata": {},
     "output_type": "execute_result"
    }
   ],
   "source": [
    "nan_rows=list(train_predict.index)\n",
    "nan_rows[:10]"
   ]
  },
  {
   "cell_type": "code",
   "execution_count": 31,
   "id": "502748d4",
   "metadata": {
    "execution": {
     "iopub.execute_input": "2022-07-24T23:56:29.724850Z",
     "iopub.status.busy": "2022-07-24T23:56:29.723925Z",
     "iopub.status.idle": "2022-07-24T23:56:29.770000Z",
     "shell.execute_reply": "2022-07-24T23:56:29.768730Z"
    },
    "papermill": {
     "duration": 0.069771,
     "end_time": "2022-07-24T23:56:29.772717",
     "exception": false,
     "start_time": "2022-07-24T23:56:29.702946",
     "status": "completed"
    },
    "tags": []
   },
   "outputs": [],
   "source": [
    "count=0\n",
    "for i in nan_rows:\n",
    "    train.loc[i,\"Age\"]=int(age_predict[count])\n",
    "    count=count+1"
   ]
  },
  {
   "cell_type": "code",
   "execution_count": 32,
   "id": "644d6373",
   "metadata": {
    "execution": {
     "iopub.execute_input": "2022-07-24T23:56:29.814663Z",
     "iopub.status.busy": "2022-07-24T23:56:29.814223Z",
     "iopub.status.idle": "2022-07-24T23:56:29.841014Z",
     "shell.execute_reply": "2022-07-24T23:56:29.839787Z"
    },
    "papermill": {
     "duration": 0.050402,
     "end_time": "2022-07-24T23:56:29.843451",
     "exception": false,
     "start_time": "2022-07-24T23:56:29.793049",
     "status": "completed"
    },
    "tags": []
   },
   "outputs": [
    {
     "data": {
      "text/html": [
       "<div>\n",
       "<style scoped>\n",
       "    .dataframe tbody tr th:only-of-type {\n",
       "        vertical-align: middle;\n",
       "    }\n",
       "\n",
       "    .dataframe tbody tr th {\n",
       "        vertical-align: top;\n",
       "    }\n",
       "\n",
       "    .dataframe thead th {\n",
       "        text-align: right;\n",
       "    }\n",
       "</style>\n",
       "<table border=\"1\" class=\"dataframe\">\n",
       "  <thead>\n",
       "    <tr style=\"text-align: right;\">\n",
       "      <th></th>\n",
       "      <th>PassengerId</th>\n",
       "      <th>Survived</th>\n",
       "      <th>Pclass</th>\n",
       "      <th>Name</th>\n",
       "      <th>Sex</th>\n",
       "      <th>Age</th>\n",
       "      <th>SibSp</th>\n",
       "      <th>Parch</th>\n",
       "      <th>Ticket</th>\n",
       "      <th>Fare</th>\n",
       "      <th>Cabin</th>\n",
       "      <th>Embarked</th>\n",
       "    </tr>\n",
       "  </thead>\n",
       "  <tbody>\n",
       "    <tr>\n",
       "      <th>0</th>\n",
       "      <td>1</td>\n",
       "      <td>0</td>\n",
       "      <td>3</td>\n",
       "      <td>Braund, Mr. Owen Harris</td>\n",
       "      <td>male</td>\n",
       "      <td>22.0</td>\n",
       "      <td>1</td>\n",
       "      <td>0</td>\n",
       "      <td>A/5 21171</td>\n",
       "      <td>7.2500</td>\n",
       "      <td>NaN</td>\n",
       "      <td>S</td>\n",
       "    </tr>\n",
       "    <tr>\n",
       "      <th>1</th>\n",
       "      <td>2</td>\n",
       "      <td>1</td>\n",
       "      <td>1</td>\n",
       "      <td>Cumings, Mrs. John Bradley (Florence Briggs Th...</td>\n",
       "      <td>female</td>\n",
       "      <td>38.0</td>\n",
       "      <td>1</td>\n",
       "      <td>0</td>\n",
       "      <td>PC 17599</td>\n",
       "      <td>71.2833</td>\n",
       "      <td>C85</td>\n",
       "      <td>C</td>\n",
       "    </tr>\n",
       "    <tr>\n",
       "      <th>2</th>\n",
       "      <td>3</td>\n",
       "      <td>1</td>\n",
       "      <td>3</td>\n",
       "      <td>Heikkinen, Miss. Laina</td>\n",
       "      <td>female</td>\n",
       "      <td>26.0</td>\n",
       "      <td>0</td>\n",
       "      <td>0</td>\n",
       "      <td>STON/O2. 3101282</td>\n",
       "      <td>7.9250</td>\n",
       "      <td>NaN</td>\n",
       "      <td>S</td>\n",
       "    </tr>\n",
       "    <tr>\n",
       "      <th>3</th>\n",
       "      <td>4</td>\n",
       "      <td>1</td>\n",
       "      <td>1</td>\n",
       "      <td>Futrelle, Mrs. Jacques Heath (Lily May Peel)</td>\n",
       "      <td>female</td>\n",
       "      <td>35.0</td>\n",
       "      <td>1</td>\n",
       "      <td>0</td>\n",
       "      <td>113803</td>\n",
       "      <td>53.1000</td>\n",
       "      <td>C123</td>\n",
       "      <td>S</td>\n",
       "    </tr>\n",
       "    <tr>\n",
       "      <th>4</th>\n",
       "      <td>5</td>\n",
       "      <td>0</td>\n",
       "      <td>3</td>\n",
       "      <td>Allen, Mr. William Henry</td>\n",
       "      <td>male</td>\n",
       "      <td>35.0</td>\n",
       "      <td>0</td>\n",
       "      <td>0</td>\n",
       "      <td>373450</td>\n",
       "      <td>8.0500</td>\n",
       "      <td>NaN</td>\n",
       "      <td>S</td>\n",
       "    </tr>\n",
       "    <tr>\n",
       "      <th>...</th>\n",
       "      <td>...</td>\n",
       "      <td>...</td>\n",
       "      <td>...</td>\n",
       "      <td>...</td>\n",
       "      <td>...</td>\n",
       "      <td>...</td>\n",
       "      <td>...</td>\n",
       "      <td>...</td>\n",
       "      <td>...</td>\n",
       "      <td>...</td>\n",
       "      <td>...</td>\n",
       "      <td>...</td>\n",
       "    </tr>\n",
       "    <tr>\n",
       "      <th>886</th>\n",
       "      <td>887</td>\n",
       "      <td>0</td>\n",
       "      <td>2</td>\n",
       "      <td>Montvila, Rev. Juozas</td>\n",
       "      <td>male</td>\n",
       "      <td>27.0</td>\n",
       "      <td>0</td>\n",
       "      <td>0</td>\n",
       "      <td>211536</td>\n",
       "      <td>13.0000</td>\n",
       "      <td>NaN</td>\n",
       "      <td>S</td>\n",
       "    </tr>\n",
       "    <tr>\n",
       "      <th>887</th>\n",
       "      <td>888</td>\n",
       "      <td>1</td>\n",
       "      <td>1</td>\n",
       "      <td>Graham, Miss. Margaret Edith</td>\n",
       "      <td>female</td>\n",
       "      <td>19.0</td>\n",
       "      <td>0</td>\n",
       "      <td>0</td>\n",
       "      <td>112053</td>\n",
       "      <td>30.0000</td>\n",
       "      <td>B42</td>\n",
       "      <td>S</td>\n",
       "    </tr>\n",
       "    <tr>\n",
       "      <th>888</th>\n",
       "      <td>889</td>\n",
       "      <td>0</td>\n",
       "      <td>3</td>\n",
       "      <td>Johnston, Miss. Catherine Helen \"Carrie\"</td>\n",
       "      <td>female</td>\n",
       "      <td>24.0</td>\n",
       "      <td>1</td>\n",
       "      <td>2</td>\n",
       "      <td>W./C. 6607</td>\n",
       "      <td>23.4500</td>\n",
       "      <td>NaN</td>\n",
       "      <td>S</td>\n",
       "    </tr>\n",
       "    <tr>\n",
       "      <th>889</th>\n",
       "      <td>890</td>\n",
       "      <td>1</td>\n",
       "      <td>1</td>\n",
       "      <td>Behr, Mr. Karl Howell</td>\n",
       "      <td>male</td>\n",
       "      <td>26.0</td>\n",
       "      <td>0</td>\n",
       "      <td>0</td>\n",
       "      <td>111369</td>\n",
       "      <td>30.0000</td>\n",
       "      <td>C148</td>\n",
       "      <td>C</td>\n",
       "    </tr>\n",
       "    <tr>\n",
       "      <th>890</th>\n",
       "      <td>891</td>\n",
       "      <td>0</td>\n",
       "      <td>3</td>\n",
       "      <td>Dooley, Mr. Patrick</td>\n",
       "      <td>male</td>\n",
       "      <td>32.0</td>\n",
       "      <td>0</td>\n",
       "      <td>0</td>\n",
       "      <td>370376</td>\n",
       "      <td>7.7500</td>\n",
       "      <td>NaN</td>\n",
       "      <td>Q</td>\n",
       "    </tr>\n",
       "  </tbody>\n",
       "</table>\n",
       "<p>891 rows × 12 columns</p>\n",
       "</div>"
      ],
      "text/plain": [
       "     PassengerId  Survived  Pclass  \\\n",
       "0              1         0       3   \n",
       "1              2         1       1   \n",
       "2              3         1       3   \n",
       "3              4         1       1   \n",
       "4              5         0       3   \n",
       "..           ...       ...     ...   \n",
       "886          887         0       2   \n",
       "887          888         1       1   \n",
       "888          889         0       3   \n",
       "889          890         1       1   \n",
       "890          891         0       3   \n",
       "\n",
       "                                                  Name     Sex   Age  SibSp  \\\n",
       "0                              Braund, Mr. Owen Harris    male  22.0      1   \n",
       "1    Cumings, Mrs. John Bradley (Florence Briggs Th...  female  38.0      1   \n",
       "2                               Heikkinen, Miss. Laina  female  26.0      0   \n",
       "3         Futrelle, Mrs. Jacques Heath (Lily May Peel)  female  35.0      1   \n",
       "4                             Allen, Mr. William Henry    male  35.0      0   \n",
       "..                                                 ...     ...   ...    ...   \n",
       "886                              Montvila, Rev. Juozas    male  27.0      0   \n",
       "887                       Graham, Miss. Margaret Edith  female  19.0      0   \n",
       "888           Johnston, Miss. Catherine Helen \"Carrie\"  female  24.0      1   \n",
       "889                              Behr, Mr. Karl Howell    male  26.0      0   \n",
       "890                                Dooley, Mr. Patrick    male  32.0      0   \n",
       "\n",
       "     Parch            Ticket     Fare Cabin Embarked  \n",
       "0        0         A/5 21171   7.2500   NaN        S  \n",
       "1        0          PC 17599  71.2833   C85        C  \n",
       "2        0  STON/O2. 3101282   7.9250   NaN        S  \n",
       "3        0            113803  53.1000  C123        S  \n",
       "4        0            373450   8.0500   NaN        S  \n",
       "..     ...               ...      ...   ...      ...  \n",
       "886      0            211536  13.0000   NaN        S  \n",
       "887      0            112053  30.0000   B42        S  \n",
       "888      2        W./C. 6607  23.4500   NaN        S  \n",
       "889      0            111369  30.0000  C148        C  \n",
       "890      0            370376   7.7500   NaN        Q  \n",
       "\n",
       "[891 rows x 12 columns]"
      ]
     },
     "execution_count": 32,
     "metadata": {},
     "output_type": "execute_result"
    }
   ],
   "source": [
    "train"
   ]
  },
  {
   "cell_type": "markdown",
   "id": "800ad135",
   "metadata": {
    "papermill": {
     "duration": 0.019959,
     "end_time": "2022-07-24T23:56:29.883697",
     "exception": false,
     "start_time": "2022-07-24T23:56:29.863738",
     "status": "completed"
    },
    "tags": []
   },
   "source": [
    "Finally, the same method is implemented on the test table with the same Linear Regression Model approach but without the Survived column:"
   ]
  },
  {
   "cell_type": "code",
   "execution_count": 33,
   "id": "f7d28a5a",
   "metadata": {
    "execution": {
     "iopub.execute_input": "2022-07-24T23:56:29.925944Z",
     "iopub.status.busy": "2022-07-24T23:56:29.925556Z",
     "iopub.status.idle": "2022-07-24T23:56:29.951472Z",
     "shell.execute_reply": "2022-07-24T23:56:29.950616Z"
    },
    "papermill": {
     "duration": 0.049549,
     "end_time": "2022-07-24T23:56:29.953537",
     "exception": false,
     "start_time": "2022-07-24T23:56:29.903988",
     "status": "completed"
    },
    "tags": []
   },
   "outputs": [
    {
     "data": {
      "text/html": [
       "<div>\n",
       "<style scoped>\n",
       "    .dataframe tbody tr th:only-of-type {\n",
       "        vertical-align: middle;\n",
       "    }\n",
       "\n",
       "    .dataframe tbody tr th {\n",
       "        vertical-align: top;\n",
       "    }\n",
       "\n",
       "    .dataframe thead th {\n",
       "        text-align: right;\n",
       "    }\n",
       "</style>\n",
       "<table border=\"1\" class=\"dataframe\">\n",
       "  <thead>\n",
       "    <tr style=\"text-align: right;\">\n",
       "      <th></th>\n",
       "      <th>PassengerId</th>\n",
       "      <th>Pclass</th>\n",
       "      <th>Name</th>\n",
       "      <th>Sex</th>\n",
       "      <th>Age</th>\n",
       "      <th>SibSp</th>\n",
       "      <th>Parch</th>\n",
       "      <th>Ticket</th>\n",
       "      <th>Fare</th>\n",
       "      <th>Cabin</th>\n",
       "      <th>Embarked</th>\n",
       "    </tr>\n",
       "  </thead>\n",
       "  <tbody>\n",
       "    <tr>\n",
       "      <th>10</th>\n",
       "      <td>902</td>\n",
       "      <td>3</td>\n",
       "      <td>Ilieff, Mr. Ylio</td>\n",
       "      <td>male</td>\n",
       "      <td>NaN</td>\n",
       "      <td>0</td>\n",
       "      <td>0</td>\n",
       "      <td>349220</td>\n",
       "      <td>7.8958</td>\n",
       "      <td>NaN</td>\n",
       "      <td>S</td>\n",
       "    </tr>\n",
       "    <tr>\n",
       "      <th>22</th>\n",
       "      <td>914</td>\n",
       "      <td>1</td>\n",
       "      <td>Flegenheim, Mrs. Alfred (Antoinette)</td>\n",
       "      <td>female</td>\n",
       "      <td>NaN</td>\n",
       "      <td>0</td>\n",
       "      <td>0</td>\n",
       "      <td>PC 17598</td>\n",
       "      <td>31.6833</td>\n",
       "      <td>NaN</td>\n",
       "      <td>S</td>\n",
       "    </tr>\n",
       "    <tr>\n",
       "      <th>29</th>\n",
       "      <td>921</td>\n",
       "      <td>3</td>\n",
       "      <td>Samaan, Mr. Elias</td>\n",
       "      <td>male</td>\n",
       "      <td>NaN</td>\n",
       "      <td>2</td>\n",
       "      <td>0</td>\n",
       "      <td>2662</td>\n",
       "      <td>21.6792</td>\n",
       "      <td>NaN</td>\n",
       "      <td>C</td>\n",
       "    </tr>\n",
       "    <tr>\n",
       "      <th>33</th>\n",
       "      <td>925</td>\n",
       "      <td>3</td>\n",
       "      <td>Johnston, Mrs. Andrew G (Elizabeth Lily\" Watson)\"</td>\n",
       "      <td>female</td>\n",
       "      <td>NaN</td>\n",
       "      <td>1</td>\n",
       "      <td>2</td>\n",
       "      <td>W./C. 6607</td>\n",
       "      <td>23.4500</td>\n",
       "      <td>NaN</td>\n",
       "      <td>S</td>\n",
       "    </tr>\n",
       "    <tr>\n",
       "      <th>36</th>\n",
       "      <td>928</td>\n",
       "      <td>3</td>\n",
       "      <td>Roth, Miss. Sarah A</td>\n",
       "      <td>female</td>\n",
       "      <td>NaN</td>\n",
       "      <td>0</td>\n",
       "      <td>0</td>\n",
       "      <td>342712</td>\n",
       "      <td>8.0500</td>\n",
       "      <td>NaN</td>\n",
       "      <td>S</td>\n",
       "    </tr>\n",
       "    <tr>\n",
       "      <th>...</th>\n",
       "      <td>...</td>\n",
       "      <td>...</td>\n",
       "      <td>...</td>\n",
       "      <td>...</td>\n",
       "      <td>...</td>\n",
       "      <td>...</td>\n",
       "      <td>...</td>\n",
       "      <td>...</td>\n",
       "      <td>...</td>\n",
       "      <td>...</td>\n",
       "      <td>...</td>\n",
       "    </tr>\n",
       "    <tr>\n",
       "      <th>408</th>\n",
       "      <td>1300</td>\n",
       "      <td>3</td>\n",
       "      <td>Riordan, Miss. Johanna Hannah\"\"</td>\n",
       "      <td>female</td>\n",
       "      <td>NaN</td>\n",
       "      <td>0</td>\n",
       "      <td>0</td>\n",
       "      <td>334915</td>\n",
       "      <td>7.7208</td>\n",
       "      <td>NaN</td>\n",
       "      <td>Q</td>\n",
       "    </tr>\n",
       "    <tr>\n",
       "      <th>410</th>\n",
       "      <td>1302</td>\n",
       "      <td>3</td>\n",
       "      <td>Naughton, Miss. Hannah</td>\n",
       "      <td>female</td>\n",
       "      <td>NaN</td>\n",
       "      <td>0</td>\n",
       "      <td>0</td>\n",
       "      <td>365237</td>\n",
       "      <td>7.7500</td>\n",
       "      <td>NaN</td>\n",
       "      <td>Q</td>\n",
       "    </tr>\n",
       "    <tr>\n",
       "      <th>413</th>\n",
       "      <td>1305</td>\n",
       "      <td>3</td>\n",
       "      <td>Spector, Mr. Woolf</td>\n",
       "      <td>male</td>\n",
       "      <td>NaN</td>\n",
       "      <td>0</td>\n",
       "      <td>0</td>\n",
       "      <td>A.5. 3236</td>\n",
       "      <td>8.0500</td>\n",
       "      <td>NaN</td>\n",
       "      <td>S</td>\n",
       "    </tr>\n",
       "    <tr>\n",
       "      <th>416</th>\n",
       "      <td>1308</td>\n",
       "      <td>3</td>\n",
       "      <td>Ware, Mr. Frederick</td>\n",
       "      <td>male</td>\n",
       "      <td>NaN</td>\n",
       "      <td>0</td>\n",
       "      <td>0</td>\n",
       "      <td>359309</td>\n",
       "      <td>8.0500</td>\n",
       "      <td>NaN</td>\n",
       "      <td>S</td>\n",
       "    </tr>\n",
       "    <tr>\n",
       "      <th>417</th>\n",
       "      <td>1309</td>\n",
       "      <td>3</td>\n",
       "      <td>Peter, Master. Michael J</td>\n",
       "      <td>male</td>\n",
       "      <td>NaN</td>\n",
       "      <td>1</td>\n",
       "      <td>1</td>\n",
       "      <td>2668</td>\n",
       "      <td>22.3583</td>\n",
       "      <td>NaN</td>\n",
       "      <td>C</td>\n",
       "    </tr>\n",
       "  </tbody>\n",
       "</table>\n",
       "<p>86 rows × 11 columns</p>\n",
       "</div>"
      ],
      "text/plain": [
       "     PassengerId  Pclass                                               Name  \\\n",
       "10           902       3                                   Ilieff, Mr. Ylio   \n",
       "22           914       1               Flegenheim, Mrs. Alfred (Antoinette)   \n",
       "29           921       3                                  Samaan, Mr. Elias   \n",
       "33           925       3  Johnston, Mrs. Andrew G (Elizabeth Lily\" Watson)\"   \n",
       "36           928       3                                Roth, Miss. Sarah A   \n",
       "..           ...     ...                                                ...   \n",
       "408         1300       3                    Riordan, Miss. Johanna Hannah\"\"   \n",
       "410         1302       3                             Naughton, Miss. Hannah   \n",
       "413         1305       3                                 Spector, Mr. Woolf   \n",
       "416         1308       3                                Ware, Mr. Frederick   \n",
       "417         1309       3                           Peter, Master. Michael J   \n",
       "\n",
       "        Sex  Age  SibSp  Parch      Ticket     Fare Cabin Embarked  \n",
       "10     male  NaN      0      0      349220   7.8958   NaN        S  \n",
       "22   female  NaN      0      0    PC 17598  31.6833   NaN        S  \n",
       "29     male  NaN      2      0        2662  21.6792   NaN        C  \n",
       "33   female  NaN      1      2  W./C. 6607  23.4500   NaN        S  \n",
       "36   female  NaN      0      0      342712   8.0500   NaN        S  \n",
       "..      ...  ...    ...    ...         ...      ...   ...      ...  \n",
       "408  female  NaN      0      0      334915   7.7208   NaN        Q  \n",
       "410  female  NaN      0      0      365237   7.7500   NaN        Q  \n",
       "413    male  NaN      0      0   A.5. 3236   8.0500   NaN        S  \n",
       "416    male  NaN      0      0      359309   8.0500   NaN        S  \n",
       "417    male  NaN      1      1        2668  22.3583   NaN        C  \n",
       "\n",
       "[86 rows x 11 columns]"
      ]
     },
     "execution_count": 33,
     "metadata": {},
     "output_type": "execute_result"
    }
   ],
   "source": [
    "test_age=test[test[\"Age\"].isna()]\n",
    "test_age"
   ]
  },
  {
   "cell_type": "code",
   "execution_count": 34,
   "id": "89a246ae",
   "metadata": {
    "execution": {
     "iopub.execute_input": "2022-07-24T23:56:30.002491Z",
     "iopub.status.busy": "2022-07-24T23:56:30.002104Z",
     "iopub.status.idle": "2022-07-24T23:56:30.013553Z",
     "shell.execute_reply": "2022-07-24T23:56:30.012325Z"
    },
    "papermill": {
     "duration": 0.040765,
     "end_time": "2022-07-24T23:56:30.015830",
     "exception": false,
     "start_time": "2022-07-24T23:56:29.975065",
     "status": "completed"
    },
    "tags": []
   },
   "outputs": [],
   "source": [
    "test_predict_2=test_age[[\"Pclass\", \"SibSp\"]]\n",
    "model_predict_2 = LinearRegression()\n",
    "model_predict_2.fit(train_stat[[\"Pclass\", \"SibSp\"]],train_stat[\"Age\"])\n",
    "age_predict_2=model_predict_2.predict(test_predict_2)"
   ]
  },
  {
   "cell_type": "code",
   "execution_count": 35,
   "id": "aa0ef8e6",
   "metadata": {
    "execution": {
     "iopub.execute_input": "2022-07-24T23:56:30.061138Z",
     "iopub.status.busy": "2022-07-24T23:56:30.060114Z",
     "iopub.status.idle": "2022-07-24T23:56:30.068000Z",
     "shell.execute_reply": "2022-07-24T23:56:30.066908Z"
    },
    "papermill": {
     "duration": 0.033363,
     "end_time": "2022-07-24T23:56:30.070422",
     "exception": false,
     "start_time": "2022-07-24T23:56:30.037059",
     "status": "completed"
    },
    "tags": []
   },
   "outputs": [
    {
     "data": {
      "text/plain": [
       "[10, 22, 29, 33, 36, 39, 41, 47, 54, 58]"
      ]
     },
     "execution_count": 35,
     "metadata": {},
     "output_type": "execute_result"
    }
   ],
   "source": [
    "nan_rows=list(test_predict_2.index)\n",
    "nan_rows[:10]"
   ]
  },
  {
   "cell_type": "code",
   "execution_count": 36,
   "id": "8c7a8946",
   "metadata": {
    "execution": {
     "iopub.execute_input": "2022-07-24T23:56:30.114427Z",
     "iopub.status.busy": "2022-07-24T23:56:30.114016Z",
     "iopub.status.idle": "2022-07-24T23:56:30.136756Z",
     "shell.execute_reply": "2022-07-24T23:56:30.135802Z"
    },
    "papermill": {
     "duration": 0.047333,
     "end_time": "2022-07-24T23:56:30.139174",
     "exception": false,
     "start_time": "2022-07-24T23:56:30.091841",
     "status": "completed"
    },
    "tags": []
   },
   "outputs": [],
   "source": [
    "count=0\n",
    "for i in nan_rows:\n",
    "    test.loc[i,\"Age\"]=int(abs(age_predict_2[count]))\n",
    "    count=count+1"
   ]
  },
  {
   "cell_type": "code",
   "execution_count": 37,
   "id": "6d275b4c",
   "metadata": {
    "execution": {
     "iopub.execute_input": "2022-07-24T23:56:30.183924Z",
     "iopub.status.busy": "2022-07-24T23:56:30.183230Z",
     "iopub.status.idle": "2022-07-24T23:56:30.205485Z",
     "shell.execute_reply": "2022-07-24T23:56:30.204687Z"
    },
    "papermill": {
     "duration": 0.04683,
     "end_time": "2022-07-24T23:56:30.207662",
     "exception": false,
     "start_time": "2022-07-24T23:56:30.160832",
     "status": "completed"
    },
    "tags": []
   },
   "outputs": [
    {
     "data": {
      "text/html": [
       "<div>\n",
       "<style scoped>\n",
       "    .dataframe tbody tr th:only-of-type {\n",
       "        vertical-align: middle;\n",
       "    }\n",
       "\n",
       "    .dataframe tbody tr th {\n",
       "        vertical-align: top;\n",
       "    }\n",
       "\n",
       "    .dataframe thead th {\n",
       "        text-align: right;\n",
       "    }\n",
       "</style>\n",
       "<table border=\"1\" class=\"dataframe\">\n",
       "  <thead>\n",
       "    <tr style=\"text-align: right;\">\n",
       "      <th></th>\n",
       "      <th>PassengerId</th>\n",
       "      <th>Pclass</th>\n",
       "      <th>Name</th>\n",
       "      <th>Sex</th>\n",
       "      <th>Age</th>\n",
       "      <th>SibSp</th>\n",
       "      <th>Parch</th>\n",
       "      <th>Ticket</th>\n",
       "      <th>Fare</th>\n",
       "      <th>Cabin</th>\n",
       "      <th>Embarked</th>\n",
       "    </tr>\n",
       "  </thead>\n",
       "  <tbody>\n",
       "    <tr>\n",
       "      <th>0</th>\n",
       "      <td>892</td>\n",
       "      <td>3</td>\n",
       "      <td>Kelly, Mr. James</td>\n",
       "      <td>male</td>\n",
       "      <td>34.5</td>\n",
       "      <td>0</td>\n",
       "      <td>0</td>\n",
       "      <td>330911</td>\n",
       "      <td>7.8292</td>\n",
       "      <td>NaN</td>\n",
       "      <td>Q</td>\n",
       "    </tr>\n",
       "    <tr>\n",
       "      <th>1</th>\n",
       "      <td>893</td>\n",
       "      <td>3</td>\n",
       "      <td>Wilkes, Mrs. James (Ellen Needs)</td>\n",
       "      <td>female</td>\n",
       "      <td>47.0</td>\n",
       "      <td>1</td>\n",
       "      <td>0</td>\n",
       "      <td>363272</td>\n",
       "      <td>7.0000</td>\n",
       "      <td>NaN</td>\n",
       "      <td>S</td>\n",
       "    </tr>\n",
       "    <tr>\n",
       "      <th>2</th>\n",
       "      <td>894</td>\n",
       "      <td>2</td>\n",
       "      <td>Myles, Mr. Thomas Francis</td>\n",
       "      <td>male</td>\n",
       "      <td>62.0</td>\n",
       "      <td>0</td>\n",
       "      <td>0</td>\n",
       "      <td>240276</td>\n",
       "      <td>9.6875</td>\n",
       "      <td>NaN</td>\n",
       "      <td>Q</td>\n",
       "    </tr>\n",
       "    <tr>\n",
       "      <th>3</th>\n",
       "      <td>895</td>\n",
       "      <td>3</td>\n",
       "      <td>Wirz, Mr. Albert</td>\n",
       "      <td>male</td>\n",
       "      <td>27.0</td>\n",
       "      <td>0</td>\n",
       "      <td>0</td>\n",
       "      <td>315154</td>\n",
       "      <td>8.6625</td>\n",
       "      <td>NaN</td>\n",
       "      <td>S</td>\n",
       "    </tr>\n",
       "    <tr>\n",
       "      <th>4</th>\n",
       "      <td>896</td>\n",
       "      <td>3</td>\n",
       "      <td>Hirvonen, Mrs. Alexander (Helga E Lindqvist)</td>\n",
       "      <td>female</td>\n",
       "      <td>22.0</td>\n",
       "      <td>1</td>\n",
       "      <td>1</td>\n",
       "      <td>3101298</td>\n",
       "      <td>12.2875</td>\n",
       "      <td>NaN</td>\n",
       "      <td>S</td>\n",
       "    </tr>\n",
       "    <tr>\n",
       "      <th>...</th>\n",
       "      <td>...</td>\n",
       "      <td>...</td>\n",
       "      <td>...</td>\n",
       "      <td>...</td>\n",
       "      <td>...</td>\n",
       "      <td>...</td>\n",
       "      <td>...</td>\n",
       "      <td>...</td>\n",
       "      <td>...</td>\n",
       "      <td>...</td>\n",
       "      <td>...</td>\n",
       "    </tr>\n",
       "    <tr>\n",
       "      <th>413</th>\n",
       "      <td>1305</td>\n",
       "      <td>3</td>\n",
       "      <td>Spector, Mr. Woolf</td>\n",
       "      <td>male</td>\n",
       "      <td>27.0</td>\n",
       "      <td>0</td>\n",
       "      <td>0</td>\n",
       "      <td>A.5. 3236</td>\n",
       "      <td>8.0500</td>\n",
       "      <td>NaN</td>\n",
       "      <td>S</td>\n",
       "    </tr>\n",
       "    <tr>\n",
       "      <th>414</th>\n",
       "      <td>1306</td>\n",
       "      <td>1</td>\n",
       "      <td>Oliva y Ocana, Dona. Fermina</td>\n",
       "      <td>female</td>\n",
       "      <td>39.0</td>\n",
       "      <td>0</td>\n",
       "      <td>0</td>\n",
       "      <td>PC 17758</td>\n",
       "      <td>108.9000</td>\n",
       "      <td>C105</td>\n",
       "      <td>C</td>\n",
       "    </tr>\n",
       "    <tr>\n",
       "      <th>415</th>\n",
       "      <td>1307</td>\n",
       "      <td>3</td>\n",
       "      <td>Saether, Mr. Simon Sivertsen</td>\n",
       "      <td>male</td>\n",
       "      <td>38.5</td>\n",
       "      <td>0</td>\n",
       "      <td>0</td>\n",
       "      <td>SOTON/O.Q. 3101262</td>\n",
       "      <td>7.2500</td>\n",
       "      <td>NaN</td>\n",
       "      <td>S</td>\n",
       "    </tr>\n",
       "    <tr>\n",
       "      <th>416</th>\n",
       "      <td>1308</td>\n",
       "      <td>3</td>\n",
       "      <td>Ware, Mr. Frederick</td>\n",
       "      <td>male</td>\n",
       "      <td>27.0</td>\n",
       "      <td>0</td>\n",
       "      <td>0</td>\n",
       "      <td>359309</td>\n",
       "      <td>8.0500</td>\n",
       "      <td>NaN</td>\n",
       "      <td>S</td>\n",
       "    </tr>\n",
       "    <tr>\n",
       "      <th>417</th>\n",
       "      <td>1309</td>\n",
       "      <td>3</td>\n",
       "      <td>Peter, Master. Michael J</td>\n",
       "      <td>male</td>\n",
       "      <td>22.0</td>\n",
       "      <td>1</td>\n",
       "      <td>1</td>\n",
       "      <td>2668</td>\n",
       "      <td>22.3583</td>\n",
       "      <td>NaN</td>\n",
       "      <td>C</td>\n",
       "    </tr>\n",
       "  </tbody>\n",
       "</table>\n",
       "<p>418 rows × 11 columns</p>\n",
       "</div>"
      ],
      "text/plain": [
       "     PassengerId  Pclass                                          Name  \\\n",
       "0            892       3                              Kelly, Mr. James   \n",
       "1            893       3              Wilkes, Mrs. James (Ellen Needs)   \n",
       "2            894       2                     Myles, Mr. Thomas Francis   \n",
       "3            895       3                              Wirz, Mr. Albert   \n",
       "4            896       3  Hirvonen, Mrs. Alexander (Helga E Lindqvist)   \n",
       "..           ...     ...                                           ...   \n",
       "413         1305       3                            Spector, Mr. Woolf   \n",
       "414         1306       1                  Oliva y Ocana, Dona. Fermina   \n",
       "415         1307       3                  Saether, Mr. Simon Sivertsen   \n",
       "416         1308       3                           Ware, Mr. Frederick   \n",
       "417         1309       3                      Peter, Master. Michael J   \n",
       "\n",
       "        Sex   Age  SibSp  Parch              Ticket      Fare Cabin Embarked  \n",
       "0      male  34.5      0      0              330911    7.8292   NaN        Q  \n",
       "1    female  47.0      1      0              363272    7.0000   NaN        S  \n",
       "2      male  62.0      0      0              240276    9.6875   NaN        Q  \n",
       "3      male  27.0      0      0              315154    8.6625   NaN        S  \n",
       "4    female  22.0      1      1             3101298   12.2875   NaN        S  \n",
       "..      ...   ...    ...    ...                 ...       ...   ...      ...  \n",
       "413    male  27.0      0      0           A.5. 3236    8.0500   NaN        S  \n",
       "414  female  39.0      0      0            PC 17758  108.9000  C105        C  \n",
       "415    male  38.5      0      0  SOTON/O.Q. 3101262    7.2500   NaN        S  \n",
       "416    male  27.0      0      0              359309    8.0500   NaN        S  \n",
       "417    male  22.0      1      1                2668   22.3583   NaN        C  \n",
       "\n",
       "[418 rows x 11 columns]"
      ]
     },
     "execution_count": 37,
     "metadata": {},
     "output_type": "execute_result"
    }
   ],
   "source": [
    "test"
   ]
  }
 ],
 "metadata": {
  "kernelspec": {
   "display_name": "Python 3",
   "language": "python",
   "name": "python3"
  },
  "language_info": {
   "codemirror_mode": {
    "name": "ipython",
    "version": 3
   },
   "file_extension": ".py",
   "mimetype": "text/x-python",
   "name": "python",
   "nbconvert_exporter": "python",
   "pygments_lexer": "ipython3",
   "version": "3.7.12"
  },
  "papermill": {
   "default_parameters": {},
   "duration": 17.617312,
   "end_time": "2022-07-24T23:56:31.052132",
   "environment_variables": {},
   "exception": null,
   "input_path": "__notebook__.ipynb",
   "output_path": "__notebook__.ipynb",
   "parameters": {},
   "start_time": "2022-07-24T23:56:13.434820",
   "version": "2.3.4"
  }
 },
 "nbformat": 4,
 "nbformat_minor": 5
}
