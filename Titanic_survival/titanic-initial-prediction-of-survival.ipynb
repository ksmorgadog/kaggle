{
 "cells": [
  {
   "cell_type": "markdown",
   "id": "1d65f246",
   "metadata": {
    "papermill": {
     "duration": 0.011948,
     "end_time": "2022-07-28T01:36:14.528748",
     "exception": false,
     "start_time": "2022-07-28T01:36:14.516800",
     "status": "completed"
    },
    "tags": []
   },
   "source": [
    "# 1. Libraries for data cleaning and predicion modeling"
   ]
  },
  {
   "cell_type": "code",
   "execution_count": 1,
   "id": "d3f7e411",
   "metadata": {
    "_cell_guid": "b1076dfc-b9ad-4769-8c92-a6c4dae69d19",
    "_uuid": "8f2839f25d086af736a60e9eeb907d3b93b6e0e5",
    "execution": {
     "iopub.execute_input": "2022-07-28T01:36:14.553500Z",
     "iopub.status.busy": "2022-07-28T01:36:14.553090Z",
     "iopub.status.idle": "2022-07-28T01:36:17.016864Z",
     "shell.execute_reply": "2022-07-28T01:36:17.015309Z"
    },
    "papermill": {
     "duration": 2.480672,
     "end_time": "2022-07-28T01:36:17.020647",
     "exception": false,
     "start_time": "2022-07-28T01:36:14.539975",
     "status": "completed"
    },
    "tags": []
   },
   "outputs": [],
   "source": [
    "import numpy as np\n",
    "import pandas as pd\n",
    "import matplotlib.pyplot as plt\n",
    "import seaborn as sns\n",
    "import statsmodels.formula.api as sm\n",
    "import statsmodels.api as sm2\n",
    "from sklearn.linear_model import LinearRegression, LogisticRegression\n",
    "from sklearn.pipeline import make_pipeline\n",
    "from sklearn.preprocessing import StandardScaler\n",
    "from sklearn.ensemble import RandomForestRegressor\n",
    "from xgboost import XGBRegressor"
   ]
  },
  {
   "cell_type": "markdown",
   "id": "eecfa86a",
   "metadata": {
    "papermill": {
     "duration": 0.012209,
     "end_time": "2022-07-28T01:36:17.044626",
     "exception": false,
     "start_time": "2022-07-28T01:36:17.032417",
     "status": "completed"
    },
    "tags": []
   },
   "source": [
    "# 2. Train - test data"
   ]
  },
  {
   "cell_type": "code",
   "execution_count": 2,
   "id": "e983fb0b",
   "metadata": {
    "execution": {
     "iopub.execute_input": "2022-07-28T01:36:17.069709Z",
     "iopub.status.busy": "2022-07-28T01:36:17.069305Z",
     "iopub.status.idle": "2022-07-28T01:36:17.094353Z",
     "shell.execute_reply": "2022-07-28T01:36:17.093494Z"
    },
    "papermill": {
     "duration": 0.039995,
     "end_time": "2022-07-28T01:36:17.096832",
     "exception": false,
     "start_time": "2022-07-28T01:36:17.056837",
     "status": "completed"
    },
    "tags": []
   },
   "outputs": [],
   "source": [
    "train=pd.read_csv(\"/kaggle/input/titanic/train.csv\")\n",
    "test=pd.read_csv(\"/kaggle/input/titanic/test.csv\")"
   ]
  },
  {
   "cell_type": "markdown",
   "id": "2c091832",
   "metadata": {
    "papermill": {
     "duration": 0.012624,
     "end_time": "2022-07-28T01:36:17.121594",
     "exception": false,
     "start_time": "2022-07-28T01:36:17.108970",
     "status": "completed"
    },
    "tags": []
   },
   "source": [
    "After the initial loading of information, the data related to categories as stated in the guidelines is transformed:\n",
    "1. Survived\n",
    "2. Pclass\n",
    "3. Sex\n",
    "4. Embarked"
   ]
  },
  {
   "cell_type": "code",
   "execution_count": 3,
   "id": "2eeacb7e",
   "metadata": {
    "execution": {
     "iopub.execute_input": "2022-07-28T01:36:17.147193Z",
     "iopub.status.busy": "2022-07-28T01:36:17.146502Z",
     "iopub.status.idle": "2022-07-28T01:36:17.168650Z",
     "shell.execute_reply": "2022-07-28T01:36:17.167126Z"
    },
    "papermill": {
     "duration": 0.036985,
     "end_time": "2022-07-28T01:36:17.171201",
     "exception": false,
     "start_time": "2022-07-28T01:36:17.134216",
     "status": "completed"
    },
    "tags": []
   },
   "outputs": [],
   "source": [
    "train[\"Survived\"]=train[\"Survived\"].astype(\"category\") # Related to survival or not\n",
    "train[\"Pclass\"]=pd.Categorical(train[\"Pclass\"], categories=[3,2,1], ordered=True) # Ordered related to status SES\n",
    "train[\"Sex\"]=train[\"Sex\"].astype(\"category\")\n",
    "train[\"Embarked\"].fillna(\"S\",inplace=True)\n",
    "train[\"Embarked\"]=train[\"Embarked\"].astype(\"category\")"
   ]
  },
  {
   "cell_type": "code",
   "execution_count": 4,
   "id": "d9d9ff9d",
   "metadata": {
    "execution": {
     "iopub.execute_input": "2022-07-28T01:36:17.195842Z",
     "iopub.status.busy": "2022-07-28T01:36:17.195385Z",
     "iopub.status.idle": "2022-07-28T01:36:17.205939Z",
     "shell.execute_reply": "2022-07-28T01:36:17.205074Z"
    },
    "papermill": {
     "duration": 0.025925,
     "end_time": "2022-07-28T01:36:17.208419",
     "exception": false,
     "start_time": "2022-07-28T01:36:17.182494",
     "status": "completed"
    },
    "tags": []
   },
   "outputs": [],
   "source": [
    "test[\"Pclass\"]=pd.Categorical(test[\"Pclass\"], categories=[3,2,1], ordered=True) # Ordered related to status SES\n",
    "test[\"Sex\"]=test[\"Sex\"].astype(\"category\")\n",
    "test[\"Embarked\"].fillna(\"S\",inplace=True)\n",
    "test[\"Embarked\"]=test[\"Embarked\"].astype(\"category\")"
   ]
  },
  {
   "cell_type": "markdown",
   "id": "7dbc6f50",
   "metadata": {
    "papermill": {
     "duration": 0.011208,
     "end_time": "2022-07-28T01:36:17.231325",
     "exception": false,
     "start_time": "2022-07-28T01:36:17.220117",
     "status": "completed"
    },
    "tags": []
   },
   "source": [
    "# 3. Prediction for filling NaN Ages through logistical regression"
   ]
  },
  {
   "cell_type": "markdown",
   "id": "88d1819a",
   "metadata": {
    "papermill": {
     "duration": 0.011417,
     "end_time": "2022-07-28T01:36:17.253592",
     "exception": false,
     "start_time": "2022-07-28T01:36:17.242175",
     "status": "completed"
    },
    "tags": []
   },
   "source": [
    "In previous implementation it was stated that there are multiple NaN values in Age in both train and test databases, for this reason, it was used a simple Linear Regression to replace these missing values:"
   ]
  },
  {
   "cell_type": "code",
   "execution_count": 5,
   "id": "e608b5a6",
   "metadata": {
    "execution": {
     "iopub.execute_input": "2022-07-28T01:36:17.277760Z",
     "iopub.status.busy": "2022-07-28T01:36:17.277016Z",
     "iopub.status.idle": "2022-07-28T01:36:17.292195Z",
     "shell.execute_reply": "2022-07-28T01:36:17.291271Z"
    },
    "papermill": {
     "duration": 0.029902,
     "end_time": "2022-07-28T01:36:17.294537",
     "exception": false,
     "start_time": "2022-07-28T01:36:17.264635",
     "status": "completed"
    },
    "tags": []
   },
   "outputs": [],
   "source": [
    "#Prediction references\n",
    "train_age=train[train[\"Age\"].isna()]\n",
    "train_predict=train_age[[\"Pclass\",\"Survived\", \"SibSp\"]]\n",
    "test_age=test[test[\"Age\"].isna()]\n",
    "test_predict_2=test_age[[\"Pclass\", \"SibSp\"]]\n",
    "#Copy of database without NaN values to train the model\n",
    "train_stat=train.copy()\n",
    "train_stat.drop(columns=\"Cabin\",inplace=True)\n",
    "train_stat.dropna(inplace=True)"
   ]
  },
  {
   "cell_type": "code",
   "execution_count": 6,
   "id": "2e5e6672",
   "metadata": {
    "execution": {
     "iopub.execute_input": "2022-07-28T01:36:17.319283Z",
     "iopub.status.busy": "2022-07-28T01:36:17.318544Z",
     "iopub.status.idle": "2022-07-28T01:36:17.352363Z",
     "shell.execute_reply": "2022-07-28T01:36:17.351342Z"
    },
    "papermill": {
     "duration": 0.049574,
     "end_time": "2022-07-28T01:36:17.354848",
     "exception": false,
     "start_time": "2022-07-28T01:36:17.305274",
     "status": "completed"
    },
    "tags": []
   },
   "outputs": [],
   "source": [
    "#Linear regression modeling with survive as an additional reference - Train model\n",
    "model_predict = LinearRegression()\n",
    "model_predict.fit(train_stat[[\"Pclass\",\"Survived\", \"SibSp\"]],train_stat[\"Age\"])\n",
    "age_predict=model_predict.predict(train_predict)\n",
    "#Linear regression modeling of test dataset\n",
    "model_predict_2 = LinearRegression()\n",
    "model_predict_2.fit(train_stat[[\"Pclass\", \"SibSp\"]],train_stat[\"Age\"])\n",
    "age_predict_2=model_predict_2.predict(test_predict_2)"
   ]
  },
  {
   "cell_type": "markdown",
   "id": "1670798e",
   "metadata": {
    "papermill": {
     "duration": 0.011358,
     "end_time": "2022-07-28T01:36:17.377168",
     "exception": false,
     "start_time": "2022-07-28T01:36:17.365810",
     "status": "completed"
    },
    "tags": []
   },
   "source": [
    "Then with these results, the missing values are filled using `.loc` of each of the datasets"
   ]
  },
  {
   "cell_type": "code",
   "execution_count": 7,
   "id": "2f82b0ed",
   "metadata": {
    "execution": {
     "iopub.execute_input": "2022-07-28T01:36:17.403195Z",
     "iopub.status.busy": "2022-07-28T01:36:17.402481Z",
     "iopub.status.idle": "2022-07-28T01:36:17.407565Z",
     "shell.execute_reply": "2022-07-28T01:36:17.406364Z"
    },
    "papermill": {
     "duration": 0.020352,
     "end_time": "2022-07-28T01:36:17.409836",
     "exception": false,
     "start_time": "2022-07-28T01:36:17.389484",
     "status": "completed"
    },
    "tags": []
   },
   "outputs": [],
   "source": [
    "nan_rows=list(train_predict.index)\n",
    "nan_rows_2=list(test_predict_2.index)"
   ]
  },
  {
   "cell_type": "code",
   "execution_count": 8,
   "id": "2eeaf0df",
   "metadata": {
    "execution": {
     "iopub.execute_input": "2022-07-28T01:36:17.435138Z",
     "iopub.status.busy": "2022-07-28T01:36:17.434423Z",
     "iopub.status.idle": "2022-07-28T01:36:17.496492Z",
     "shell.execute_reply": "2022-07-28T01:36:17.495411Z"
    },
    "papermill": {
     "duration": 0.077618,
     "end_time": "2022-07-28T01:36:17.499266",
     "exception": false,
     "start_time": "2022-07-28T01:36:17.421648",
     "status": "completed"
    },
    "tags": []
   },
   "outputs": [],
   "source": [
    "count=0\n",
    "for i in nan_rows:\n",
    "    train.loc[i,\"Age\"]=int(abs(age_predict[count]))\n",
    "    count=count+1\n",
    "count=0\n",
    "for i in nan_rows_2:\n",
    "    test.loc[i,\"Age\"]=int(abs(age_predict_2[count]))\n",
    "    count=count+1"
   ]
  },
  {
   "cell_type": "markdown",
   "id": "9b1a1462",
   "metadata": {
    "papermill": {
     "duration": 0.011293,
     "end_time": "2022-07-28T01:36:17.521399",
     "exception": false,
     "start_time": "2022-07-28T01:36:17.510106",
     "status": "completed"
    },
    "tags": []
   },
   "source": [
    "# 4. Initial implementation with random forest"
   ]
  },
  {
   "cell_type": "markdown",
   "id": "e7766b84",
   "metadata": {
    "papermill": {
     "duration": 0.012303,
     "end_time": "2022-07-28T01:36:17.545537",
     "exception": false,
     "start_time": "2022-07-28T01:36:17.533234",
     "status": "completed"
    },
    "tags": []
   },
   "source": [
    "As an initial insight, it was used the random forest modeling with a `StandardScaler` "
   ]
  },
  {
   "cell_type": "code",
   "execution_count": 9,
   "id": "4e118e2a",
   "metadata": {
    "execution": {
     "iopub.execute_input": "2022-07-28T01:36:17.569855Z",
     "iopub.status.busy": "2022-07-28T01:36:17.569442Z",
     "iopub.status.idle": "2022-07-28T01:36:17.944838Z",
     "shell.execute_reply": "2022-07-28T01:36:17.943582Z"
    },
    "papermill": {
     "duration": 0.390354,
     "end_time": "2022-07-28T01:36:17.947485",
     "exception": false,
     "start_time": "2022-07-28T01:36:17.557131",
     "status": "completed"
    },
    "tags": []
   },
   "outputs": [
    {
     "name": "stdout",
     "output_type": "stream",
     "text": [
      "[Pipeline] .... (step 1 of 2) Processing standardscaler, total=   0.0s\n",
      "[Pipeline]  (step 2 of 2) Processing randomforestregressor, total=   0.3s\n"
     ]
    }
   ],
   "source": [
    "#Training with the following variables\n",
    "train_cols=[\"Pclass\",\"SibSp\",\"Age\",\"Sex\",\"Parch\"]\n",
    "train_mod=train[train_cols]\n",
    "test_mod=test[train_cols]\n",
    "train_num=pd.get_dummies(train_mod)\n",
    "test_num=pd.get_dummies(test_mod)\n",
    "train_y=train[\"Survived\"]\n",
    "model = make_pipeline(StandardScaler(),RandomForestRegressor(max_depth=25,n_estimators=100,n_jobs=-1),verbose=True).fit(train_num,train_y)"
   ]
  },
  {
   "cell_type": "markdown",
   "id": "8d77bb77",
   "metadata": {
    "papermill": {
     "duration": 0.011632,
     "end_time": "2022-07-28T01:36:17.970967",
     "exception": false,
     "start_time": "2022-07-28T01:36:17.959335",
     "status": "completed"
    },
    "tags": []
   },
   "source": [
    "Then, the example results are presented:"
   ]
  },
  {
   "cell_type": "code",
   "execution_count": 10,
   "id": "74463381",
   "metadata": {
    "execution": {
     "iopub.execute_input": "2022-07-28T01:36:17.996141Z",
     "iopub.status.busy": "2022-07-28T01:36:17.995704Z",
     "iopub.status.idle": "2022-07-28T01:36:18.111375Z",
     "shell.execute_reply": "2022-07-28T01:36:18.110335Z"
    },
    "papermill": {
     "duration": 0.13146,
     "end_time": "2022-07-28T01:36:18.113786",
     "exception": false,
     "start_time": "2022-07-28T01:36:17.982326",
     "status": "completed"
    },
    "tags": []
   },
   "outputs": [
    {
     "data": {
      "text/plain": [
       "array([0.00833333, 0.02      , 0.55      , 0.75011905, 0.44315909,\n",
       "       0.30727453, 0.41371429, 0.01      , 0.52003571, 0.11527249])"
      ]
     },
     "execution_count": 10,
     "metadata": {},
     "output_type": "execute_result"
    }
   ],
   "source": [
    "model.predict(test_num)[:10]"
   ]
  },
  {
   "cell_type": "markdown",
   "id": "06a747e7",
   "metadata": {
    "papermill": {
     "duration": 0.01091,
     "end_time": "2022-07-28T01:36:18.136545",
     "exception": false,
     "start_time": "2022-07-28T01:36:18.125635",
     "status": "completed"
    },
    "tags": []
   },
   "source": [
    "However, to obtain the desired output it was necessary to use 0.5 as a reference value for classifying the data either with One or Zero:"
   ]
  },
  {
   "cell_type": "code",
   "execution_count": 11,
   "id": "d4ba6a77",
   "metadata": {
    "execution": {
     "iopub.execute_input": "2022-07-28T01:36:18.162177Z",
     "iopub.status.busy": "2022-07-28T01:36:18.161750Z",
     "iopub.status.idle": "2022-07-28T01:36:18.276607Z",
     "shell.execute_reply": "2022-07-28T01:36:18.275820Z"
    },
    "papermill": {
     "duration": 0.130205,
     "end_time": "2022-07-28T01:36:18.278700",
     "exception": false,
     "start_time": "2022-07-28T01:36:18.148495",
     "status": "completed"
    },
    "tags": []
   },
   "outputs": [
    {
     "data": {
      "text/plain": [
       "[0, 0, 1, 1, 0, 0, 0, 0, 1, 0]"
      ]
     },
     "execution_count": 11,
     "metadata": {},
     "output_type": "execute_result"
    }
   ],
   "source": [
    "y_fin=list(model.predict(test_num))\n",
    "#Categorization by using 0.5 as threshold\n",
    "cat_result=[]\n",
    "for i in range(len(y_fin)):\n",
    "    if y_fin[i] <= 0.5:\n",
    "        cat_result.append(0)\n",
    "    else:\n",
    "        cat_result.append(1)\n",
    "cat_result[:10]"
   ]
  },
  {
   "cell_type": "code",
   "execution_count": 12,
   "id": "24b9fa4f",
   "metadata": {
    "execution": {
     "iopub.execute_input": "2022-07-28T01:36:18.306166Z",
     "iopub.status.busy": "2022-07-28T01:36:18.304853Z",
     "iopub.status.idle": "2022-07-28T01:36:18.311365Z",
     "shell.execute_reply": "2022-07-28T01:36:18.310263Z"
    },
    "papermill": {
     "duration": 0.022429,
     "end_time": "2022-07-28T01:36:18.313820",
     "exception": false,
     "start_time": "2022-07-28T01:36:18.291391",
     "status": "completed"
    },
    "tags": []
   },
   "outputs": [],
   "source": [
    "test[\"Survived\"]=cat_result"
   ]
  },
  {
   "cell_type": "markdown",
   "id": "21b3bf9d",
   "metadata": {
    "papermill": {
     "duration": 0.010886,
     "end_time": "2022-07-28T01:36:18.336054",
     "exception": false,
     "start_time": "2022-07-28T01:36:18.325168",
     "status": "completed"
    },
    "tags": []
   },
   "source": [
    "# 5. Adjustment for correct formatting"
   ]
  },
  {
   "cell_type": "markdown",
   "id": "8f4e6644",
   "metadata": {
    "papermill": {
     "duration": 0.011579,
     "end_time": "2022-07-28T01:36:18.359423",
     "exception": false,
     "start_time": "2022-07-28T01:36:18.347844",
     "status": "completed"
    },
    "tags": []
   },
   "source": [
    "Finally, it was compared to the recommended answer output and transformed to be adequate to the competition guidelines:"
   ]
  },
  {
   "cell_type": "code",
   "execution_count": 13,
   "id": "dbb8007f",
   "metadata": {
    "execution": {
     "iopub.execute_input": "2022-07-28T01:36:18.384027Z",
     "iopub.status.busy": "2022-07-28T01:36:18.383376Z",
     "iopub.status.idle": "2022-07-28T01:36:18.423518Z",
     "shell.execute_reply": "2022-07-28T01:36:18.422349Z"
    },
    "papermill": {
     "duration": 0.055178,
     "end_time": "2022-07-28T01:36:18.425860",
     "exception": false,
     "start_time": "2022-07-28T01:36:18.370682",
     "status": "completed"
    },
    "tags": []
   },
   "outputs": [
    {
     "data": {
      "text/html": [
       "<div>\n",
       "<style scoped>\n",
       "    .dataframe tbody tr th:only-of-type {\n",
       "        vertical-align: middle;\n",
       "    }\n",
       "\n",
       "    .dataframe tbody tr th {\n",
       "        vertical-align: top;\n",
       "    }\n",
       "\n",
       "    .dataframe thead th {\n",
       "        text-align: right;\n",
       "    }\n",
       "</style>\n",
       "<table border=\"1\" class=\"dataframe\">\n",
       "  <thead>\n",
       "    <tr style=\"text-align: right;\">\n",
       "      <th></th>\n",
       "      <th>PassengerId</th>\n",
       "      <th>Survived</th>\n",
       "    </tr>\n",
       "  </thead>\n",
       "  <tbody>\n",
       "    <tr>\n",
       "      <th>0</th>\n",
       "      <td>892</td>\n",
       "      <td>0</td>\n",
       "    </tr>\n",
       "    <tr>\n",
       "      <th>1</th>\n",
       "      <td>893</td>\n",
       "      <td>1</td>\n",
       "    </tr>\n",
       "    <tr>\n",
       "      <th>2</th>\n",
       "      <td>894</td>\n",
       "      <td>0</td>\n",
       "    </tr>\n",
       "    <tr>\n",
       "      <th>3</th>\n",
       "      <td>895</td>\n",
       "      <td>0</td>\n",
       "    </tr>\n",
       "    <tr>\n",
       "      <th>4</th>\n",
       "      <td>896</td>\n",
       "      <td>1</td>\n",
       "    </tr>\n",
       "    <tr>\n",
       "      <th>...</th>\n",
       "      <td>...</td>\n",
       "      <td>...</td>\n",
       "    </tr>\n",
       "    <tr>\n",
       "      <th>413</th>\n",
       "      <td>1305</td>\n",
       "      <td>0</td>\n",
       "    </tr>\n",
       "    <tr>\n",
       "      <th>414</th>\n",
       "      <td>1306</td>\n",
       "      <td>1</td>\n",
       "    </tr>\n",
       "    <tr>\n",
       "      <th>415</th>\n",
       "      <td>1307</td>\n",
       "      <td>0</td>\n",
       "    </tr>\n",
       "    <tr>\n",
       "      <th>416</th>\n",
       "      <td>1308</td>\n",
       "      <td>0</td>\n",
       "    </tr>\n",
       "    <tr>\n",
       "      <th>417</th>\n",
       "      <td>1309</td>\n",
       "      <td>0</td>\n",
       "    </tr>\n",
       "  </tbody>\n",
       "</table>\n",
       "<p>418 rows × 2 columns</p>\n",
       "</div>"
      ],
      "text/plain": [
       "     PassengerId  Survived\n",
       "0            892         0\n",
       "1            893         1\n",
       "2            894         0\n",
       "3            895         0\n",
       "4            896         1\n",
       "..           ...       ...\n",
       "413         1305         0\n",
       "414         1306         1\n",
       "415         1307         0\n",
       "416         1308         0\n",
       "417         1309         0\n",
       "\n",
       "[418 rows x 2 columns]"
      ]
     },
     "execution_count": 13,
     "metadata": {},
     "output_type": "execute_result"
    }
   ],
   "source": [
    "pd.read_csv(\"/kaggle/input/titanic/gender_submission.csv\")"
   ]
  },
  {
   "cell_type": "code",
   "execution_count": 14,
   "id": "63654f31",
   "metadata": {
    "execution": {
     "iopub.execute_input": "2022-07-28T01:36:18.450908Z",
     "iopub.status.busy": "2022-07-28T01:36:18.450511Z",
     "iopub.status.idle": "2022-07-28T01:36:18.463548Z",
     "shell.execute_reply": "2022-07-28T01:36:18.462281Z"
    },
    "papermill": {
     "duration": 0.028481,
     "end_time": "2022-07-28T01:36:18.465966",
     "exception": false,
     "start_time": "2022-07-28T01:36:18.437485",
     "status": "completed"
    },
    "tags": []
   },
   "outputs": [
    {
     "data": {
      "text/html": [
       "<div>\n",
       "<style scoped>\n",
       "    .dataframe tbody tr th:only-of-type {\n",
       "        vertical-align: middle;\n",
       "    }\n",
       "\n",
       "    .dataframe tbody tr th {\n",
       "        vertical-align: top;\n",
       "    }\n",
       "\n",
       "    .dataframe thead th {\n",
       "        text-align: right;\n",
       "    }\n",
       "</style>\n",
       "<table border=\"1\" class=\"dataframe\">\n",
       "  <thead>\n",
       "    <tr style=\"text-align: right;\">\n",
       "      <th></th>\n",
       "      <th>PassengerId</th>\n",
       "      <th>Survived</th>\n",
       "    </tr>\n",
       "  </thead>\n",
       "  <tbody>\n",
       "    <tr>\n",
       "      <th>0</th>\n",
       "      <td>892</td>\n",
       "      <td>0</td>\n",
       "    </tr>\n",
       "    <tr>\n",
       "      <th>1</th>\n",
       "      <td>893</td>\n",
       "      <td>0</td>\n",
       "    </tr>\n",
       "    <tr>\n",
       "      <th>2</th>\n",
       "      <td>894</td>\n",
       "      <td>1</td>\n",
       "    </tr>\n",
       "    <tr>\n",
       "      <th>3</th>\n",
       "      <td>895</td>\n",
       "      <td>1</td>\n",
       "    </tr>\n",
       "    <tr>\n",
       "      <th>4</th>\n",
       "      <td>896</td>\n",
       "      <td>0</td>\n",
       "    </tr>\n",
       "    <tr>\n",
       "      <th>...</th>\n",
       "      <td>...</td>\n",
       "      <td>...</td>\n",
       "    </tr>\n",
       "    <tr>\n",
       "      <th>413</th>\n",
       "      <td>1305</td>\n",
       "      <td>1</td>\n",
       "    </tr>\n",
       "    <tr>\n",
       "      <th>414</th>\n",
       "      <td>1306</td>\n",
       "      <td>1</td>\n",
       "    </tr>\n",
       "    <tr>\n",
       "      <th>415</th>\n",
       "      <td>1307</td>\n",
       "      <td>0</td>\n",
       "    </tr>\n",
       "    <tr>\n",
       "      <th>416</th>\n",
       "      <td>1308</td>\n",
       "      <td>1</td>\n",
       "    </tr>\n",
       "    <tr>\n",
       "      <th>417</th>\n",
       "      <td>1309</td>\n",
       "      <td>0</td>\n",
       "    </tr>\n",
       "  </tbody>\n",
       "</table>\n",
       "<p>418 rows × 2 columns</p>\n",
       "</div>"
      ],
      "text/plain": [
       "     PassengerId  Survived\n",
       "0            892         0\n",
       "1            893         0\n",
       "2            894         1\n",
       "3            895         1\n",
       "4            896         0\n",
       "..           ...       ...\n",
       "413         1305         1\n",
       "414         1306         1\n",
       "415         1307         0\n",
       "416         1308         1\n",
       "417         1309         0\n",
       "\n",
       "[418 rows x 2 columns]"
      ]
     },
     "execution_count": 14,
     "metadata": {},
     "output_type": "execute_result"
    }
   ],
   "source": [
    "test[[\"PassengerId\",\"Survived\"]]"
   ]
  },
  {
   "cell_type": "code",
   "execution_count": 15,
   "id": "a9714536",
   "metadata": {
    "execution": {
     "iopub.execute_input": "2022-07-28T01:36:18.491472Z",
     "iopub.status.busy": "2022-07-28T01:36:18.491085Z",
     "iopub.status.idle": "2022-07-28T01:36:18.496518Z",
     "shell.execute_reply": "2022-07-28T01:36:18.495418Z"
    },
    "papermill": {
     "duration": 0.021066,
     "end_time": "2022-07-28T01:36:18.498837",
     "exception": false,
     "start_time": "2022-07-28T01:36:18.477771",
     "status": "completed"
    },
    "tags": []
   },
   "outputs": [],
   "source": [
    "#Output for checking\n",
    "Final_prediction=test[[\"PassengerId\",\"Survived\"]]\n",
    "#Final_prediction.to_csv(\"submission.csv\",index=False)"
   ]
  },
  {
   "cell_type": "markdown",
   "id": "38c4ead0",
   "metadata": {
    "papermill": {
     "duration": 0.011421,
     "end_time": "2022-07-28T01:36:18.522318",
     "exception": false,
     "start_time": "2022-07-28T01:36:18.510897",
     "status": "completed"
    },
    "tags": []
   },
   "source": [
    "# 6. Adding of an extra variable\n",
    "\n",
    "In this case, the Fare variable would be added to the model to test if it can improve the Random Forest accuracy and before changing to other model."
   ]
  },
  {
   "cell_type": "code",
   "execution_count": 16,
   "id": "49b94db6",
   "metadata": {
    "execution": {
     "iopub.execute_input": "2022-07-28T01:36:18.547205Z",
     "iopub.status.busy": "2022-07-28T01:36:18.546804Z",
     "iopub.status.idle": "2022-07-28T01:36:18.917269Z",
     "shell.execute_reply": "2022-07-28T01:36:18.915318Z"
    },
    "papermill": {
     "duration": 0.385832,
     "end_time": "2022-07-28T01:36:18.919749",
     "exception": false,
     "start_time": "2022-07-28T01:36:18.533917",
     "status": "completed"
    },
    "tags": []
   },
   "outputs": [
    {
     "name": "stdout",
     "output_type": "stream",
     "text": [
      "[Pipeline] .... (step 1 of 2) Processing standardscaler, total=   0.0s\n",
      "[Pipeline]  (step 2 of 2) Processing randomforestregressor, total=   0.3s\n"
     ]
    }
   ],
   "source": [
    "#Training with the following variables\n",
    "train_cols=[\"Pclass\",\"SibSp\",\"Age\",\"Sex\",\"Parch\",\"Fare\"]\n",
    "train_mod=train[train_cols]\n",
    "test_mod=test[train_cols]\n",
    "train_num=pd.get_dummies(train_mod)\n",
    "test_num=pd.get_dummies(test_mod)\n",
    "train_y=train[\"Survived\"]\n",
    "model = make_pipeline(StandardScaler(),RandomForestRegressor(max_depth=200,n_estimators=100,n_jobs=-1),verbose=True).fit(train_num,train_y)"
   ]
  },
  {
   "cell_type": "code",
   "execution_count": 17,
   "id": "5d733347",
   "metadata": {
    "execution": {
     "iopub.execute_input": "2022-07-28T01:36:18.944956Z",
     "iopub.status.busy": "2022-07-28T01:36:18.944595Z",
     "iopub.status.idle": "2022-07-28T01:36:18.952795Z",
     "shell.execute_reply": "2022-07-28T01:36:18.951923Z"
    },
    "papermill": {
     "duration": 0.023529,
     "end_time": "2022-07-28T01:36:18.955133",
     "exception": false,
     "start_time": "2022-07-28T01:36:18.931604",
     "status": "completed"
    },
    "tags": []
   },
   "outputs": [],
   "source": [
    "#Handling missing value of Fare of test data\n",
    "missing_val=test_num[test_num[\"Fare\"].isna()].index\n",
    "test_num.loc[missing_val[0],\"Fare\"]=test_num[\"Fare\"].mean()"
   ]
  },
  {
   "cell_type": "code",
   "execution_count": 18,
   "id": "3a831325",
   "metadata": {
    "execution": {
     "iopub.execute_input": "2022-07-28T01:36:18.983910Z",
     "iopub.status.busy": "2022-07-28T01:36:18.982917Z",
     "iopub.status.idle": "2022-07-28T01:36:19.096537Z",
     "shell.execute_reply": "2022-07-28T01:36:19.095611Z"
    },
    "papermill": {
     "duration": 0.130645,
     "end_time": "2022-07-28T01:36:19.098767",
     "exception": false,
     "start_time": "2022-07-28T01:36:18.968122",
     "status": "completed"
    },
    "tags": []
   },
   "outputs": [
    {
     "data": {
      "text/plain": [
       "array([0.14 , 0.04 , 0.5  , 0.68 , 0.42 , 0.205, 0.04 , 0.07 , 0.92 ,\n",
       "       0.07 ])"
      ]
     },
     "execution_count": 18,
     "metadata": {},
     "output_type": "execute_result"
    }
   ],
   "source": [
    "model.predict(test_num)[:10]"
   ]
  },
  {
   "cell_type": "code",
   "execution_count": 19,
   "id": "2f712154",
   "metadata": {
    "execution": {
     "iopub.execute_input": "2022-07-28T01:36:19.125819Z",
     "iopub.status.busy": "2022-07-28T01:36:19.125114Z",
     "iopub.status.idle": "2022-07-28T01:36:19.240616Z",
     "shell.execute_reply": "2022-07-28T01:36:19.239738Z"
    },
    "papermill": {
     "duration": 0.131858,
     "end_time": "2022-07-28T01:36:19.242772",
     "exception": false,
     "start_time": "2022-07-28T01:36:19.110914",
     "status": "completed"
    },
    "tags": []
   },
   "outputs": [
    {
     "data": {
      "text/plain": [
       "[0, 0, 0, 1, 0, 0, 0, 0, 1, 0]"
      ]
     },
     "execution_count": 19,
     "metadata": {},
     "output_type": "execute_result"
    }
   ],
   "source": [
    "y_fin=list(model.predict(test_num))\n",
    "#Categorization by using 0.5 as threshold\n",
    "cat_result=[]\n",
    "for i in range(len(y_fin)):\n",
    "    if y_fin[i] <= 0.5:\n",
    "        cat_result.append(0)\n",
    "    else:\n",
    "        cat_result.append(1)\n",
    "cat_result[:10]"
   ]
  },
  {
   "cell_type": "code",
   "execution_count": 20,
   "id": "903f01c8",
   "metadata": {
    "execution": {
     "iopub.execute_input": "2022-07-28T01:36:19.269472Z",
     "iopub.status.busy": "2022-07-28T01:36:19.268802Z",
     "iopub.status.idle": "2022-07-28T01:36:19.278338Z",
     "shell.execute_reply": "2022-07-28T01:36:19.277200Z"
    },
    "papermill": {
     "duration": 0.026222,
     "end_time": "2022-07-28T01:36:19.281457",
     "exception": false,
     "start_time": "2022-07-28T01:36:19.255235",
     "status": "completed"
    },
    "tags": []
   },
   "outputs": [],
   "source": [
    "test[\"Survived\"]=cat_result\n",
    "#Output for checking\n",
    "Final_prediction=test[[\"PassengerId\",\"Survived\"]]\n",
    "Final_prediction.to_csv(\"submission.csv\",index=False)"
   ]
  },
  {
   "cell_type": "markdown",
   "id": "5f5bcc5e",
   "metadata": {
    "papermill": {
     "duration": 0.011852,
     "end_time": "2022-07-28T01:36:19.305537",
     "exception": false,
     "start_time": "2022-07-28T01:36:19.293685",
     "status": "completed"
    },
    "tags": []
   },
   "source": [
    "With the extra variable, the model increased to 73.2% of accuracy. Now, it will the tested XGBoost and different transformation values"
   ]
  },
  {
   "cell_type": "markdown",
   "id": "fa07bc27",
   "metadata": {
    "papermill": {
     "duration": 0.011845,
     "end_time": "2022-07-28T01:36:19.329667",
     "exception": false,
     "start_time": "2022-07-28T01:36:19.317822",
     "status": "completed"
    },
    "tags": []
   },
   "source": [
    "# 7. XGboost and extra analysis\n",
    "\n",
    "In this part the same code will be used changing the regressor to `XGBRegressor`"
   ]
  },
  {
   "cell_type": "code",
   "execution_count": 21,
   "id": "45dff61a",
   "metadata": {
    "execution": {
     "iopub.execute_input": "2022-07-28T01:36:19.355412Z",
     "iopub.status.busy": "2022-07-28T01:36:19.355055Z",
     "iopub.status.idle": "2022-07-28T01:36:20.340143Z",
     "shell.execute_reply": "2022-07-28T01:36:20.339089Z"
    },
    "papermill": {
     "duration": 1.000966,
     "end_time": "2022-07-28T01:36:20.342633",
     "exception": false,
     "start_time": "2022-07-28T01:36:19.341667",
     "status": "completed"
    },
    "tags": []
   },
   "outputs": [
    {
     "name": "stdout",
     "output_type": "stream",
     "text": [
      "[Pipeline] .... (step 1 of 2) Processing standardscaler, total=   0.0s\n",
      "[Pipeline] ...... (step 2 of 2) Processing xgbregressor, total=   1.0s\n"
     ]
    }
   ],
   "source": [
    "#Training with the following variables\n",
    "train_cols=[\"Pclass\",\"SibSp\",\"Age\",\"Sex\",\"Parch\",\"Fare\"]\n",
    "train_mod=train[train_cols]\n",
    "test_mod=test[train_cols]\n",
    "train_num=pd.get_dummies(train_mod)\n",
    "test_num=pd.get_dummies(test_mod)\n",
    "train_y=train[\"Survived\"]\n",
    "#Handling missing value of Fare of test data\n",
    "missing_val=test_num[test_num[\"Fare\"].isna()].index\n",
    "test_num.loc[missing_val[0],\"Fare\"]=test_num[\"Fare\"].mean()\n",
    "model = make_pipeline(StandardScaler(),XGBRegressor(max_depth=100,n_estimators=200,n_jobs=-1),verbose=True).fit(train_num,train_y)"
   ]
  },
  {
   "cell_type": "code",
   "execution_count": 22,
   "id": "fb496fcf",
   "metadata": {
    "execution": {
     "iopub.execute_input": "2022-07-28T01:36:20.374008Z",
     "iopub.status.busy": "2022-07-28T01:36:20.373323Z",
     "iopub.status.idle": "2022-07-28T01:36:20.392639Z",
     "shell.execute_reply": "2022-07-28T01:36:20.391481Z"
    },
    "papermill": {
     "duration": 0.037585,
     "end_time": "2022-07-28T01:36:20.395302",
     "exception": false,
     "start_time": "2022-07-28T01:36:20.357717",
     "status": "completed"
    },
    "tags": []
   },
   "outputs": [
    {
     "data": {
      "text/plain": [
       "array([ 1.9871229e-01, -2.5262913e-02,  8.0714327e-01,  9.9687487e-01,\n",
       "        5.9669137e-01,  1.3787173e-02,  1.1914261e-02, -1.3190627e-02,\n",
       "        1.0392245e+00, -7.0593302e-04], dtype=float32)"
      ]
     },
     "execution_count": 22,
     "metadata": {},
     "output_type": "execute_result"
    }
   ],
   "source": [
    "model.predict(test_num)[:10]"
   ]
  },
  {
   "cell_type": "code",
   "execution_count": 23,
   "id": "053843ab",
   "metadata": {
    "execution": {
     "iopub.execute_input": "2022-07-28T01:36:20.425028Z",
     "iopub.status.busy": "2022-07-28T01:36:20.424611Z",
     "iopub.status.idle": "2022-07-28T01:36:20.460069Z",
     "shell.execute_reply": "2022-07-28T01:36:20.457706Z"
    },
    "papermill": {
     "duration": 0.052189,
     "end_time": "2022-07-28T01:36:20.462645",
     "exception": false,
     "start_time": "2022-07-28T01:36:20.410456",
     "status": "completed"
    },
    "tags": []
   },
   "outputs": [
    {
     "data": {
      "text/plain": [
       "[0, 0, 1, 1, 1, 0, 0, 0, 1, 0]"
      ]
     },
     "execution_count": 23,
     "metadata": {},
     "output_type": "execute_result"
    }
   ],
   "source": [
    "y_fin=list(model.predict(test_num))\n",
    "#Categorization by using 0.5 as threshold\n",
    "cat_result=[]\n",
    "for i in range(len(y_fin)):\n",
    "    if y_fin[i] <= 0.5:\n",
    "        cat_result.append(0)\n",
    "    else:\n",
    "        cat_result.append(1)\n",
    "cat_result[:10]"
   ]
  },
  {
   "cell_type": "code",
   "execution_count": 24,
   "id": "d24c58ee",
   "metadata": {
    "execution": {
     "iopub.execute_input": "2022-07-28T01:36:20.491307Z",
     "iopub.status.busy": "2022-07-28T01:36:20.490520Z",
     "iopub.status.idle": "2022-07-28T01:36:20.496916Z",
     "shell.execute_reply": "2022-07-28T01:36:20.496126Z"
    },
    "papermill": {
     "duration": 0.023812,
     "end_time": "2022-07-28T01:36:20.499206",
     "exception": false,
     "start_time": "2022-07-28T01:36:20.475394",
     "status": "completed"
    },
    "tags": []
   },
   "outputs": [],
   "source": [
    "test[\"Survived\"]=cat_result\n",
    "#Output for checking\n",
    "Final_prediction=test[[\"PassengerId\",\"Survived\"]]\n",
    "#Final_prediction.to_csv(\"submission.csv\",index=False)"
   ]
  },
  {
   "cell_type": "markdown",
   "id": "7ea4555b",
   "metadata": {
    "papermill": {
     "duration": 0.012257,
     "end_time": "2022-07-28T01:36:20.524576",
     "exception": false,
     "start_time": "2022-07-28T01:36:20.512319",
     "status": "completed"
    },
    "tags": []
   },
   "source": [
    "As identified, the random forest is a better option that the XGBoost (Last test of 0.6866), but further variables will be added to see if there is an improvement."
   ]
  },
  {
   "cell_type": "markdown",
   "id": "570244fe",
   "metadata": {
    "papermill": {
     "duration": 0.012488,
     "end_time": "2022-07-28T01:36:20.550086",
     "exception": false,
     "start_time": "2022-07-28T01:36:20.537598",
     "status": "completed"
    },
    "tags": []
   },
   "source": [
    "# 7.1. Logistic Regression\n",
    "As an aditional tool of analysis and prediction it was built an Logistic Regression model, beginnig with the identification of the significant variables, being only four:"
   ]
  },
  {
   "cell_type": "code",
   "execution_count": 25,
   "id": "758d9c33",
   "metadata": {
    "execution": {
     "iopub.execute_input": "2022-07-28T01:36:20.583675Z",
     "iopub.status.busy": "2022-07-28T01:36:20.581713Z",
     "iopub.status.idle": "2022-07-28T01:36:20.751729Z",
     "shell.execute_reply": "2022-07-28T01:36:20.749586Z"
    },
    "papermill": {
     "duration": 0.192936,
     "end_time": "2022-07-28T01:36:20.755801",
     "exception": false,
     "start_time": "2022-07-28T01:36:20.562865",
     "status": "completed"
    },
    "tags": []
   },
   "outputs": [
    {
     "name": "stdout",
     "output_type": "stream",
     "text": [
      "Optimization terminated successfully.\n",
      "         Current function value: 0.454757\n",
      "         Iterations 6\n"
     ]
    },
    {
     "data": {
      "text/html": [
       "<table class=\"simpletable\">\n",
       "<tr>\n",
       "        <td>Model:</td>              <td>Logit</td>      <td>Pseudo R-squared:</td>    <td>0.317</td>  \n",
       "</tr>\n",
       "<tr>\n",
       "  <td>Dependent Variable:</td>     <td>Survived</td>           <td>AIC:</td>         <td>826.3777</td> \n",
       "</tr>\n",
       "<tr>\n",
       "         <td>Date:</td>        <td>2022-07-28 01:36</td>       <td>BIC:</td>         <td>864.7165</td> \n",
       "</tr>\n",
       "<tr>\n",
       "   <td>No. Observations:</td>         <td>891</td>        <td>Log-Likelihood:</td>    <td>-405.19</td> \n",
       "</tr>\n",
       "<tr>\n",
       "       <td>Df Model:</td>              <td>7</td>            <td>LL-Null:</td>        <td>-593.33</td> \n",
       "</tr>\n",
       "<tr>\n",
       "     <td>Df Residuals:</td>           <td>883</td>         <td>LLR p-value:</td>    <td>2.9027e-77</td>\n",
       "</tr>\n",
       "<tr>\n",
       "      <td>Converged:</td>           <td>1.0000</td>           <td>Scale:</td>         <td>1.0000</td>  \n",
       "</tr>\n",
       "<tr>\n",
       "    <td>No. Iterations:</td>        <td>6.0000</td>              <td></td>               <td></td>     \n",
       "</tr>\n",
       "</table>\n",
       "<table class=\"simpletable\">\n",
       "<tr>\n",
       "       <td></td>       <th>Coef.</th>  <th>Std.Err.</th>     <th>z</th>     <th>P>|z|</th> <th>[0.025</th>  <th>0.975]</th> \n",
       "</tr>\n",
       "<tr>\n",
       "  <th>SibSp</th>      <td>-0.2193</td>  <td>0.0917</td>   <td>-2.3923</td> <td>0.0167</td> <td>-0.3989</td> <td>-0.0396</td>\n",
       "</tr>\n",
       "<tr>\n",
       "  <th>Age</th>        <td>-0.0228</td>  <td>0.0064</td>   <td>-3.5573</td> <td>0.0004</td> <td>-0.0354</td> <td>-0.0102</td>\n",
       "</tr>\n",
       "<tr>\n",
       "  <th>Fare</th>       <td>0.0048</td>   <td>0.0025</td>   <td>1.9363</td>  <td>0.0528</td> <td>-0.0001</td> <td>0.0096</td> \n",
       "</tr>\n",
       "<tr>\n",
       "  <th>Pclass_2</th>   <td>1.4729</td>   <td>0.2306</td>   <td>6.3877</td>  <td>0.0000</td> <td>1.0209</td>  <td>1.9248</td> \n",
       "</tr>\n",
       "<tr>\n",
       "  <th>Pclass_1</th>   <td>2.3639</td>   <td>0.3049</td>   <td>7.7538</td>  <td>0.0000</td> <td>1.7664</td>  <td>2.9614</td> \n",
       "</tr>\n",
       "<tr>\n",
       "  <th>Sex_male</th>   <td>-2.2843</td>  <td>0.1849</td>  <td>-12.3539</td> <td>0.0000</td> <td>-2.6468</td> <td>-1.9219</td>\n",
       "</tr>\n",
       "<tr>\n",
       "  <th>Embarked_Q</th> <td>1.1010</td>   <td>0.3252</td>   <td>3.3852</td>  <td>0.0007</td> <td>0.4635</td>  <td>1.7384</td> \n",
       "</tr>\n",
       "<tr>\n",
       "  <th>Embarked_S</th> <td>0.4709</td>   <td>0.2054</td>   <td>2.2923</td>  <td>0.0219</td> <td>0.0683</td>  <td>0.8736</td> \n",
       "</tr>\n",
       "</table>"
      ],
      "text/plain": [
       "<class 'statsmodels.iolib.summary2.Summary'>\n",
       "\"\"\"\n",
       "                         Results: Logit\n",
       "=================================================================\n",
       "Model:              Logit            Pseudo R-squared: 0.317     \n",
       "Dependent Variable: Survived         AIC:              826.3777  \n",
       "Date:               2022-07-28 01:36 BIC:              864.7165  \n",
       "No. Observations:   891              Log-Likelihood:   -405.19   \n",
       "Df Model:           7                LL-Null:          -593.33   \n",
       "Df Residuals:       883              LLR p-value:      2.9027e-77\n",
       "Converged:          1.0000           Scale:            1.0000    \n",
       "No. Iterations:     6.0000                                       \n",
       "------------------------------------------------------------------\n",
       "              Coef.   Std.Err.     z      P>|z|    [0.025   0.975]\n",
       "------------------------------------------------------------------\n",
       "SibSp        -0.2193    0.0917   -2.3923  0.0167  -0.3989  -0.0396\n",
       "Age          -0.0228    0.0064   -3.5573  0.0004  -0.0354  -0.0102\n",
       "Fare          0.0048    0.0025    1.9363  0.0528  -0.0001   0.0096\n",
       "Pclass_2      1.4729    0.2306    6.3877  0.0000   1.0209   1.9248\n",
       "Pclass_1      2.3639    0.3049    7.7538  0.0000   1.7664   2.9614\n",
       "Sex_male     -2.2843    0.1849  -12.3539  0.0000  -2.6468  -1.9219\n",
       "Embarked_Q    1.1010    0.3252    3.3852  0.0007   0.4635   1.7384\n",
       "Embarked_S    0.4709    0.2054    2.2923  0.0219   0.0683   0.8736\n",
       "=================================================================\n",
       "\n",
       "\"\"\""
      ]
     },
     "execution_count": 25,
     "metadata": {},
     "output_type": "execute_result"
    }
   ],
   "source": [
    "#Training with the following variables\n",
    "train_cols=[\"Pclass\",\"SibSp\",\"Age\",\"Sex\",\"Embarked\",\"Fare\"] #Fare\n",
    "train_mod=train[train_cols]\n",
    "test_mod=test[train_cols]\n",
    "train_num=pd.get_dummies(train_mod,drop_first=True)\n",
    "test_num=pd.get_dummies(test_mod,drop_first=True)\n",
    "train_y=train[\"Survived\"]\n",
    "logit_model=sm2.Logit(train_y,train_num)\n",
    "logit_model.fit().summary2()"
   ]
  },
  {
   "cell_type": "markdown",
   "id": "287a731d",
   "metadata": {
    "papermill": {
     "duration": 0.012708,
     "end_time": "2022-07-28T01:36:20.790097",
     "exception": false,
     "start_time": "2022-07-28T01:36:20.777389",
     "status": "completed"
    },
    "tags": []
   },
   "source": [
    "With this consideration a simple Logistic Regression model was built"
   ]
  },
  {
   "cell_type": "code",
   "execution_count": 26,
   "id": "2fb4a4be",
   "metadata": {
    "execution": {
     "iopub.execute_input": "2022-07-28T01:36:20.819061Z",
     "iopub.status.busy": "2022-07-28T01:36:20.818699Z",
     "iopub.status.idle": "2022-07-28T01:36:20.887584Z",
     "shell.execute_reply": "2022-07-28T01:36:20.886638Z"
    },
    "papermill": {
     "duration": 0.086369,
     "end_time": "2022-07-28T01:36:20.890086",
     "exception": false,
     "start_time": "2022-07-28T01:36:20.803717",
     "status": "completed"
    },
    "tags": []
   },
   "outputs": [],
   "source": [
    "#Handling missing value of Fare of test data\n",
    "try:\n",
    "    missing_val=test_num[test_num[\"Fare\"].isna()].index\n",
    "    test_num.loc[missing_val[0],\"Fare\"]=test_num[\"Fare\"].mean()\n",
    "except:\n",
    "    pass\n",
    "log_imp= LogisticRegression(max_iter=300)\n",
    "log_imp.fit(train_num,train_y)\n",
    "y_pred = log_imp.predict(test_num)"
   ]
  },
  {
   "cell_type": "code",
   "execution_count": 27,
   "id": "5141ade6",
   "metadata": {
    "execution": {
     "iopub.execute_input": "2022-07-28T01:36:20.919218Z",
     "iopub.status.busy": "2022-07-28T01:36:20.918524Z",
     "iopub.status.idle": "2022-07-28T01:36:20.926448Z",
     "shell.execute_reply": "2022-07-28T01:36:20.925559Z"
    },
    "papermill": {
     "duration": 0.02548,
     "end_time": "2022-07-28T01:36:20.929183",
     "exception": false,
     "start_time": "2022-07-28T01:36:20.903703",
     "status": "completed"
    },
    "tags": []
   },
   "outputs": [],
   "source": [
    "test[\"Survived\"]=y_pred\n",
    "#Output for checking\n",
    "Final_prediction=test[[\"PassengerId\",\"Survived\"]]\n",
    "Final_prediction.to_csv(\"submission.csv\",index=False)"
   ]
  },
  {
   "cell_type": "markdown",
   "id": "e5ceecb4",
   "metadata": {
    "papermill": {
     "duration": 0.01257,
     "end_time": "2022-07-28T01:36:20.960333",
     "exception": false,
     "start_time": "2022-07-28T01:36:20.947763",
     "status": "completed"
    },
    "tags": []
   },
   "source": [
    "With the initial Logistic Regression the percentage goes to the highest."
   ]
  }
 ],
 "metadata": {
  "kernelspec": {
   "display_name": "Python 3",
   "language": "python",
   "name": "python3"
  },
  "language_info": {
   "codemirror_mode": {
    "name": "ipython",
    "version": 3
   },
   "file_extension": ".py",
   "mimetype": "text/x-python",
   "name": "python",
   "nbconvert_exporter": "python",
   "pygments_lexer": "ipython3",
   "version": "3.7.12"
  },
  "papermill": {
   "default_parameters": {},
   "duration": 17.403102,
   "end_time": "2022-07-28T01:36:21.795147",
   "environment_variables": {},
   "exception": null,
   "input_path": "__notebook__.ipynb",
   "output_path": "__notebook__.ipynb",
   "parameters": {},
   "start_time": "2022-07-28T01:36:04.392045",
   "version": "2.3.4"
  }
 },
 "nbformat": 4,
 "nbformat_minor": 5
}
