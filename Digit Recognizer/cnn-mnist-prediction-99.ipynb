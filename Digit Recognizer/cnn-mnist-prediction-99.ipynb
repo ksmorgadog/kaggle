{
 "cells": [
  {
   "cell_type": "markdown",
   "id": "6ac921fa",
   "metadata": {
    "papermill": {
     "duration": 0.006729,
     "end_time": "2022-09-04T01:44:55.486445",
     "exception": false,
     "start_time": "2022-09-04T01:44:55.479716",
     "status": "completed"
    },
    "tags": []
   },
   "source": [
    "# Initial remarks\n",
    "\n",
    "This notebook was made as an combination of tools of the following work of the kaggle community in purpose to improve the overall prediction of digits of the MNIST database:\n",
    "\n",
    "1. [MNIST Digit Recognigtion 0.9974 With Tensorflow:](https://www.kaggle.com/code/peremartramanonellas/mnist-digit-recognigtion-0-9974-with-tensorflow) The main concepts regarding Image Augmentation were used with the function `ImageDataGenerator` from Keras.\n",
    "2. [mnist_simple_CNN:](https://www.kaggle.com/code/abanoubkased/mnist-simple-cnn) Main ideas of image analysis and overall structure from CNN\n",
    "3. Other Neural Networks and transformation to improve the overall score\n",
    "\n",
    "With these approaches it was registered a maximum prediction accuracy of 99.33%. \n",
    "\n",
    "As an initial point the main libraries were loaded, with the use of Tensorflow and Keras for the Neural Network construction and the pandas, numpy and matplotlib for data organization and plotting."
   ]
  },
  {
   "cell_type": "code",
   "execution_count": 1,
   "id": "dc9e8d0e",
   "metadata": {
    "_cell_guid": "b1076dfc-b9ad-4769-8c92-a6c4dae69d19",
    "_uuid": "8f2839f25d086af736a60e9eeb907d3b93b6e0e5",
    "execution": {
     "iopub.execute_input": "2022-09-04T01:44:55.498616Z",
     "iopub.status.busy": "2022-09-04T01:44:55.498110Z",
     "iopub.status.idle": "2022-09-04T01:45:01.733873Z",
     "shell.execute_reply": "2022-09-04T01:45:01.732675Z"
    },
    "papermill": {
     "duration": 6.245642,
     "end_time": "2022-09-04T01:45:01.737211",
     "exception": false,
     "start_time": "2022-09-04T01:44:55.491569",
     "status": "completed"
    },
    "tags": []
   },
   "outputs": [
    {
     "name": "stdout",
     "output_type": "stream",
     "text": [
      "/kaggle/input/digit-recognizer/sample_submission.csv\n",
      "/kaggle/input/digit-recognizer/train.csv\n",
      "/kaggle/input/digit-recognizer/test.csv\n"
     ]
    }
   ],
   "source": [
    "import numpy as np # Linear algebra\n",
    "import pandas as pd # Data processing\n",
    "import tensorflow as tf # Neural Network\n",
    "import matplotlib.pyplot as plt # Plotting tool\n",
    "from keras.preprocessing.image import ImageDataGenerator #Image augmentation\n",
    "import os\n",
    "for dirname, _, filenames in os.walk('/kaggle/input'):\n",
    "    for filename in filenames:\n",
    "        print(os.path.join(dirname, filename))"
   ]
  },
  {
   "cell_type": "markdown",
   "id": "c5449364",
   "metadata": {
    "papermill": {
     "duration": 0.004859,
     "end_time": "2022-09-04T01:45:01.748224",
     "exception": false,
     "start_time": "2022-09-04T01:45:01.743365",
     "status": "completed"
    },
    "tags": []
   },
   "source": [
    "Then, the test dataset was loaded, where the information was organized with two main types of columns:\n",
    "\n",
    "1. label: the reference for the classification model\n",
    "2. Pixels: 28x28 columns where the image data is consolidated."
   ]
  },
  {
   "cell_type": "code",
   "execution_count": 2,
   "id": "32dcc665",
   "metadata": {
    "execution": {
     "iopub.execute_input": "2022-09-04T01:45:01.760912Z",
     "iopub.status.busy": "2022-09-04T01:45:01.760207Z",
     "iopub.status.idle": "2022-09-04T01:45:05.176095Z",
     "shell.execute_reply": "2022-09-04T01:45:05.174880Z"
    },
    "papermill": {
     "duration": 3.425309,
     "end_time": "2022-09-04T01:45:05.179057",
     "exception": false,
     "start_time": "2022-09-04T01:45:01.753748",
     "status": "completed"
    },
    "tags": []
   },
   "outputs": [],
   "source": [
    "train=pd.read_csv(\"/kaggle/input/digit-recognizer/train.csv\")"
   ]
  },
  {
   "cell_type": "code",
   "execution_count": 3,
   "id": "edd2ffca",
   "metadata": {
    "execution": {
     "iopub.execute_input": "2022-09-04T01:45:05.190922Z",
     "iopub.status.busy": "2022-09-04T01:45:05.190503Z",
     "iopub.status.idle": "2022-09-04T01:45:05.217558Z",
     "shell.execute_reply": "2022-09-04T01:45:05.216394Z"
    },
    "papermill": {
     "duration": 0.035834,
     "end_time": "2022-09-04T01:45:05.220094",
     "exception": false,
     "start_time": "2022-09-04T01:45:05.184260",
     "status": "completed"
    },
    "tags": []
   },
   "outputs": [
    {
     "data": {
      "text/html": [
       "<div>\n",
       "<style scoped>\n",
       "    .dataframe tbody tr th:only-of-type {\n",
       "        vertical-align: middle;\n",
       "    }\n",
       "\n",
       "    .dataframe tbody tr th {\n",
       "        vertical-align: top;\n",
       "    }\n",
       "\n",
       "    .dataframe thead th {\n",
       "        text-align: right;\n",
       "    }\n",
       "</style>\n",
       "<table border=\"1\" class=\"dataframe\">\n",
       "  <thead>\n",
       "    <tr style=\"text-align: right;\">\n",
       "      <th></th>\n",
       "      <th>label</th>\n",
       "      <th>pixel0</th>\n",
       "      <th>pixel1</th>\n",
       "      <th>pixel2</th>\n",
       "      <th>pixel3</th>\n",
       "      <th>pixel4</th>\n",
       "      <th>pixel5</th>\n",
       "      <th>pixel6</th>\n",
       "      <th>pixel7</th>\n",
       "      <th>pixel8</th>\n",
       "      <th>...</th>\n",
       "      <th>pixel774</th>\n",
       "      <th>pixel775</th>\n",
       "      <th>pixel776</th>\n",
       "      <th>pixel777</th>\n",
       "      <th>pixel778</th>\n",
       "      <th>pixel779</th>\n",
       "      <th>pixel780</th>\n",
       "      <th>pixel781</th>\n",
       "      <th>pixel782</th>\n",
       "      <th>pixel783</th>\n",
       "    </tr>\n",
       "  </thead>\n",
       "  <tbody>\n",
       "    <tr>\n",
       "      <th>0</th>\n",
       "      <td>1</td>\n",
       "      <td>0</td>\n",
       "      <td>0</td>\n",
       "      <td>0</td>\n",
       "      <td>0</td>\n",
       "      <td>0</td>\n",
       "      <td>0</td>\n",
       "      <td>0</td>\n",
       "      <td>0</td>\n",
       "      <td>0</td>\n",
       "      <td>...</td>\n",
       "      <td>0</td>\n",
       "      <td>0</td>\n",
       "      <td>0</td>\n",
       "      <td>0</td>\n",
       "      <td>0</td>\n",
       "      <td>0</td>\n",
       "      <td>0</td>\n",
       "      <td>0</td>\n",
       "      <td>0</td>\n",
       "      <td>0</td>\n",
       "    </tr>\n",
       "    <tr>\n",
       "      <th>1</th>\n",
       "      <td>0</td>\n",
       "      <td>0</td>\n",
       "      <td>0</td>\n",
       "      <td>0</td>\n",
       "      <td>0</td>\n",
       "      <td>0</td>\n",
       "      <td>0</td>\n",
       "      <td>0</td>\n",
       "      <td>0</td>\n",
       "      <td>0</td>\n",
       "      <td>...</td>\n",
       "      <td>0</td>\n",
       "      <td>0</td>\n",
       "      <td>0</td>\n",
       "      <td>0</td>\n",
       "      <td>0</td>\n",
       "      <td>0</td>\n",
       "      <td>0</td>\n",
       "      <td>0</td>\n",
       "      <td>0</td>\n",
       "      <td>0</td>\n",
       "    </tr>\n",
       "    <tr>\n",
       "      <th>2</th>\n",
       "      <td>1</td>\n",
       "      <td>0</td>\n",
       "      <td>0</td>\n",
       "      <td>0</td>\n",
       "      <td>0</td>\n",
       "      <td>0</td>\n",
       "      <td>0</td>\n",
       "      <td>0</td>\n",
       "      <td>0</td>\n",
       "      <td>0</td>\n",
       "      <td>...</td>\n",
       "      <td>0</td>\n",
       "      <td>0</td>\n",
       "      <td>0</td>\n",
       "      <td>0</td>\n",
       "      <td>0</td>\n",
       "      <td>0</td>\n",
       "      <td>0</td>\n",
       "      <td>0</td>\n",
       "      <td>0</td>\n",
       "      <td>0</td>\n",
       "    </tr>\n",
       "    <tr>\n",
       "      <th>3</th>\n",
       "      <td>4</td>\n",
       "      <td>0</td>\n",
       "      <td>0</td>\n",
       "      <td>0</td>\n",
       "      <td>0</td>\n",
       "      <td>0</td>\n",
       "      <td>0</td>\n",
       "      <td>0</td>\n",
       "      <td>0</td>\n",
       "      <td>0</td>\n",
       "      <td>...</td>\n",
       "      <td>0</td>\n",
       "      <td>0</td>\n",
       "      <td>0</td>\n",
       "      <td>0</td>\n",
       "      <td>0</td>\n",
       "      <td>0</td>\n",
       "      <td>0</td>\n",
       "      <td>0</td>\n",
       "      <td>0</td>\n",
       "      <td>0</td>\n",
       "    </tr>\n",
       "    <tr>\n",
       "      <th>4</th>\n",
       "      <td>0</td>\n",
       "      <td>0</td>\n",
       "      <td>0</td>\n",
       "      <td>0</td>\n",
       "      <td>0</td>\n",
       "      <td>0</td>\n",
       "      <td>0</td>\n",
       "      <td>0</td>\n",
       "      <td>0</td>\n",
       "      <td>0</td>\n",
       "      <td>...</td>\n",
       "      <td>0</td>\n",
       "      <td>0</td>\n",
       "      <td>0</td>\n",
       "      <td>0</td>\n",
       "      <td>0</td>\n",
       "      <td>0</td>\n",
       "      <td>0</td>\n",
       "      <td>0</td>\n",
       "      <td>0</td>\n",
       "      <td>0</td>\n",
       "    </tr>\n",
       "  </tbody>\n",
       "</table>\n",
       "<p>5 rows × 785 columns</p>\n",
       "</div>"
      ],
      "text/plain": [
       "   label  pixel0  pixel1  pixel2  pixel3  pixel4  pixel5  pixel6  pixel7  \\\n",
       "0      1       0       0       0       0       0       0       0       0   \n",
       "1      0       0       0       0       0       0       0       0       0   \n",
       "2      1       0       0       0       0       0       0       0       0   \n",
       "3      4       0       0       0       0       0       0       0       0   \n",
       "4      0       0       0       0       0       0       0       0       0   \n",
       "\n",
       "   pixel8  ...  pixel774  pixel775  pixel776  pixel777  pixel778  pixel779  \\\n",
       "0       0  ...         0         0         0         0         0         0   \n",
       "1       0  ...         0         0         0         0         0         0   \n",
       "2       0  ...         0         0         0         0         0         0   \n",
       "3       0  ...         0         0         0         0         0         0   \n",
       "4       0  ...         0         0         0         0         0         0   \n",
       "\n",
       "   pixel780  pixel781  pixel782  pixel783  \n",
       "0         0         0         0         0  \n",
       "1         0         0         0         0  \n",
       "2         0         0         0         0  \n",
       "3         0         0         0         0  \n",
       "4         0         0         0         0  \n",
       "\n",
       "[5 rows x 785 columns]"
      ]
     },
     "execution_count": 3,
     "metadata": {},
     "output_type": "execute_result"
    }
   ],
   "source": [
    "train.head()"
   ]
  },
  {
   "cell_type": "markdown",
   "id": "8d5eecb9",
   "metadata": {
    "papermill": {
     "duration": 0.004972,
     "end_time": "2022-09-04T01:45:05.230449",
     "exception": false,
     "start_time": "2022-09-04T01:45:05.225477",
     "status": "completed"
    },
    "tags": []
   },
   "source": [
    "For analysis, the first 5 images of the dataset were plotted. As presented on the next cell the data is registered in color pixels, being important to change them to black and white for improving the model performance. This was accomplished by dividing all the values by 255."
   ]
  },
  {
   "cell_type": "code",
   "execution_count": 4,
   "id": "1cefc985",
   "metadata": {
    "execution": {
     "iopub.execute_input": "2022-09-04T01:45:05.243105Z",
     "iopub.status.busy": "2022-09-04T01:45:05.242384Z",
     "iopub.status.idle": "2022-09-04T01:45:06.059163Z",
     "shell.execute_reply": "2022-09-04T01:45:06.058074Z"
    },
    "papermill": {
     "duration": 0.8264,
     "end_time": "2022-09-04T01:45:06.062226",
     "exception": false,
     "start_time": "2022-09-04T01:45:05.235826",
     "status": "completed"
    },
    "tags": []
   },
   "outputs": [
    {
     "data": {
      "image/png": "[encoded data removed]",
      "text/plain": [
       "<Figure size 432x288 with 5 Axes>"
      ]
     },
     "metadata": {
      "needs_background": "light"
     },
     "output_type": "display_data"
    }
   ],
   "source": [
    "# Extracting first 5 columns\n",
    "picture_test=train.copy().head(5).drop(columns='label')  \n",
    "# Reshaping dataframe from numpy to fit the plotting requirements\n",
    "p_test=np.array(picture_test).reshape(-1,28,28,1)\n",
    "# Plotting resulting images\n",
    "for i in range(5):\n",
    "    plt.subplot(2,3,i+1)\n",
    "    plt.imshow(p_test[i])"
   ]
  },
  {
   "cell_type": "markdown",
   "id": "807bee93",
   "metadata": {
    "papermill": {
     "duration": 0.005186,
     "end_time": "2022-09-04T01:45:06.073371",
     "exception": false,
     "start_time": "2022-09-04T01:45:06.068185",
     "status": "completed"
    },
    "tags": []
   },
   "source": [
    "With these considerations the train labels were organized to fit the CNN modeling"
   ]
  },
  {
   "cell_type": "code",
   "execution_count": 5,
   "id": "78ac70a8",
   "metadata": {
    "execution": {
     "iopub.execute_input": "2022-09-04T01:45:06.085946Z",
     "iopub.status.busy": "2022-09-04T01:45:06.085566Z",
     "iopub.status.idle": "2022-09-04T01:45:06.240378Z",
     "shell.execute_reply": "2022-09-04T01:45:06.239415Z"
    },
    "papermill": {
     "duration": 0.164204,
     "end_time": "2022-09-04T01:45:06.242941",
     "exception": false,
     "start_time": "2022-09-04T01:45:06.078737",
     "status": "completed"
    },
    "tags": []
   },
   "outputs": [],
   "source": [
    "#Training data\n",
    "train_data=train.drop(columns='label')/255\n",
    "# Labels for training\n",
    "train_label=train[\"label\"]"
   ]
  },
  {
   "cell_type": "markdown",
   "id": "8420a52d",
   "metadata": {
    "papermill": {
     "duration": 0.005128,
     "end_time": "2022-09-04T01:45:06.253611",
     "exception": false,
     "start_time": "2022-09-04T01:45:06.248483",
     "status": "completed"
    },
    "tags": []
   },
   "source": [
    "# Model development\n",
    "\n",
    "As an additional tool, a Image Data Generator was used to increase te total availability of images, from simple rotation, zoom and shift range. Additional information could be consulted in  [Keras documentation](https://www.tensorflow.org/api_docs/python/tf/keras/preprocessing/image/ImageDataGenerator)."
   ]
  },
  {
   "cell_type": "code",
   "execution_count": 6,
   "id": "93bb8def",
   "metadata": {
    "execution": {
     "iopub.execute_input": "2022-09-04T01:45:06.266480Z",
     "iopub.status.busy": "2022-09-04T01:45:06.265764Z",
     "iopub.status.idle": "2022-09-04T01:45:06.270618Z",
     "shell.execute_reply": "2022-09-04T01:45:06.269700Z"
    },
    "papermill": {
     "duration": 0.013614,
     "end_time": "2022-09-04T01:45:06.272575",
     "exception": false,
     "start_time": "2022-09-04T01:45:06.258961",
     "status": "completed"
    },
    "tags": []
   },
   "outputs": [],
   "source": [
    "datagen = ImageDataGenerator(\n",
    "        rotation_range=5, #Degree from random rotations\n",
    "        zoom_range = 0.1, \n",
    "        width_shift_range=0.05, #Fraction of total width\n",
    "        height_shift_range=0.05 #Fraction of total height\n",
    ")  "
   ]
  },
  {
   "cell_type": "markdown",
   "id": "a2f36b5d",
   "metadata": {
    "papermill": {
     "duration": 0.005061,
     "end_time": "2022-09-04T01:45:06.283026",
     "exception": false,
     "start_time": "2022-09-04T01:45:06.277965",
     "status": "completed"
    },
    "tags": []
   },
   "source": [
    "With the variable `datagen` and with the training data the final variable that contains all the transformed images and their labels was saved in the `Train_gen` variable."
   ]
  },
  {
   "cell_type": "code",
   "execution_count": 7,
   "id": "41b9dd85",
   "metadata": {
    "execution": {
     "iopub.execute_input": "2022-09-04T01:45:06.295819Z",
     "iopub.status.busy": "2022-09-04T01:45:06.295098Z",
     "iopub.status.idle": "2022-09-04T01:45:07.316283Z",
     "shell.execute_reply": "2022-09-04T01:45:07.315125Z"
    },
    "papermill": {
     "duration": 1.030882,
     "end_time": "2022-09-04T01:45:07.319316",
     "exception": false,
     "start_time": "2022-09-04T01:45:06.288434",
     "status": "completed"
    },
    "tags": []
   },
   "outputs": [],
   "source": [
    "# Finding the mean of the data\n",
    "X_mean = np.array(train_data).reshape(-1, 28, 28, 1).mean(axis=0)\n",
    "# Fitting the current database (Columns and final label) to the ImageDataGenerator object\n",
    "datagen.fit(np.array(train_data).reshape(-1, 28, 28, 1) - X_mean)\n",
    "# Saving the information on the train_gen variable\n",
    "train_gen = datagen.flow(np.array(train_data).reshape(-1, 28, 28, 1), \n",
    "                         train_label, batch_size=100)"
   ]
  },
  {
   "cell_type": "markdown",
   "id": "59410285",
   "metadata": {
    "papermill": {
     "duration": 0.005378,
     "end_time": "2022-09-04T01:45:07.330665",
     "exception": false,
     "start_time": "2022-09-04T01:45:07.325287",
     "status": "completed"
    },
    "tags": []
   },
   "source": [
    "With these new data the Neural Model is presented on the next cell using the following types of layers:\n",
    "\n",
    "1. Convolution 2D\n",
    "2. Max pooling 2D\n",
    "3. Flatten\n",
    "4. Dense\n",
    "5. Dropout\n",
    "\n",
    "Alongside this, an Adam optimizer was used alongside the loss measured by `SparseCategoricalCrossentropy` and with accuracy as the main tool to visualize the system development."
   ]
  },
  {
   "cell_type": "code",
   "execution_count": 8,
   "id": "0adbb423",
   "metadata": {
    "execution": {
     "iopub.execute_input": "2022-09-04T01:45:07.343264Z",
     "iopub.status.busy": "2022-09-04T01:45:07.342838Z",
     "iopub.status.idle": "2022-09-04T01:45:07.521574Z",
     "shell.execute_reply": "2022-09-04T01:45:07.520384Z"
    },
    "papermill": {
     "duration": 0.187784,
     "end_time": "2022-09-04T01:45:07.523937",
     "exception": false,
     "start_time": "2022-09-04T01:45:07.336153",
     "status": "completed"
    },
    "tags": []
   },
   "outputs": [
    {
     "name": "stderr",
     "output_type": "stream",
     "text": [
      "2022-09-04 01:45:07.385471: I tensorflow/core/common_runtime/process_util.cc:146] Creating new thread pool with default inter op setting: 2. Tune using inter_op_parallelism_threads for best performance.\n"
     ]
    }
   ],
   "source": [
    "# Creation of neural network\n",
    "model = tf.keras.Sequential()\n",
    "# Image transformation and analysis\n",
    "model.add(tf.keras.layers.Conv2D(filters=32, kernel_size=[5,5], activation='relu', padding='same'))\n",
    "model.add(tf.keras.layers.MaxPool2D(pool_size=[2,2], strides=2))\n",
    "model.add(tf.keras.layers.Conv2D(filters=64, kernel_size=[5,5], padding='same', activation='relu'))\n",
    "model.add(tf.keras.layers.MaxPool2D(pool_size=[2,2], strides=2))\n",
    "model.add(tf.keras.layers.Flatten())\n",
    "model.add(tf.keras.layers.Dense(1024, activation='relu'))\n",
    "model.add(tf.keras.layers.Dropout(0.4))\n",
    "# Final prediction\n",
    "model.add(tf.keras.layers.Dense(10, activation='softmax'))\n",
    "\n",
    "# Compilator\n",
    "model.compile(\n",
    "      loss=tf.keras.losses.SparseCategoricalCrossentropy(),\n",
    "      optimizer=tf.keras.optimizers.Adam(),\n",
    "      metrics=[\"accuracy\"]\n",
    ")\n",
    "\n",
    "#Builing of the model with the related input shape\n",
    "model.build([None, 28, 28, 1])"
   ]
  },
  {
   "cell_type": "markdown",
   "id": "eabd8c82",
   "metadata": {
    "papermill": {
     "duration": 0.005183,
     "end_time": "2022-09-04T01:45:07.534860",
     "exception": false,
     "start_time": "2022-09-04T01:45:07.529677",
     "status": "completed"
    },
    "tags": []
   },
   "source": [
    "Then, the model is fitted with all the training data in the following code"
   ]
  },
  {
   "cell_type": "code",
   "execution_count": 9,
   "id": "f99ec3f6",
   "metadata": {
    "execution": {
     "iopub.execute_input": "2022-09-04T01:45:07.547683Z",
     "iopub.status.busy": "2022-09-04T01:45:07.546663Z",
     "iopub.status.idle": "2022-09-04T02:10:27.301874Z",
     "shell.execute_reply": "2022-09-04T02:10:27.300423Z"
    },
    "papermill": {
     "duration": 1520.288488,
     "end_time": "2022-09-04T02:10:27.828654",
     "exception": false,
     "start_time": "2022-09-04T01:45:07.540166",
     "status": "completed"
    },
    "tags": []
   },
   "outputs": [
    {
     "name": "stderr",
     "output_type": "stream",
     "text": [
      "2022-09-04 01:45:07.664869: I tensorflow/compiler/mlir/mlir_graph_optimization_pass.cc:185] None of the MLIR Optimization Passes are enabled (registered 2)\n"
     ]
    },
    {
     "name": "stdout",
     "output_type": "stream",
     "text": [
      "Epoch 1/20\n",
      "420/420 [==============================] - 44s 103ms/step - loss: 0.2097 - accuracy: 0.9345\n",
      "Epoch 2/20\n",
      "420/420 [==============================] - 43s 103ms/step - loss: 0.0648 - accuracy: 0.9799\n",
      "Epoch 3/20\n",
      "420/420 [==============================] - 43s 102ms/step - loss: 0.0467 - accuracy: 0.9849\n",
      "Epoch 4/20\n",
      "420/420 [==============================] - 43s 102ms/step - loss: 0.0379 - accuracy: 0.9879\n",
      "Epoch 5/20\n",
      "420/420 [==============================] - 42s 101ms/step - loss: 0.0325 - accuracy: 0.9893\n",
      "Epoch 6/20\n",
      "420/420 [==============================] - 42s 100ms/step - loss: 0.0280 - accuracy: 0.9909\n",
      "Epoch 7/20\n",
      "420/420 [==============================] - 42s 99ms/step - loss: 0.0266 - accuracy: 0.9913\n",
      "Epoch 8/20\n",
      "420/420 [==============================] - 42s 99ms/step - loss: 0.0233 - accuracy: 0.9928\n",
      "Epoch 9/20\n",
      "420/420 [==============================] - 42s 100ms/step - loss: 0.0218 - accuracy: 0.9929\n",
      "Epoch 10/20\n",
      "420/420 [==============================] - 42s 99ms/step - loss: 0.0205 - accuracy: 0.9934\n",
      "Epoch 11/20\n",
      "420/420 [==============================] - 41s 99ms/step - loss: 0.0194 - accuracy: 0.9935\n",
      "Epoch 12/20\n",
      "420/420 [==============================] - 42s 100ms/step - loss: 0.0192 - accuracy: 0.9941\n",
      "Epoch 13/20\n",
      "420/420 [==============================] - 42s 99ms/step - loss: 0.0158 - accuracy: 0.9950\n",
      "Epoch 14/20\n",
      "420/420 [==============================] - 41s 98ms/step - loss: 0.0180 - accuracy: 0.9943\n",
      "Epoch 15/20\n",
      "420/420 [==============================] - 42s 99ms/step - loss: 0.0127 - accuracy: 0.9959\n",
      "Epoch 16/20\n",
      "420/420 [==============================] - 41s 98ms/step - loss: 0.0150 - accuracy: 0.9949\n",
      "Epoch 17/20\n",
      "420/420 [==============================] - 41s 98ms/step - loss: 0.0159 - accuracy: 0.9949\n",
      "Epoch 18/20\n",
      "420/420 [==============================] - 42s 100ms/step - loss: 0.0128 - accuracy: 0.9957\n",
      "Epoch 19/20\n",
      "420/420 [==============================] - 42s 99ms/step - loss: 0.0131 - accuracy: 0.9953\n",
      "Epoch 20/20\n",
      "420/420 [==============================] - 42s 100ms/step - loss: 0.0116 - accuracy: 0.9961\n"
     ]
    },
    {
     "data": {
      "text/plain": [
       "<keras.callbacks.History at 0x7f0cfcbc76d0>"
      ]
     },
     "execution_count": 9,
     "metadata": {},
     "output_type": "execute_result"
    }
   ],
   "source": [
    "model.fit(train_gen,epochs=20)"
   ]
  },
  {
   "cell_type": "code",
   "execution_count": 10,
   "id": "328b7675",
   "metadata": {
    "execution": {
     "iopub.execute_input": "2022-09-04T02:10:28.878312Z",
     "iopub.status.busy": "2022-09-04T02:10:28.877894Z",
     "iopub.status.idle": "2022-09-04T02:10:28.882590Z",
     "shell.execute_reply": "2022-09-04T02:10:28.881572Z"
    },
    "papermill": {
     "duration": 0.532849,
     "end_time": "2022-09-04T02:10:28.884999",
     "exception": false,
     "start_time": "2022-09-04T02:10:28.352150",
     "status": "completed"
    },
    "tags": []
   },
   "outputs": [],
   "source": [
    "#tf.one_hot(np.array(train_label), 10)"
   ]
  },
  {
   "cell_type": "markdown",
   "id": "741e9a85",
   "metadata": {
    "papermill": {
     "duration": 0.520967,
     "end_time": "2022-09-04T02:10:29.988690",
     "exception": false,
     "start_time": "2022-09-04T02:10:29.467723",
     "status": "completed"
    },
    "tags": []
   },
   "source": [
    "Finally, the test data is loaded with the same 255 division for improving the mode performance and the trained model is used for classifing them."
   ]
  },
  {
   "cell_type": "code",
   "execution_count": 11,
   "id": "77c30155",
   "metadata": {
    "execution": {
     "iopub.execute_input": "2022-09-04T02:10:31.097158Z",
     "iopub.status.busy": "2022-09-04T02:10:31.096769Z",
     "iopub.status.idle": "2022-09-04T02:10:33.346719Z",
     "shell.execute_reply": "2022-09-04T02:10:33.345160Z"
    },
    "papermill": {
     "duration": 2.838571,
     "end_time": "2022-09-04T02:10:33.349468",
     "exception": false,
     "start_time": "2022-09-04T02:10:30.510897",
     "status": "completed"
    },
    "tags": []
   },
   "outputs": [],
   "source": [
    "test=pd.read_csv(\"/kaggle/input/digit-recognizer/test.csv\")/255"
   ]
  },
  {
   "cell_type": "code",
   "execution_count": 12,
   "id": "d292cde0",
   "metadata": {
    "execution": {
     "iopub.execute_input": "2022-09-04T02:10:34.412678Z",
     "iopub.status.busy": "2022-09-04T02:10:34.411405Z",
     "iopub.status.idle": "2022-09-04T02:10:42.893309Z",
     "shell.execute_reply": "2022-09-04T02:10:42.892226Z"
    },
    "papermill": {
     "duration": 9.014441,
     "end_time": "2022-09-04T02:10:42.896059",
     "exception": false,
     "start_time": "2022-09-04T02:10:33.881618",
     "status": "completed"
    },
    "tags": []
   },
   "outputs": [],
   "source": [
    "# Prediction\n",
    "predictions = model.predict(tf.reshape(test, [-1, 28, 28, 1]))\n",
    "# Change to relate the results to the exact integer\n",
    "predictions = tf.math.argmax(predictions, axis = -1)\n",
    "# Passing information to dataframe\n",
    "predictions = pd.Series(predictions, name='Label')\n",
    "# Labels of images (Ids)\n",
    "image_id = pd.Series(range(1,28001), name = 'ImageId')\n",
    "# Final Dataframe and CSV submission\n",
    "predictions = pd.concat([image_id, predictions], axis = 1)\n",
    "predictions.to_csv('submission.csv', index=False)"
   ]
  }
 ],
 "metadata": {
  "kernelspec": {
   "display_name": "Python 3",
   "language": "python",
   "name": "python3"
  },
  "language_info": {
   "codemirror_mode": {
    "name": "ipython",
    "version": 3
   },
   "file_extension": ".py",
   "mimetype": "text/x-python",
   "name": "python",
   "nbconvert_exporter": "python",
   "pygments_lexer": "ipython3",
   "version": "3.7.12"
  },
  "papermill": {
   "default_parameters": {},
   "duration": 1560.666773,
   "end_time": "2022-09-04T02:10:46.934176",
   "environment_variables": {},
   "exception": null,
   "input_path": "__notebook__.ipynb",
   "output_path": "__notebook__.ipynb",
   "parameters": {},
   "start_time": "2022-09-04T01:44:46.267403",
   "version": "2.3.4"
  }
 },
 "nbformat": 4,
 "nbformat_minor": 5
}
